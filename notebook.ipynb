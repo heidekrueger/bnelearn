{
 "cells": [
  {
   "cell_type": "code",
   "execution_count": 1,
   "metadata": {},
   "outputs": [],
   "source": [
    "import torch\n",
    "import torch.nn as nn\n",
    "import torch.nn.utils as ut\n",
    "from torch.optim.optimizer import Optimizer, required"
   ]
  },
  {
   "cell_type": "code",
   "execution_count": 2,
   "metadata": {},
   "outputs": [],
   "source": [
    "from collections import Iterable, deque\n",
    "from copy import deepcopy\n",
    "import numpy as np\n",
    "import matplotlib.pyplot as plt"
   ]
  },
  {
   "cell_type": "code",
   "execution_count": 3,
   "metadata": {},
   "outputs": [],
   "source": [
    "from bnelearn.strategy import NeuralNetStrategy, TruthfulStrategy\n",
    "from bnelearn.bidder import Bidder\n",
    "from bnelearn.mechanism import FirstPriceSealedBidAuction, VickreyAuction\n",
    "from bnelearn.optimizer import ES\n",
    "from bnelearn.environment import Environment"
   ]
  },
  {
   "cell_type": "code",
   "execution_count": 4,
   "metadata": {},
   "outputs": [],
   "source": [
    "hidden_layer = 10\n",
    "batch_size = 5\n",
    "u_lo = 0\n",
    "u_hi = 10\n",
    "n_players = 2\n",
    "n_items = 1\n",
    "\n",
    "epochs = 1"
   ]
  },
  {
   "cell_type": "code",
   "execution_count": 5,
   "metadata": {},
   "outputs": [],
   "source": [
    "model = NeuralNetStrategy(2, hidden_layer).cuda()"
   ]
  },
  {
   "cell_type": "code",
   "execution_count": 6,
   "metadata": {},
   "outputs": [],
   "source": [
    "mechanism = FirstPriceSealedBidAuction(cuda=True)"
   ]
  },
  {
   "cell_type": "code",
   "execution_count": 7,
   "metadata": {},
   "outputs": [],
   "source": [
    "optimizer = torch.optim.SGD(model.parameters(), lr=.01)"
   ]
  },
  {
   "cell_type": "code",
   "execution_count": 8,
   "metadata": {},
   "outputs": [],
   "source": [
    "p1 =Bidder.uniform(u_lo,u_hi, model, batch_size = batch_size, n_players=2)"
   ]
  },
  {
   "cell_type": "code",
   "execution_count": 9,
   "metadata": {},
   "outputs": [],
   "source": [
    "p2 = Bidder.uniform(u_lo,u_hi, model, batch_size = batch_size, n_players=2)"
   ]
  },
  {
   "cell_type": "code",
   "execution_count": 10,
   "metadata": {},
   "outputs": [],
   "source": [
    "p1.draw_valuations_(), p2.draw_valuations_();"
   ]
  },
  {
   "cell_type": "code",
   "execution_count": 11,
   "metadata": {},
   "outputs": [],
   "source": [
    "b1 = p1.get_action()\n",
    "b2 = p2.get_action()"
   ]
  },
  {
   "cell_type": "code",
   "execution_count": 12,
   "metadata": {},
   "outputs": [
    {
     "name": "stdout",
     "output_type": "stream",
     "text": [
      "epoch  0 avg bid 0.0 0.0 utility 0.0 0.0\n"
     ]
    }
   ],
   "source": [
    "for epoch in range(epochs):\n",
    "    # draw new valuations and bids\n",
    "    p1.draw_valuations_(), p2.draw_valuations_()    \n",
    "    b1 = p1.get_action()\n",
    "    b2 = p2.get_action()    \n",
    "    bids = torch.cat((b1,b2), 1).view(batch_size, n_players, 1)\n",
    "    \n",
    "    # run the auction and calculate utilities\n",
    "    alloc, pay = mechanism.run(bids)\n",
    "    \n",
    "    u1 = p1.get_utility(alloc[:,0,:], pay[:,0]).mean()\n",
    "    u2 = p2.get_utility(alloc[:,1,:], pay[:,1]).mean()\n",
    "\n",
    "    loss = -u2\n",
    "    \n",
    "    if epoch % 50 == 0:\n",
    "        print('epoch ', epoch, 'avg bid', (b1/p1.valuations).mean().item(), (b2/p2.valuations).mean().item(), 'utility', u1.item(), u2.item() )\n",
    "    \n",
    "    # propagate loss and update parameters   \n",
    "    \n",
    "    loss.backward()\n",
    "    optimizer.step()\n",
    "    optimizer.zero_grad()"
   ]
  },
  {
   "cell_type": "markdown",
   "metadata": {},
   "source": [
    "# Same with ES"
   ]
  },
  {
   "cell_type": "code",
   "execution_count": 13,
   "metadata": {},
   "outputs": [],
   "source": [
    "u_lo =0\n",
    "u_hi =10"
   ]
  },
  {
   "cell_type": "code",
   "execution_count": 14,
   "metadata": {},
   "outputs": [],
   "source": [
    "def strat_to_bidder(strategy, batch_size):\n",
    "    return Bidder.uniform(u_lo,u_hi, strategy, batch_size = batch_size, n_players=2)"
   ]
  },
  {
   "cell_type": "code",
   "execution_count": 65,
   "metadata": {},
   "outputs": [],
   "source": [
    "model = NeuralNetStrategy(2, hidden_layer).cuda()\n",
    "#model = TruthfulStrategy(2).cuda()"
   ]
  },
  {
   "cell_type": "code",
   "execution_count": null,
   "metadata": {},
   "outputs": [],
   "source": []
  },
  {
   "cell_type": "code",
   "execution_count": 66,
   "metadata": {},
   "outputs": [],
   "source": [
    "#mechanism = FirstPriceSealedBidAuction(cuda=True)\n",
    "mechanism = VickreyAuction(cuda=True)"
   ]
  },
  {
   "cell_type": "code",
   "execution_count": 67,
   "metadata": {},
   "outputs": [],
   "source": [
    "batch_size = 2**16+2**15"
   ]
  },
  {
   "cell_type": "code",
   "execution_count": 68,
   "metadata": {},
   "outputs": [],
   "source": [
    "env = Environment(mechanism, [], max_env_size=1, batch_size=batch_size,\n",
    "                  n_players=2, strategy_to_bidder_closure=strat_to_bidder)\n"
   ]
  },
  {
   "cell_type": "code",
   "execution_count": 69,
   "metadata": {},
   "outputs": [],
   "source": [
    "static_env = Environment(mechanism, [Bidder.uniform(u_lo,u_hi, TruthfulStrategy(2), batch_size=batch_size, n_players=2)],\n",
    "                         max_env_size=1, batch_size=batch_size, n_players=2, strategy_to_bidder_closure=strat_to_bidder)"
   ]
  },
  {
   "cell_type": "code",
   "execution_count": 70,
   "metadata": {},
   "outputs": [],
   "source": [
    "es = ES(model=model, environment=static_env, lr=1e-2, sigma=.1, n_perturbations= 64, env_type='fixed')"
   ]
  },
  {
   "cell_type": "code",
   "execution_count": 71,
   "metadata": {},
   "outputs": [],
   "source": [
    "from tensorboardX import SummaryWriter"
   ]
  },
  {
   "cell_type": "code",
   "execution_count": 72,
   "metadata": {},
   "outputs": [],
   "source": [
    "writer = SummaryWriter()"
   ]
  },
  {
   "cell_type": "code",
   "execution_count": 73,
   "metadata": {
    "scrolled": false
   },
   "outputs": [],
   "source": [
    "epoch=5001\n",
    "start_epoch=1000\n",
    "plot_points = min(200, batch_size)"
   ]
  },
  {
   "cell_type": "code",
   "execution_count": null,
   "metadata": {
    "scrolled": true
   },
   "outputs": [
    {
     "name": "stdout",
     "output_type": "stream",
     "text": [
      "Epoch 1000: \tavg bid: 0.031079, \tutility: 0.121198 \n"
     ]
    },
    {
     "data": {
      "image/png": "[encoded data removed]",
      "text/plain": [
       "<Figure size 432x288 with 1 Axes>"
      ]
     },
     "metadata": {
      "needs_background": "light"
     },
     "output_type": "display_data"
    }
   ],
   "source": [
    "for e in range(epoch):\n",
    "    if e%100==0:        \n",
    "        bidder = strat_to_bidder(model, batch_size)\n",
    "        bidder.draw_valuations_()\n",
    "        v = bidder.valuations.detach().cpu().numpy()[:plot_points]\n",
    "        b = bidder.get_action().detach().cpu().numpy()[:plot_points]\n",
    "        optimal = v\n",
    "        share = (bidder.get_action() / bidder.valuations).mean()\n",
    "        writer.add_graph(model, torch.cat((bidder.valuations,\n",
    "                                           torch.zeros_like(bidder.valuations)+2),\n",
    "                                          dim=1))\n",
    "        print(\"Epoch {}: \\tavg bid: {:2f}, \\tutility: {:2f} \".format(\n",
    "            start_epoch + e, share.item(),-es.step().item())\n",
    "             )\n",
    "        plt.plot(v,b, 'o', v, optimal, 'r-')\n",
    "        plt.show()\n",
    "    else: es.step()    "
   ]
  },
  {
   "cell_type": "code",
   "execution_count": 25,
   "metadata": {},
   "outputs": [
    {
     "data": {
      "text/plain": [
       "tensor([[5.3119]], device='cuda:0', grad_fn=<ReluBackward>)"
      ]
     },
     "execution_count": 25,
     "metadata": {},
     "output_type": "execute_result"
    }
   ],
   "source": [
    "model.forward(torch.tensor([[5.,2]], device='cuda'))"
   ]
  },
  {
   "cell_type": "markdown",
   "metadata": {},
   "source": [
    "# two truthful agents meet"
   ]
  },
  {
   "cell_type": "code",
   "execution_count": 64,
   "metadata": {},
   "outputs": [],
   "source": [
    "del es"
   ]
  },
  {
   "cell_type": "code",
   "execution_count": 26,
   "metadata": {},
   "outputs": [
    {
     "name": "stdout",
     "output_type": "stream",
     "text": [
      "utilities: 1.6639, 1.6645\n"
     ]
    }
   ],
   "source": [
    "batch_size=500000\n",
    "p1 = Bidder.uniform(0,10, strategy=TruthfulStrategy(1), batch_size=batch_size)\n",
    "p2 = Bidder.uniform(0,10, strategy=TruthfulStrategy(1), batch_size=batch_size)\n",
    "\n",
    "p1.draw_valuations_()\n",
    "p2.draw_valuations_()\n",
    "b1 = p1.get_action()\n",
    "b2 = p2.get_action()\n",
    "\n",
    "bids = torch.cat((b1,b2), 1).view(batch_size, n_players, 1)\n",
    "    \n",
    "    # run the auction and calculate utilities\n",
    "alloc, pay = mechanism.run(bids)\n",
    "    \n",
    "u1 = p1.get_utility(alloc[:,0,:], pay[:,0]).mean()\n",
    "u2 = p2.get_utility(alloc[:,1,:], pay[:,1]).mean()\n",
    "print(\"utilities: {:.4f}, {:.4f}\".format(u1.item(), u2.item()))"
   ]
  },
  {
   "cell_type": "code",
   "execution_count": 27,
   "metadata": {},
   "outputs": [
    {
     "data": {
      "text/plain": [
       "524288"
      ]
     },
     "execution_count": 27,
     "metadata": {},
     "output_type": "execute_result"
    }
   ],
   "source": [
    "2**19"
   ]
  },
  {
   "cell_type": "code",
   "execution_count": 31,
   "metadata": {},
   "outputs": [
    {
     "data": {
      "text/plain": [
       "tensor([[5.3736],\n",
       "        [6.8052],\n",
       "        [3.2270],\n",
       "        [7.0399],\n",
       "        [4.6015],\n",
       "        [5.9156],\n",
       "        [4.5985],\n",
       "        [4.1626],\n",
       "        [3.1723],\n",
       "        [6.6820]], device='cuda:0')"
      ]
     },
     "execution_count": 31,
     "metadata": {},
     "output_type": "execute_result"
    }
   ],
   "source": [
    "es.environment.agents[0].valuations[:10]"
   ]
  },
  {
   "cell_type": "code",
   "execution_count": null,
   "metadata": {},
   "outputs": [],
   "source": []
  }
 ],
 "metadata": {
  "kernelspec": {
   "display_name": "Python 3",
   "language": "python",
   "name": "python3"
  },
  "language_info": {
   "codemirror_mode": {
    "name": "ipython",
    "version": 3
   },
   "file_extension": ".py",
   "mimetype": "text/x-python",
   "name": "python",
   "nbconvert_exporter": "python",
   "pygments_lexer": "ipython3",
   "version": "3.7.0"
  }
 },
 "nbformat": 4,
 "nbformat_minor": 2
}
