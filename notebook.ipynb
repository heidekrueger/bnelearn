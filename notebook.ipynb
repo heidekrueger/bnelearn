{
 "cells": [
  {
   "cell_type": "code",
   "execution_count": 1,
   "metadata": {},
   "outputs": [],
   "source": [
    "import torch\n",
    "import torch.nn as nn"
   ]
  },
  {
   "cell_type": "code",
   "execution_count": 2,
   "metadata": {},
   "outputs": [],
   "source": [
    "from bnelearn.strategy import NeuralNetStrategy\n",
    "from bnelearn.bidder import Bidder\n",
    "from bnelearn.mechanism import FirstPriceSealedBidAuction"
   ]
  },
  {
   "cell_type": "code",
   "execution_count": 3,
   "metadata": {},
   "outputs": [],
   "source": [
    "from copy import deepcopy"
   ]
  },
  {
   "cell_type": "code",
   "execution_count": 4,
   "metadata": {},
   "outputs": [],
   "source": [
    "hidden_layer = 10\n",
    "batch_size = 10\n",
    "u_lo = 0\n",
    "u_hi = 10\n",
    "n_players = 2\n",
    "n_items = 1\n",
    "\n",
    "epochs = 100"
   ]
  },
  {
   "cell_type": "code",
   "execution_count": 5,
   "metadata": {},
   "outputs": [],
   "source": [
    "model = NeuralNetStrategy(2, hidden_layer).cuda()"
   ]
  },
  {
   "cell_type": "code",
   "execution_count": 6,
   "metadata": {},
   "outputs": [],
   "source": [
    "mechanism = FirstPriceSealedBidAuction(cuda=True)"
   ]
  },
  {
   "cell_type": "code",
   "execution_count": 7,
   "metadata": {},
   "outputs": [],
   "source": [
    "optimizer = torch.optim.SGD(model.parameters(), lr=.01)"
   ]
  },
  {
   "cell_type": "code",
   "execution_count": 8,
   "metadata": {},
   "outputs": [],
   "source": [
    "p1 =Bidder.uniform(u_lo,u_hi, model, batch_size = batch_size, n_players=2)"
   ]
  },
  {
   "cell_type": "code",
   "execution_count": 9,
   "metadata": {},
   "outputs": [],
   "source": [
    "p2 = Bidder.uniform(u_lo,u_hi, model, batch_size = batch_size, n_players=2)"
   ]
  },
  {
   "cell_type": "code",
   "execution_count": 10,
   "metadata": {},
   "outputs": [],
   "source": [
    "p1.draw_valuations_(), p2.draw_valuations_();"
   ]
  },
  {
   "cell_type": "code",
   "execution_count": 11,
   "metadata": {},
   "outputs": [],
   "source": [
    "b1 = p1.get_action()\n",
    "b2 = p2.get_action()"
   ]
  },
  {
   "cell_type": "code",
   "execution_count": 12,
   "metadata": {},
   "outputs": [
    {
     "name": "stdout",
     "output_type": "stream",
     "text": [
      "epoch  0 avg bid 0.0050779846496880054 0.0 utility 4.884816646575928 0.0\n",
      "epoch  50 avg bid 0.0 0.0 utility 5.5091118812561035 0.0\n"
     ]
    }
   ],
   "source": [
    "for epoch in range(epochs):\n",
    "    # draw new valuations and bids\n",
    "    p1.draw_valuations_(), p2.draw_valuations_()    \n",
    "    b1 = p1.get_action()\n",
    "    b2 = p2.get_action()    \n",
    "    bids = torch.cat((b1,b2), 1).view(batch_size, n_players, 1)\n",
    "    \n",
    "    # run the auction and calculate utilities\n",
    "    alloc, pay = mechanism.run(bids)\n",
    "    \n",
    "    u1 = p1.get_utility(alloc[:,0,:], pay[:,0]).mean()\n",
    "    u2 = p2.get_utility(alloc[:,1,:], pay[:,1]).mean()\n",
    "\n",
    "    loss = -u2\n",
    "    \n",
    "    if epoch % 50 == 0:\n",
    "        print('epoch ', epoch, 'avg bid', (b1/p1.valuations).mean().item(), (b2/p2.valuations).mean().item(), 'utility', u1.item(), u2.item() )\n",
    "    \n",
    "    # propagate loss and update parameters   \n",
    "    \n",
    "    loss.backward()\n",
    "    optimizer.step()\n",
    "    optimizer.zero_grad()"
   ]
  },
  {
   "cell_type": "markdown",
   "metadata": {},
   "source": [
    "# Same with ES"
   ]
  },
  {
   "cell_type": "code",
   "execution_count": 13,
   "metadata": {},
   "outputs": [],
   "source": [
    "from collections import Iterable, deque\n",
    "import torch\n",
    "from torch.optim.optimizer import Optimizer, required\n",
    "from copy import deepcopy"
   ]
  },
  {
   "cell_type": "code",
   "execution_count": 14,
   "metadata": {},
   "outputs": [],
   "source": [
    "import torch.nn.utils as ut"
   ]
  },
  {
   "cell_type": "code",
   "execution_count": 15,
   "metadata": {},
   "outputs": [],
   "source": [
    "from bnelearn.optimizer import ES\n",
    "from bnelearn.environment import Environment"
   ]
  },
  {
   "cell_type": "code",
   "execution_count": 16,
   "metadata": {},
   "outputs": [],
   "source": [
    "u_lo =0\n",
    "u_hi =10"
   ]
  },
  {
   "cell_type": "code",
   "execution_count": 17,
   "metadata": {},
   "outputs": [],
   "source": [
    "def strat_to_bidder(strategy, batch_size):\n",
    "    return Bidder.uniform(u_lo,u_hi, strategy, batch_size = batch_size, n_players=2)"
   ]
  },
  {
   "cell_type": "code",
   "execution_count": 18,
   "metadata": {},
   "outputs": [],
   "source": [
    "from bnelearn.strategy import TruthfulStrategy"
   ]
  },
  {
   "cell_type": "code",
   "execution_count": 19,
   "metadata": {},
   "outputs": [],
   "source": [
    "model = NeuralNetStrategy(2, hidden_layer).cuda()\n",
    "#model = TruthfulStrategy(2).cuda()"
   ]
  },
  {
   "cell_type": "code",
   "execution_count": 20,
   "metadata": {},
   "outputs": [],
   "source": [
    "mechanism = FirstPriceSealedBidAuction(cuda=True)"
   ]
  },
  {
   "cell_type": "code",
   "execution_count": 21,
   "metadata": {},
   "outputs": [],
   "source": [
    "batch_size = 1024"
   ]
  },
  {
   "cell_type": "code",
   "execution_count": 22,
   "metadata": {},
   "outputs": [],
   "source": [
    "env = Environment(mechanism, [], max_env_size=1, batch_size=batch_size,\n",
    "                  n_players=2, strategy_to_bidder_closure=strat_to_bidder)"
   ]
  },
  {
   "cell_type": "code",
   "execution_count": 23,
   "metadata": {},
   "outputs": [],
   "source": [
    "es = ES(model=model, environment=env, lr=3e-3, sigma=.01, n_perturbations= 64)"
   ]
  },
  {
   "cell_type": "code",
   "execution_count": 24,
   "metadata": {
    "scrolled": false
   },
   "outputs": [],
   "source": [
    "epoch=1001"
   ]
  },
  {
   "cell_type": "code",
   "execution_count": null,
   "metadata": {
    "scrolled": true
   },
   "outputs": [
    {
     "name": "stdout",
     "output_type": "stream",
     "text": [
      "epoch 0\n",
      "\tbid: 0.026136\n",
      "\tutility: 3.314161\n",
      "epoch 25\n",
      "\tbid: 0.041353\n",
      "\tutility: 3.075154\n",
      "epoch 50\n",
      "\tbid: 0.058430\n",
      "\tutility: 3.311540\n"
     ]
    }
   ],
   "source": [
    "for e in range(epoch):\n",
    "    if e%25==0:\n",
    "        print(\"epoch {}\".format(e))\n",
    "        bidder = strat_to_bidder(model, batch_size)\n",
    "        bidder.draw_valuations_()\n",
    "        share = (bidder.get_action() / bidder.valuations).mean()\n",
    "        print(\"\\tbid: {:2f}\".format(share.item()))\n",
    "        print(\"\\tutility: {:2f}\".format(-es.step().item()))\n",
    "    else: es.step()\n",
    "    "
   ]
  },
  {
   "cell_type": "code",
   "execution_count": null,
   "metadata": {},
   "outputs": [],
   "source": []
  }
 ],
 "metadata": {
  "kernelspec": {
   "display_name": "Python 3",
   "language": "python",
   "name": "python3"
  },
  "language_info": {
   "codemirror_mode": {
    "name": "ipython",
    "version": 3
   },
   "file_extension": ".py",
   "mimetype": "text/x-python",
   "name": "python",
   "nbconvert_exporter": "python",
   "pygments_lexer": "ipython3",
   "version": "3.7.0"
  }
 },
 "nbformat": 4,
 "nbformat_minor": 2
}
