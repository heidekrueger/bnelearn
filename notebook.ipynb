{
 "cells": [
  {
   "cell_type": "code",
   "execution_count": 1,
   "metadata": {},
   "outputs": [],
   "source": [
    "import torch\n",
    "import torch.nn as nn"
   ]
  },
  {
   "cell_type": "code",
   "execution_count": 2,
   "metadata": {},
   "outputs": [],
   "source": [
    "from bnelearn.strategy import NeuralNetStrategy\n",
    "from bnelearn.bidder import Bidder\n",
    "from bnelearn.mechanism import FirstPriceSealedBidAuction"
   ]
  },
  {
   "cell_type": "code",
   "execution_count": 3,
   "metadata": {},
   "outputs": [],
   "source": [
    "from copy import deepcopy"
   ]
  },
  {
   "cell_type": "code",
   "execution_count": 4,
   "metadata": {},
   "outputs": [],
   "source": [
    "hidden_layer = 10\n",
    "batch_size = 10\n",
    "u_lo = 0\n",
    "u_hi = 10\n",
    "n_players = 2\n",
    "n_items = 1\n",
    "\n",
    "epochs = 100"
   ]
  },
  {
   "cell_type": "code",
   "execution_count": 5,
   "metadata": {},
   "outputs": [],
   "source": [
    "model = NeuralNetStrategy(2, hidden_layer).cuda()"
   ]
  },
  {
   "cell_type": "code",
   "execution_count": 6,
   "metadata": {},
   "outputs": [],
   "source": [
    "mechanism = FirstPriceSealedBidAuction(cuda=True)"
   ]
  },
  {
   "cell_type": "code",
   "execution_count": 7,
   "metadata": {},
   "outputs": [],
   "source": [
    "optimizer = torch.optim.SGD(model.parameters(), lr=.01)"
   ]
  },
  {
   "cell_type": "code",
   "execution_count": 8,
   "metadata": {},
   "outputs": [],
   "source": [
    "p1 =Bidder.uniform(u_lo,u_hi, model, batch_size = batch_size, n_players=2)"
   ]
  },
  {
   "cell_type": "code",
   "execution_count": 9,
   "metadata": {},
   "outputs": [],
   "source": [
    "p2 = Bidder.uniform(u_lo,u_hi, model, batch_size = batch_size, n_players=2)"
   ]
  },
  {
   "cell_type": "code",
   "execution_count": 10,
   "metadata": {},
   "outputs": [],
   "source": [
    "p1.draw_valuations_(), p2.draw_valuations_();"
   ]
  },
  {
   "cell_type": "code",
   "execution_count": 11,
   "metadata": {},
   "outputs": [],
   "source": [
    "b1 = p1.get_action()\n",
    "b2 = p2.get_action()"
   ]
  },
  {
   "cell_type": "code",
   "execution_count": 12,
   "metadata": {},
   "outputs": [
    {
     "name": "stdout",
     "output_type": "stream",
     "text": [
      "epoch  0 avg bid 0.08133896440267563 0.10861232131719589 utility 2.9149539470672607 1.2897067070007324\n",
      "epoch  50 avg bid 0.0007957854541018605 0.0068199606612324715 utility 3.4529941082000732 1.0677425861358643\n"
     ]
    }
   ],
   "source": [
    "for epoch in range(epochs):\n",
    "    # draw new valuations and bids\n",
    "    p1.draw_valuations_(), p2.draw_valuations_()    \n",
    "    b1 = p1.get_action()\n",
    "    b2 = p2.get_action()    \n",
    "    bids = torch.cat((b1,b2), 1).view(batch_size, n_players, 1)\n",
    "    \n",
    "    # run the auction and calculate utilities\n",
    "    alloc, pay = mechanism.run(bids)\n",
    "    \n",
    "    u1 = p1.get_utility(alloc[:,0,:], pay[:,0]).mean()\n",
    "    u2 = p2.get_utility(alloc[:,1,:], pay[:,1]).mean()\n",
    "\n",
    "    loss = -u2\n",
    "    \n",
    "    if epoch % 50 == 0:\n",
    "        print('epoch ', epoch, 'avg bid', (b1/p1.valuations).mean().item(), (b2/p2.valuations).mean().item(), 'utility', u1.item(), u2.item() )\n",
    "    \n",
    "    # propagate loss and update parameters   \n",
    "    \n",
    "    loss.backward()\n",
    "    optimizer.step()\n",
    "    optimizer.zero_grad()"
   ]
  },
  {
   "cell_type": "code",
   "execution_count": 13,
   "metadata": {},
   "outputs": [
    {
     "data": {
      "text/plain": [
       "torch.Size([10, 2, 1])"
      ]
     },
     "execution_count": 13,
     "metadata": {},
     "output_type": "execute_result"
    }
   ],
   "source": [
    "alloc.shape"
   ]
  },
  {
   "cell_type": "markdown",
   "metadata": {},
   "source": [
    "# Same with ES"
   ]
  },
  {
   "cell_type": "code",
   "execution_count": null,
   "metadata": {},
   "outputs": [],
   "source": []
  },
  {
   "cell_type": "code",
   "execution_count": 12,
   "metadata": {},
   "outputs": [],
   "source": [
    "from collections import Iterable, deque\n",
    "import torch\n",
    "from torch.optim.optimizer import Optimizer, required\n",
    "from copy import deepcopy"
   ]
  },
  {
   "cell_type": "code",
   "execution_count": 13,
   "metadata": {},
   "outputs": [],
   "source": [
    "import torch.nn.utils as ut"
   ]
  },
  {
   "cell_type": "code",
   "execution_count": 14,
   "metadata": {},
   "outputs": [],
   "source": [
    "from bnelearn.optimizer import ES\n",
    "from bnelearn.environment import Environment"
   ]
  },
  {
   "cell_type": "code",
   "execution_count": 15,
   "metadata": {},
   "outputs": [],
   "source": [
    "u_lo =0\n",
    "u_hi =10"
   ]
  },
  {
   "cell_type": "code",
   "execution_count": 16,
   "metadata": {},
   "outputs": [],
   "source": [
    "def strat_to_bidder(strategy, batch_size):\n",
    "    return Bidder.uniform(u_lo,u_hi, strategy, batch_size = batch_size, n_players=2)"
   ]
  },
  {
   "cell_type": "code",
   "execution_count": 17,
   "metadata": {},
   "outputs": [],
   "source": [
    "model = NeuralNetStrategy(2, hidden_layer).cuda()"
   ]
  },
  {
   "cell_type": "code",
   "execution_count": 18,
   "metadata": {},
   "outputs": [],
   "source": [
    "env = Environment(mechanism, [], max_env_size=10, batch_size=512,\n",
    "                  n_players=2, strategy_to_bidder_closure=strat_to_bidder)"
   ]
  },
  {
   "cell_type": "code",
   "execution_count": 19,
   "metadata": {},
   "outputs": [],
   "source": [
    "es = ES(model=model, environment=env, lr=3e-4, sigma=.01, n_perturbations= 128)"
   ]
  },
  {
   "cell_type": "code",
   "execution_count": 22,
   "metadata": {
    "scrolled": false
   },
   "outputs": [],
   "source": [
    "epoch=100"
   ]
  },
  {
   "cell_type": "code",
   "execution_count": null,
   "metadata": {},
   "outputs": [
    {
     "name": "stdout",
     "output_type": "stream",
     "text": [
      "0.3553626835346222\n",
      "utility: 3.3132572174072266\n",
      "0.36968204379081726\n",
      "utility: 3.358612537384033\n",
      "0.3025469481945038\n",
      "utility: 3.284991502761841\n",
      "0.5179157853126526\n",
      "utility: 3.6470067501068115\n",
      "0.2819386422634125\n",
      "utility: 3.478255033493042\n",
      "0.54628586769104\n",
      "utility: 3.357280731201172\n",
      "0.7478052377700806\n",
      "utility: 3.229257345199585\n",
      "0.471486896276474\n",
      "utility: 3.24820876121521\n",
      "0.40410032868385315\n",
      "utility: 3.2743842601776123\n",
      "0.3575887084007263\n",
      "utility: 3.313528537750244\n",
      "0.4180537164211273\n",
      "utility: 3.3347766399383545\n",
      "0.35805538296699524\n",
      "utility: 3.4002556800842285\n",
      "0.3928188979625702\n",
      "utility: 3.3228821754455566\n",
      "0.3370993435382843\n",
      "utility: 3.2984511852264404\n",
      "0.3922747075557709\n",
      "utility: 3.3841934204101562\n",
      "0.4463036358356476\n",
      "utility: 3.3408455848693848\n",
      "0.3854764401912689\n",
      "utility: 3.3080170154571533\n",
      "0.41821226477622986\n",
      "utility: 3.385808229446411\n",
      "0.3643462359905243\n",
      "utility: 3.2068002223968506\n",
      "0.3445335328578949\n",
      "utility: 3.333181381225586\n",
      "0.3957439064979553\n",
      "utility: 3.3440518379211426\n",
      "0.43236109614372253\n",
      "utility: 3.4867515563964844\n",
      "0.35151806473731995\n",
      "utility: 3.3154232501983643\n",
      "2.260685443878174\n",
      "utility: 3.0925164222717285\n",
      "0.7202392816543579\n",
      "utility: 3.338610887527466\n",
      "2.5491926670074463\n",
      "utility: 3.363637685775757\n",
      "0.2562372088432312\n",
      "utility: 3.3702285289764404\n",
      "0.5507245659828186\n",
      "utility: 3.4244449138641357\n",
      "0.5731385350227356\n",
      "utility: 3.281010866165161\n",
      "0.39122557640075684\n",
      "utility: 3.16878080368042\n",
      "0.6080523729324341\n",
      "utility: 3.5857503414154053\n",
      "0.5483009815216064\n",
      "utility: 3.21344256401062\n",
      "0.8689234256744385\n",
      "utility: 3.2322709560394287\n",
      "1.0655198097229004\n",
      "utility: 3.490330457687378\n",
      "0.7111304402351379\n",
      "utility: 3.3727867603302\n",
      "0.4691093862056732\n",
      "utility: 3.153594970703125\n",
      "3.9745850563049316\n",
      "utility: 3.2738425731658936\n",
      "0.7214527726173401\n",
      "utility: 3.209738254547119\n",
      "0.4417564570903778\n",
      "utility: 3.5575790405273438\n",
      "0.3564143776893616\n",
      "utility: 3.3356425762176514\n",
      "0.3604673147201538\n",
      "utility: 3.187715768814087\n",
      "0.5055176615715027\n",
      "utility: 3.1593616008758545\n",
      "0.4428127408027649\n",
      "utility: 3.304455280303955\n",
      "0.4122687578201294\n",
      "utility: 3.405586004257202\n",
      "0.442015141248703\n",
      "utility: 3.649548292160034\n",
      "0.37679803371429443\n",
      "utility: 3.3084332942962646\n",
      "0.27886250615119934\n",
      "utility: 3.4396169185638428\n",
      "1.58428156375885\n",
      "utility: 3.294738531112671\n",
      "0.4541047513484955\n",
      "utility: 3.3605213165283203\n",
      "0.665964663028717\n",
      "utility: 3.1927099227905273\n",
      "0.2567010819911957\n",
      "utility: 3.2644360065460205\n",
      "0.3612283170223236\n",
      "utility: 3.2027790546417236\n",
      "0.36332979798316956\n",
      "utility: 3.209688186645508\n",
      "0.5627819299697876\n",
      "utility: 3.2974090576171875\n"
     ]
    }
   ],
   "source": [
    "for e in range(epoch):\n",
    "    print(\"utility: {}\".format(-es.step().item()))\n",
    "    "
   ]
  },
  {
   "cell_type": "code",
   "execution_count": null,
   "metadata": {},
   "outputs": [],
   "source": []
  }
 ],
 "metadata": {
  "kernelspec": {
   "display_name": "Python 3",
   "language": "python",
   "name": "python3"
  },
  "language_info": {
   "codemirror_mode": {
    "name": "ipython",
    "version": 3
   },
   "file_extension": ".py",
   "mimetype": "text/x-python",
   "name": "python",
   "nbconvert_exporter": "python",
   "pygments_lexer": "ipython3",
   "version": "3.7.0"
  }
 },
 "nbformat": 4,
 "nbformat_minor": 2
}
