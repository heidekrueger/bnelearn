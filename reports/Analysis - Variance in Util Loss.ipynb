{
 "cells": [
  {
   "attachments": {
    "image.png": {
     "image/png": "[encoded data removed]"
    }
   },
   "cell_type": "markdown",
   "metadata": {},
   "source": [
    "# Analysis: Variance in util loss\n",
    "\n",
    "Date: 15.07.2020 Author: Stefan Heidekrüger\n",
    "\n",
    "## TL:DR\n",
    "\n",
    "When evaluating the ex-ante ('exa') and maximum ex-interim ('mexi') utility loss in the analytical bne, there is still some aleatoric uncertainty only coming from the different valuations.\n",
    "For some of our settings, this variance is so high that EVEN THE ANALYTICAL BNE would not be deemed 'static' / 'converged' under our current stopping criterion with current parameters.\n",
    "\n",
    "Below we consider the two settings of Uniform 10p Risk Averse and the overlapping uniform asymmetric case. In the former, calculating the exa-loss for the true bne yields a mean of 0.0001 with a std of 1.2e-5, which would still fulfill the stopping criterion.\n",
    "\n",
    "However, in the latter, we get the following:\n",
    "![image.png](attachment:image.png)\n",
    "\n",
    "Thus, even the TRUE bne would not fulfill the stopping criterion (neither at 0.0001 nor 0.0005) in this setting."
   ]
  },
  {
   "cell_type": "code",
   "execution_count": 31,
   "metadata": {},
   "outputs": [],
   "source": [
    "\n",
    "import os\n",
    "import sys\n",
    "root_path = os.path.join(os.path.expanduser('~'), 'bnelearn')\n",
    "if root_path not in sys.path:\n",
    "    sys.path.append(root_path)\n",
    "    \n",
    "import torch\n",
    "    \n",
    "import bnelearn\n",
    "from bnelearn.experiment.configuration_manager import ConfigurationManager\n",
    "import bnelearn.util.metrics as metrics\n",
    "import torch.nn as nn"
   ]
  },
  {
   "cell_type": "code",
   "execution_count": 23,
   "metadata": {},
   "outputs": [],
   "source": [
    "specific_gpu = 6\n",
    "torch.cuda.set_device(specific_gpu)\n"
   ]
  },
  {
   "cell_type": "code",
   "execution_count": null,
   "metadata": {},
   "outputs": [],
   "source": []
  },
  {
   "cell_type": "markdown",
   "metadata": {},
   "source": [
    "# Uniform Symmetric 10p Risk Averse"
   ]
  },
  {
   "cell_type": "code",
   "execution_count": 75,
   "metadata": {},
   "outputs": [
    {
     "name": "stdout",
     "output_type": "stream",
     "text": [
      "Utility in BNE (sampled): \t0.02187\n",
      "Utility in BNE (analytic): \t0.02185\n",
      "Using analytical BNE utility.\n"
     ]
    }
   ],
   "source": [
    "payment_rule = 'first_price'\n",
    "risk = 0.5\n",
    "n_players = [2,3,5,10]\n",
    "\n",
    "# Learning\n",
    "batch_size = 2 ** 18\n",
    "\n",
    "util_loss_batch_size = 2 ** 12\n",
    "util_loss_grid_size = 2 ** 13\n",
    "log_metrics = {'opt': True,#True\n",
    "               'l2': True,#True\n",
    "               'util_loss': True}\n",
    "experiment_type = 'single_item_uniform_symmetric'\n",
    "log_root_dir = os.path.join(os.path.expanduser('~'), 'bnelearn', 'experiments')\n",
    "n_players=10\n",
    "\n",
    "experiment_config, experiment_class = ConfigurationManager(experiment_type=experiment_type) \\\n",
    "    .get_config(log_root_dir=log_root_dir,\n",
    "                # Run\n",
    "                n_runs = 10,\n",
    "                n_epochs = 5000,\n",
    "                #Setting\n",
    "                payment_rule=payment_rule,\n",
    "                risk=risk,\n",
    "                n_players=n_players,\n",
    "                core_solver=\"mpc\",\n",
    "                # Learning\n",
    "                hidden_nodes = [10,10],\n",
    "                hidden_activations = [nn.SELU(),nn.SELU()],\n",
    "                learner_hyperparams = {'population_size': 64,\n",
    "                                    'sigma': 1.,\n",
    "                                    'scale_sigma_by_model_size': True},\n",
    "                optimizer_hyperparams = {'lr': 1e-3},\n",
    "                optimizer_type='adam',\n",
    "                pretrain_iters=500,\n",
    "                batch_size=batch_size,\n",
    "                model_sharing=False,\n",
    "                # Hardware\n",
    "                specific_gpu=specific_gpu,\n",
    "                # Logging\n",
    "                util_loss_batch_size=util_loss_batch_size,\n",
    "                util_loss_grid_size=util_loss_grid_size,\n",
    "                util_loss_frequency=100,\n",
    "                log_metrics=log_metrics,\n",
    "                eval_batch_size=2 ** 22,\n",
    "                enable_logging=False,\n",
    "                save_tb_events_to_csv_detailed=False,\n",
    "                save_tb_events_to_binary_detailed=False)\n",
    "\n",
    "experiment = experiment_class(experiment_config)"
   ]
  },
  {
   "cell_type": "code",
   "execution_count": 78,
   "metadata": {},
   "outputs": [
    {
     "name": "stderr",
     "output_type": "stream",
     "text": [
      "  2%|▏         | 91/4096 [00:00<00:04, 905.22it/s]"
     ]
    },
    {
     "name": "stdout",
     "output_type": "stream",
     "text": [
      "Failed computing util_loss as batch. Trying sequential valuations computation. Decrease dimensions to fix. Error:\n",
      " CUDA out of memory. Tried to allocate 512.00 GiB (GPU 6; 10.76 GiB total capacity; 2.69 GiB already allocated; 6.52 GiB free; 3.53 GiB reserved in total by PyTorch)\n"
     ]
    },
    {
     "name": "stderr",
     "output_type": "stream",
     "text": [
      "100%|██████████| 4096/4096 [00:31<00:00, 128.10it/s]\n",
      "  2%|▏         | 91/4096 [00:00<00:04, 905.84it/s]"
     ]
    },
    {
     "name": "stdout",
     "output_type": "stream",
     "text": [
      "Failed computing util_loss as batch. Trying sequential valuations computation. Decrease dimensions to fix. Error:\n",
      " CUDA out of memory. Tried to allocate 512.00 GiB (GPU 6; 10.76 GiB total capacity; 2.69 GiB already allocated; 6.58 GiB free; 3.47 GiB reserved in total by PyTorch)\n"
     ]
    },
    {
     "name": "stderr",
     "output_type": "stream",
     "text": [
      "100%|██████████| 4096/4096 [00:31<00:00, 128.11it/s]\n",
      "  2%|▏         | 91/4096 [00:00<00:04, 905.69it/s]"
     ]
    },
    {
     "name": "stdout",
     "output_type": "stream",
     "text": [
      "Failed computing util_loss as batch. Trying sequential valuations computation. Decrease dimensions to fix. Error:\n",
      " CUDA out of memory. Tried to allocate 512.00 GiB (GPU 6; 10.76 GiB total capacity; 2.69 GiB already allocated; 6.58 GiB free; 3.47 GiB reserved in total by PyTorch)\n"
     ]
    },
    {
     "name": "stderr",
     "output_type": "stream",
     "text": [
      "100%|██████████| 4096/4096 [00:31<00:00, 128.08it/s]\n",
      "  2%|▏         | 91/4096 [00:00<00:04, 905.47it/s]"
     ]
    },
    {
     "name": "stdout",
     "output_type": "stream",
     "text": [
      "Failed computing util_loss as batch. Trying sequential valuations computation. Decrease dimensions to fix. Error:\n",
      " CUDA out of memory. Tried to allocate 512.00 GiB (GPU 6; 10.76 GiB total capacity; 2.69 GiB already allocated; 6.58 GiB free; 3.47 GiB reserved in total by PyTorch)\n"
     ]
    },
    {
     "name": "stderr",
     "output_type": "stream",
     "text": [
      "100%|██████████| 4096/4096 [00:31<00:00, 128.08it/s]\n",
      "  2%|▏         | 91/4096 [00:00<00:04, 905.71it/s]"
     ]
    },
    {
     "name": "stdout",
     "output_type": "stream",
     "text": [
      "Failed computing util_loss as batch. Trying sequential valuations computation. Decrease dimensions to fix. Error:\n",
      " CUDA out of memory. Tried to allocate 512.00 GiB (GPU 6; 10.76 GiB total capacity; 2.69 GiB already allocated; 6.58 GiB free; 3.47 GiB reserved in total by PyTorch)\n"
     ]
    },
    {
     "name": "stderr",
     "output_type": "stream",
     "text": [
      "100%|██████████| 4096/4096 [00:31<00:00, 128.07it/s]\n",
      "  2%|▏         | 91/4096 [00:00<00:04, 905.53it/s]"
     ]
    },
    {
     "name": "stdout",
     "output_type": "stream",
     "text": [
      "Failed computing util_loss as batch. Trying sequential valuations computation. Decrease dimensions to fix. Error:\n",
      " CUDA out of memory. Tried to allocate 512.00 GiB (GPU 6; 10.76 GiB total capacity; 2.69 GiB already allocated; 6.58 GiB free; 3.47 GiB reserved in total by PyTorch)\n"
     ]
    },
    {
     "name": "stderr",
     "output_type": "stream",
     "text": [
      "100%|██████████| 4096/4096 [00:31<00:00, 128.08it/s]\n",
      "  2%|▏         | 91/4096 [00:00<00:04, 905.28it/s]"
     ]
    },
    {
     "name": "stdout",
     "output_type": "stream",
     "text": [
      "Failed computing util_loss as batch. Trying sequential valuations computation. Decrease dimensions to fix. Error:\n",
      " CUDA out of memory. Tried to allocate 512.00 GiB (GPU 6; 10.76 GiB total capacity; 2.69 GiB already allocated; 6.58 GiB free; 3.47 GiB reserved in total by PyTorch)\n"
     ]
    },
    {
     "name": "stderr",
     "output_type": "stream",
     "text": [
      "100%|██████████| 4096/4096 [00:31<00:00, 128.07it/s]\n",
      "  2%|▏         | 91/4096 [00:00<00:04, 905.76it/s]"
     ]
    },
    {
     "name": "stdout",
     "output_type": "stream",
     "text": [
      "Failed computing util_loss as batch. Trying sequential valuations computation. Decrease dimensions to fix. Error:\n",
      " CUDA out of memory. Tried to allocate 512.00 GiB (GPU 6; 10.76 GiB total capacity; 2.69 GiB already allocated; 6.58 GiB free; 3.47 GiB reserved in total by PyTorch)\n"
     ]
    },
    {
     "name": "stderr",
     "output_type": "stream",
     "text": [
      "100%|██████████| 4096/4096 [00:31<00:00, 128.08it/s]\n",
      "  2%|▏         | 91/4096 [00:00<00:04, 905.65it/s]"
     ]
    },
    {
     "name": "stdout",
     "output_type": "stream",
     "text": [
      "Failed computing util_loss as batch. Trying sequential valuations computation. Decrease dimensions to fix. Error:\n",
      " CUDA out of memory. Tried to allocate 512.00 GiB (GPU 6; 10.76 GiB total capacity; 2.69 GiB already allocated; 6.58 GiB free; 3.47 GiB reserved in total by PyTorch)\n"
     ]
    },
    {
     "name": "stderr",
     "output_type": "stream",
     "text": [
      "100%|██████████| 4096/4096 [00:31<00:00, 128.07it/s]\n",
      "  2%|▏         | 91/4096 [00:00<00:04, 905.54it/s]"
     ]
    },
    {
     "name": "stdout",
     "output_type": "stream",
     "text": [
      "Failed computing util_loss as batch. Trying sequential valuations computation. Decrease dimensions to fix. Error:\n",
      " CUDA out of memory. Tried to allocate 512.00 GiB (GPU 6; 10.76 GiB total capacity; 2.69 GiB already allocated; 6.58 GiB free; 3.47 GiB reserved in total by PyTorch)\n"
     ]
    },
    {
     "name": "stderr",
     "output_type": "stream",
     "text": [
      "100%|██████████| 4096/4096 [00:31<00:00, 128.08it/s]\n",
      "  2%|▏         | 91/4096 [00:00<00:04, 905.82it/s]"
     ]
    },
    {
     "name": "stdout",
     "output_type": "stream",
     "text": [
      "Failed computing util_loss as batch. Trying sequential valuations computation. Decrease dimensions to fix. Error:\n",
      " CUDA out of memory. Tried to allocate 512.00 GiB (GPU 6; 10.76 GiB total capacity; 2.69 GiB already allocated; 6.58 GiB free; 3.47 GiB reserved in total by PyTorch)\n"
     ]
    },
    {
     "name": "stderr",
     "output_type": "stream",
     "text": [
      "100%|██████████| 4096/4096 [00:31<00:00, 128.08it/s]\n",
      "  2%|▏         | 91/4096 [00:00<00:04, 905.60it/s]"
     ]
    },
    {
     "name": "stdout",
     "output_type": "stream",
     "text": [
      "Failed computing util_loss as batch. Trying sequential valuations computation. Decrease dimensions to fix. Error:\n",
      " CUDA out of memory. Tried to allocate 512.00 GiB (GPU 6; 10.76 GiB total capacity; 2.69 GiB already allocated; 6.58 GiB free; 3.47 GiB reserved in total by PyTorch)\n"
     ]
    },
    {
     "name": "stderr",
     "output_type": "stream",
     "text": [
      "100%|██████████| 4096/4096 [00:31<00:00, 128.08it/s]\n",
      "  2%|▏         | 91/4096 [00:00<00:04, 905.80it/s]"
     ]
    },
    {
     "name": "stdout",
     "output_type": "stream",
     "text": [
      "Failed computing util_loss as batch. Trying sequential valuations computation. Decrease dimensions to fix. Error:\n",
      " CUDA out of memory. Tried to allocate 512.00 GiB (GPU 6; 10.76 GiB total capacity; 2.69 GiB already allocated; 6.58 GiB free; 3.47 GiB reserved in total by PyTorch)\n"
     ]
    },
    {
     "name": "stderr",
     "output_type": "stream",
     "text": [
      "100%|██████████| 4096/4096 [00:31<00:00, 128.08it/s]\n",
      "  2%|▏         | 91/4096 [00:00<00:04, 905.92it/s]"
     ]
    },
    {
     "name": "stdout",
     "output_type": "stream",
     "text": [
      "Failed computing util_loss as batch. Trying sequential valuations computation. Decrease dimensions to fix. Error:\n",
      " CUDA out of memory. Tried to allocate 512.00 GiB (GPU 6; 10.76 GiB total capacity; 2.69 GiB already allocated; 6.58 GiB free; 3.47 GiB reserved in total by PyTorch)\n"
     ]
    },
    {
     "name": "stderr",
     "output_type": "stream",
     "text": [
      "100%|██████████| 4096/4096 [00:31<00:00, 128.08it/s]\n",
      "  2%|▏         | 91/4096 [00:00<00:04, 905.69it/s]"
     ]
    },
    {
     "name": "stdout",
     "output_type": "stream",
     "text": [
      "Failed computing util_loss as batch. Trying sequential valuations computation. Decrease dimensions to fix. Error:\n",
      " CUDA out of memory. Tried to allocate 512.00 GiB (GPU 6; 10.76 GiB total capacity; 2.69 GiB already allocated; 6.58 GiB free; 3.47 GiB reserved in total by PyTorch)\n"
     ]
    },
    {
     "name": "stderr",
     "output_type": "stream",
     "text": [
      "100%|██████████| 4096/4096 [00:31<00:00, 128.07it/s]\n",
      "  2%|▏         | 91/4096 [00:00<00:04, 905.87it/s]"
     ]
    },
    {
     "name": "stdout",
     "output_type": "stream",
     "text": [
      "Failed computing util_loss as batch. Trying sequential valuations computation. Decrease dimensions to fix. Error:\n",
      " CUDA out of memory. Tried to allocate 512.00 GiB (GPU 6; 10.76 GiB total capacity; 2.69 GiB already allocated; 6.58 GiB free; 3.47 GiB reserved in total by PyTorch)\n"
     ]
    },
    {
     "name": "stderr",
     "output_type": "stream",
     "text": [
      "100%|██████████| 4096/4096 [00:31<00:00, 128.08it/s]\n",
      "  2%|▏         | 91/4096 [00:00<00:04, 905.62it/s]"
     ]
    },
    {
     "name": "stdout",
     "output_type": "stream",
     "text": [
      "Failed computing util_loss as batch. Trying sequential valuations computation. Decrease dimensions to fix. Error:\n",
      " CUDA out of memory. Tried to allocate 512.00 GiB (GPU 6; 10.76 GiB total capacity; 2.69 GiB already allocated; 6.58 GiB free; 3.47 GiB reserved in total by PyTorch)\n"
     ]
    },
    {
     "name": "stderr",
     "output_type": "stream",
     "text": [
      "100%|██████████| 4096/4096 [00:31<00:00, 128.07it/s]\n",
      "  2%|▏         | 91/4096 [00:00<00:04, 905.74it/s]"
     ]
    },
    {
     "name": "stdout",
     "output_type": "stream",
     "text": [
      "Failed computing util_loss as batch. Trying sequential valuations computation. Decrease dimensions to fix. Error:\n",
      " CUDA out of memory. Tried to allocate 512.00 GiB (GPU 6; 10.76 GiB total capacity; 2.69 GiB already allocated; 6.58 GiB free; 3.47 GiB reserved in total by PyTorch)\n"
     ]
    },
    {
     "name": "stderr",
     "output_type": "stream",
     "text": [
      "100%|██████████| 4096/4096 [00:31<00:00, 128.08it/s]\n",
      "  2%|▏         | 91/4096 [00:00<00:04, 905.65it/s]"
     ]
    },
    {
     "name": "stdout",
     "output_type": "stream",
     "text": [
      "Failed computing util_loss as batch. Trying sequential valuations computation. Decrease dimensions to fix. Error:\n",
      " CUDA out of memory. Tried to allocate 512.00 GiB (GPU 6; 10.76 GiB total capacity; 2.69 GiB already allocated; 6.58 GiB free; 3.47 GiB reserved in total by PyTorch)\n"
     ]
    },
    {
     "name": "stderr",
     "output_type": "stream",
     "text": [
      "100%|██████████| 4096/4096 [00:31<00:00, 128.08it/s]\n",
      "  2%|▏         | 91/4096 [00:00<00:04, 905.70it/s]"
     ]
    },
    {
     "name": "stdout",
     "output_type": "stream",
     "text": [
      "Failed computing util_loss as batch. Trying sequential valuations computation. Decrease dimensions to fix. Error:\n",
      " CUDA out of memory. Tried to allocate 512.00 GiB (GPU 6; 10.76 GiB total capacity; 2.69 GiB already allocated; 6.58 GiB free; 3.47 GiB reserved in total by PyTorch)\n"
     ]
    },
    {
     "name": "stderr",
     "output_type": "stream",
     "text": [
      "100%|██████████| 4096/4096 [00:31<00:00, 128.08it/s]\n"
     ]
    }
   ],
   "source": [
    "exa_losses = []\n",
    "mexi_losses = []\n",
    "for i in range(20):\n",
    "    experiment.bne_env.prepare_iteration()\n",
    "    agent = experiment.bne_env.agents[0]\n",
    "    valuation = agent.valuations[:util_loss_batch_size, ...]\n",
    "    grid = agent.get_valuation_grid(util_loss_grid_size, True)\n",
    "    eq_bid_profile = torch.empty(util_loss_batch_size, experiment.n_players, agent.n_items)\n",
    "    for a in experiment.bne_env.agents:\n",
    "        eq_bid_profile[:, a.player_position, :] = a.get_action()[:util_loss_batch_size, ...]\n",
    "    ex_i_loss, _ = metrics.ex_interim_util_loss(\n",
    "        experiment.mechanism,eq_bid_profile, agent, valuation, grid)\n",
    "    exa_losses.append(ex_i_loss.mean().item())\n",
    "    mexi_losses.append(ex_i_loss.max().item())\n",
    "uniform_sym_risk_10_exa = torch.tensor(exa_losses)\n",
    "uniform_sym_risk_10_mexi = torch.tensor(mexi_losses)"
   ]
  },
  {
   "cell_type": "code",
   "execution_count": 126,
   "metadata": {},
   "outputs": [
    {
     "data": {
      "text/plain": [
       "(0.00013635214418172836, 1.2634153790713754e-05)"
      ]
     },
     "execution_count": 126,
     "metadata": {},
     "output_type": "execute_result"
    }
   ],
   "source": [
    "uniform_sym_risk_10_exa.mean().item(), uniform_sym_risk_10_exa.std().item()\n"
   ]
  },
  {
   "cell_type": "code",
   "execution_count": 87,
   "metadata": {},
   "outputs": [
    {
     "data": {
      "text/plain": [
       "(tensor(0.0016), tensor(0.0003))"
      ]
     },
     "execution_count": 87,
     "metadata": {},
     "output_type": "execute_result"
    }
   ],
   "source": [
    "uniform_sym_risk_10_mexi.mean(), uniform_sym_risk_10_mexi.std()"
   ]
  },
  {
   "cell_type": "code",
   "execution_count": 119,
   "metadata": {},
   "outputs": [
    {
     "data": {
      "text/plain": [
       "tensor([0.0002, 0.0001, 0.0001, 0.0001, 0.0001, 0.0002, 0.0001, 0.0001, 0.0001,\n",
       "        0.0002, 0.0001, 0.0001, 0.0001, 0.0001, 0.0001, 0.0001, 0.0001, 0.0001,\n",
       "        0.0001, 0.0001])"
      ]
     },
     "execution_count": 119,
     "metadata": {},
     "output_type": "execute_result"
    }
   ],
   "source": [
    "uniform_sym_risk_10_exa"
   ]
  },
  {
   "cell_type": "code",
   "execution_count": 120,
   "metadata": {},
   "outputs": [
    {
     "data": {
      "text/plain": [
       "[tensor(1.6247e-05),\n",
       " tensor(2.0427e-05),\n",
       " tensor(1.2083e-05),\n",
       " tensor(3.1553e-05),\n",
       " tensor(3.3557e-05),\n",
       " tensor(3.3557e-05),\n",
       " tensor(9.2325e-06),\n",
       " tensor(4.8988e-05),\n",
       " tensor(4.8988e-05),\n",
       " tensor(4.4220e-05),\n",
       " tensor(1.9130e-05),\n",
       " tensor(1.9130e-05),\n",
       " tensor(8.5223e-06),\n",
       " tensor(7.9643e-06),\n",
       " tensor(6.9772e-06),\n",
       " tensor(6.9772e-06),\n",
       " tensor(4.8845e-06)]"
      ]
     },
     "execution_count": 120,
     "metadata": {},
     "output_type": "execute_result"
    }
   ],
   "source": [
    "[uniform_sym_risk_10_exa[i-3:i].max()  - uniform_sym_risk_10_exa[i-3:i].min() for i in range(3,20)]    "
   ]
  },
  {
   "cell_type": "markdown",
   "metadata": {},
   "source": [
    "# asymm overlapping"
   ]
  },
  {
   "cell_type": "code",
   "execution_count": 90,
   "metadata": {},
   "outputs": [
    {
     "name": "stdout",
     "output_type": "stream",
     "text": [
      "Utilities in BNE1 (sampled):\t0.97034\t5.06985.\n",
      "No closed form solution for BNE utilities available in this setting. Using sampled value as baseline.\n",
      "Debug: eval_batch size:4194304\n",
      "\tReplacing sampled bne utilities by precalculated utilities with higher precision: tensor([0.9694, 5.0688])\n"
     ]
    }
   ],
   "source": [
    "experiment_type = 'single_item_asymmetric_uniform_overlapping'\n",
    "payment_rule = 'first_price'\n",
    "risk = 1.0\n",
    "n_players=2\n",
    "\n",
    "# Learning\n",
    "batch_size = 2 ** 18\n",
    "\n",
    "util_loss_batch_size = 2 ** 12\n",
    "util_loss_grid_size = 2 ** 13\n",
    "log_metrics = {'opt': True,#True\n",
    "               'l2': True,#True\n",
    "               'util_loss': True}\n",
    "\n",
    "log_root_dir = os.path.join(os.path.expanduser('~'), 'bnelearn', 'experiments')\n",
    "\n",
    "\n",
    "experiment_config, experiment_class = ConfigurationManager(experiment_type=experiment_type) \\\n",
    "    .get_config(log_root_dir=log_root_dir,\n",
    "                # Run\n",
    "                n_runs = 10,\n",
    "                n_epochs = 5000,\n",
    "                #Setting\n",
    "                payment_rule=payment_rule,\n",
    "                risk=risk,\n",
    "                n_players=n_players,\n",
    "                core_solver=\"mpc\",\n",
    "                # Learning\n",
    "                hidden_nodes = [10,10],\n",
    "                hidden_activations = [nn.SELU(),nn.SELU()],\n",
    "                learner_hyperparams = {'population_size': 64,\n",
    "                                    'sigma': 1.,\n",
    "                                    'scale_sigma_by_model_size': True},\n",
    "                optimizer_hyperparams = {'lr': 1e-3},\n",
    "                optimizer_type='adam',\n",
    "                pretrain_iters=500,\n",
    "                batch_size=batch_size,\n",
    "                model_sharing=False,\n",
    "                # Hardware\n",
    "                specific_gpu=specific_gpu,\n",
    "                # Logging\n",
    "                util_loss_batch_size=util_loss_batch_size,\n",
    "                util_loss_grid_size=util_loss_grid_size,\n",
    "                util_loss_frequency=100,\n",
    "                log_metrics=log_metrics,\n",
    "                eval_batch_size=2 ** 22,\n",
    "                enable_logging=False,\n",
    "                save_tb_events_to_csv_detailed=False,\n",
    "                save_tb_events_to_binary_detailed=False)\n",
    "\n",
    "experiment = experiment_class(experiment_config)"
   ]
  },
  {
   "cell_type": "code",
   "execution_count": 106,
   "metadata": {},
   "outputs": [
    {
     "name": "stdout",
     "output_type": "stream",
     "text": [
      "0\n"
     ]
    },
    {
     "name": "stderr",
     "output_type": "stream",
     "text": [
      "  4%|▍         | 182/4096 [00:00<00:02, 1778.18it/s]"
     ]
    },
    {
     "name": "stdout",
     "output_type": "stream",
     "text": [
      "Failed computing util_loss as batch. Trying sequential valuations computation. Decrease dimensions to fix. Error:\n",
      " CUDA out of memory. Tried to allocate 512.00 GiB (GPU 6; 10.76 GiB total capacity; 1.47 GiB already allocated; 8.11 GiB free; 1.94 GiB reserved in total by PyTorch)\n"
     ]
    },
    {
     "name": "stderr",
     "output_type": "stream",
     "text": [
      "100%|██████████| 4096/4096 [00:10<00:00, 391.70it/s]\n",
      "  4%|▍         | 184/4096 [00:00<00:02, 1826.66it/s]"
     ]
    },
    {
     "name": "stdout",
     "output_type": "stream",
     "text": [
      "Failed computing util_loss as batch. Trying sequential valuations computation. Decrease dimensions to fix. Error:\n",
      " CUDA out of memory. Tried to allocate 512.00 GiB (GPU 6; 10.76 GiB total capacity; 1.47 GiB already allocated; 8.11 GiB free; 1.94 GiB reserved in total by PyTorch)\n"
     ]
    },
    {
     "name": "stderr",
     "output_type": "stream",
     "text": [
      "100%|██████████| 4096/4096 [00:10<00:00, 391.60it/s]\n"
     ]
    },
    {
     "name": "stdout",
     "output_type": "stream",
     "text": [
      "1\n"
     ]
    },
    {
     "name": "stderr",
     "output_type": "stream",
     "text": [
      "  4%|▍         | 184/4096 [00:00<00:02, 1821.42it/s]"
     ]
    },
    {
     "name": "stdout",
     "output_type": "stream",
     "text": [
      "Failed computing util_loss as batch. Trying sequential valuations computation. Decrease dimensions to fix. Error:\n",
      " CUDA out of memory. Tried to allocate 512.00 GiB (GPU 6; 10.76 GiB total capacity; 1.47 GiB already allocated; 8.11 GiB free; 1.94 GiB reserved in total by PyTorch)\n"
     ]
    },
    {
     "name": "stderr",
     "output_type": "stream",
     "text": [
      "100%|██████████| 4096/4096 [00:10<00:00, 391.69it/s]\n",
      "  4%|▍         | 184/4096 [00:00<00:02, 1825.33it/s]"
     ]
    },
    {
     "name": "stdout",
     "output_type": "stream",
     "text": [
      "Failed computing util_loss as batch. Trying sequential valuations computation. Decrease dimensions to fix. Error:\n",
      " CUDA out of memory. Tried to allocate 512.00 GiB (GPU 6; 10.76 GiB total capacity; 1.47 GiB already allocated; 8.11 GiB free; 1.94 GiB reserved in total by PyTorch)\n"
     ]
    },
    {
     "name": "stderr",
     "output_type": "stream",
     "text": [
      "100%|██████████| 4096/4096 [00:10<00:00, 391.21it/s]\n"
     ]
    },
    {
     "name": "stdout",
     "output_type": "stream",
     "text": [
      "2\n"
     ]
    },
    {
     "name": "stderr",
     "output_type": "stream",
     "text": [
      "  4%|▍         | 184/4096 [00:00<00:02, 1821.44it/s]"
     ]
    },
    {
     "name": "stdout",
     "output_type": "stream",
     "text": [
      "Failed computing util_loss as batch. Trying sequential valuations computation. Decrease dimensions to fix. Error:\n",
      " CUDA out of memory. Tried to allocate 512.00 GiB (GPU 6; 10.76 GiB total capacity; 1.47 GiB already allocated; 8.11 GiB free; 1.94 GiB reserved in total by PyTorch)\n"
     ]
    },
    {
     "name": "stderr",
     "output_type": "stream",
     "text": [
      "100%|██████████| 4096/4096 [00:10<00:00, 391.43it/s]\n",
      "  4%|▍         | 184/4096 [00:00<00:02, 1823.00it/s]"
     ]
    },
    {
     "name": "stdout",
     "output_type": "stream",
     "text": [
      "Failed computing util_loss as batch. Trying sequential valuations computation. Decrease dimensions to fix. Error:\n",
      " CUDA out of memory. Tried to allocate 512.00 GiB (GPU 6; 10.76 GiB total capacity; 1.47 GiB already allocated; 8.11 GiB free; 1.94 GiB reserved in total by PyTorch)\n"
     ]
    },
    {
     "name": "stderr",
     "output_type": "stream",
     "text": [
      "100%|██████████| 4096/4096 [00:10<00:00, 390.85it/s]\n"
     ]
    },
    {
     "name": "stdout",
     "output_type": "stream",
     "text": [
      "3\n"
     ]
    },
    {
     "name": "stderr",
     "output_type": "stream",
     "text": [
      "  4%|▍         | 184/4096 [00:00<00:02, 1824.27it/s]"
     ]
    },
    {
     "name": "stdout",
     "output_type": "stream",
     "text": [
      "Failed computing util_loss as batch. Trying sequential valuations computation. Decrease dimensions to fix. Error:\n",
      " CUDA out of memory. Tried to allocate 512.00 GiB (GPU 6; 10.76 GiB total capacity; 1.47 GiB already allocated; 8.11 GiB free; 1.94 GiB reserved in total by PyTorch)\n"
     ]
    },
    {
     "name": "stderr",
     "output_type": "stream",
     "text": [
      "100%|██████████| 4096/4096 [00:10<00:00, 391.14it/s]\n",
      "  4%|▍         | 184/4096 [00:00<00:02, 1822.94it/s]"
     ]
    },
    {
     "name": "stdout",
     "output_type": "stream",
     "text": [
      "Failed computing util_loss as batch. Trying sequential valuations computation. Decrease dimensions to fix. Error:\n",
      " CUDA out of memory. Tried to allocate 512.00 GiB (GPU 6; 10.76 GiB total capacity; 1.47 GiB already allocated; 8.11 GiB free; 1.94 GiB reserved in total by PyTorch)\n"
     ]
    },
    {
     "name": "stderr",
     "output_type": "stream",
     "text": [
      "100%|██████████| 4096/4096 [00:10<00:00, 390.85it/s]\n"
     ]
    },
    {
     "name": "stdout",
     "output_type": "stream",
     "text": [
      "4\n"
     ]
    },
    {
     "name": "stderr",
     "output_type": "stream",
     "text": [
      "  4%|▍         | 184/4096 [00:00<00:02, 1823.08it/s]"
     ]
    },
    {
     "name": "stdout",
     "output_type": "stream",
     "text": [
      "Failed computing util_loss as batch. Trying sequential valuations computation. Decrease dimensions to fix. Error:\n",
      " CUDA out of memory. Tried to allocate 512.00 GiB (GPU 6; 10.76 GiB total capacity; 1.47 GiB already allocated; 8.11 GiB free; 1.94 GiB reserved in total by PyTorch)\n"
     ]
    },
    {
     "name": "stderr",
     "output_type": "stream",
     "text": [
      "100%|██████████| 4096/4096 [00:10<00:00, 391.03it/s]\n",
      "  4%|▍         | 184/4096 [00:00<00:02, 1821.54it/s]"
     ]
    },
    {
     "name": "stdout",
     "output_type": "stream",
     "text": [
      "Failed computing util_loss as batch. Trying sequential valuations computation. Decrease dimensions to fix. Error:\n",
      " CUDA out of memory. Tried to allocate 512.00 GiB (GPU 6; 10.76 GiB total capacity; 1.47 GiB already allocated; 8.11 GiB free; 1.94 GiB reserved in total by PyTorch)\n"
     ]
    },
    {
     "name": "stderr",
     "output_type": "stream",
     "text": [
      "100%|██████████| 4096/4096 [00:10<00:00, 390.70it/s]\n"
     ]
    },
    {
     "name": "stdout",
     "output_type": "stream",
     "text": [
      "5\n"
     ]
    },
    {
     "name": "stderr",
     "output_type": "stream",
     "text": [
      "  4%|▍         | 184/4096 [00:00<00:02, 1823.58it/s]"
     ]
    },
    {
     "name": "stdout",
     "output_type": "stream",
     "text": [
      "Failed computing util_loss as batch. Trying sequential valuations computation. Decrease dimensions to fix. Error:\n",
      " CUDA out of memory. Tried to allocate 512.00 GiB (GPU 6; 10.76 GiB total capacity; 1.47 GiB already allocated; 8.11 GiB free; 1.94 GiB reserved in total by PyTorch)\n"
     ]
    },
    {
     "name": "stderr",
     "output_type": "stream",
     "text": [
      "100%|██████████| 4096/4096 [00:10<00:00, 390.99it/s]\n",
      "  4%|▍         | 184/4096 [00:00<00:02, 1822.30it/s]"
     ]
    },
    {
     "name": "stdout",
     "output_type": "stream",
     "text": [
      "Failed computing util_loss as batch. Trying sequential valuations computation. Decrease dimensions to fix. Error:\n",
      " CUDA out of memory. Tried to allocate 512.00 GiB (GPU 6; 10.76 GiB total capacity; 1.47 GiB already allocated; 8.11 GiB free; 1.94 GiB reserved in total by PyTorch)\n"
     ]
    },
    {
     "name": "stderr",
     "output_type": "stream",
     "text": [
      "100%|██████████| 4096/4096 [00:10<00:00, 390.69it/s]\n"
     ]
    },
    {
     "name": "stdout",
     "output_type": "stream",
     "text": [
      "6\n"
     ]
    },
    {
     "name": "stderr",
     "output_type": "stream",
     "text": [
      "  4%|▍         | 184/4096 [00:00<00:02, 1822.99it/s]"
     ]
    },
    {
     "name": "stdout",
     "output_type": "stream",
     "text": [
      "Failed computing util_loss as batch. Trying sequential valuations computation. Decrease dimensions to fix. Error:\n",
      " CUDA out of memory. Tried to allocate 512.00 GiB (GPU 6; 10.76 GiB total capacity; 1.47 GiB already allocated; 8.11 GiB free; 1.94 GiB reserved in total by PyTorch)\n"
     ]
    },
    {
     "name": "stderr",
     "output_type": "stream",
     "text": [
      "100%|██████████| 4096/4096 [00:10<00:00, 390.98it/s]\n",
      "  4%|▍         | 184/4096 [00:00<00:02, 1821.96it/s]"
     ]
    },
    {
     "name": "stdout",
     "output_type": "stream",
     "text": [
      "Failed computing util_loss as batch. Trying sequential valuations computation. Decrease dimensions to fix. Error:\n",
      " CUDA out of memory. Tried to allocate 512.00 GiB (GPU 6; 10.76 GiB total capacity; 1.47 GiB already allocated; 8.11 GiB free; 1.94 GiB reserved in total by PyTorch)\n"
     ]
    },
    {
     "name": "stderr",
     "output_type": "stream",
     "text": [
      "100%|██████████| 4096/4096 [00:10<00:00, 390.70it/s]\n"
     ]
    },
    {
     "name": "stdout",
     "output_type": "stream",
     "text": [
      "7\n"
     ]
    },
    {
     "name": "stderr",
     "output_type": "stream",
     "text": [
      "  4%|▍         | 184/4096 [00:00<00:02, 1817.76it/s]"
     ]
    },
    {
     "name": "stdout",
     "output_type": "stream",
     "text": [
      "Failed computing util_loss as batch. Trying sequential valuations computation. Decrease dimensions to fix. Error:\n",
      " CUDA out of memory. Tried to allocate 512.00 GiB (GPU 6; 10.76 GiB total capacity; 1.47 GiB already allocated; 8.11 GiB free; 1.94 GiB reserved in total by PyTorch)\n"
     ]
    },
    {
     "name": "stderr",
     "output_type": "stream",
     "text": [
      "100%|██████████| 4096/4096 [00:10<00:00, 390.89it/s]\n",
      "  4%|▍         | 184/4096 [00:00<00:02, 1821.57it/s]"
     ]
    },
    {
     "name": "stdout",
     "output_type": "stream",
     "text": [
      "Failed computing util_loss as batch. Trying sequential valuations computation. Decrease dimensions to fix. Error:\n",
      " CUDA out of memory. Tried to allocate 512.00 GiB (GPU 6; 10.76 GiB total capacity; 1.47 GiB already allocated; 8.11 GiB free; 1.94 GiB reserved in total by PyTorch)\n"
     ]
    },
    {
     "name": "stderr",
     "output_type": "stream",
     "text": [
      "100%|██████████| 4096/4096 [00:10<00:00, 390.53it/s]\n"
     ]
    },
    {
     "name": "stdout",
     "output_type": "stream",
     "text": [
      "8\n"
     ]
    },
    {
     "name": "stderr",
     "output_type": "stream",
     "text": [
      "  4%|▍         | 184/4096 [00:00<00:02, 1821.39it/s]"
     ]
    },
    {
     "name": "stdout",
     "output_type": "stream",
     "text": [
      "Failed computing util_loss as batch. Trying sequential valuations computation. Decrease dimensions to fix. Error:\n",
      " CUDA out of memory. Tried to allocate 512.00 GiB (GPU 6; 10.76 GiB total capacity; 1.47 GiB already allocated; 8.11 GiB free; 1.94 GiB reserved in total by PyTorch)\n"
     ]
    },
    {
     "name": "stderr",
     "output_type": "stream",
     "text": [
      "100%|██████████| 4096/4096 [00:10<00:00, 390.85it/s]\n",
      "  4%|▍         | 184/4096 [00:00<00:02, 1819.40it/s]"
     ]
    },
    {
     "name": "stdout",
     "output_type": "stream",
     "text": [
      "Failed computing util_loss as batch. Trying sequential valuations computation. Decrease dimensions to fix. Error:\n",
      " CUDA out of memory. Tried to allocate 512.00 GiB (GPU 6; 10.76 GiB total capacity; 1.47 GiB already allocated; 8.11 GiB free; 1.94 GiB reserved in total by PyTorch)\n"
     ]
    },
    {
     "name": "stderr",
     "output_type": "stream",
     "text": [
      "100%|██████████| 4096/4096 [00:10<00:00, 390.53it/s]\n"
     ]
    },
    {
     "name": "stdout",
     "output_type": "stream",
     "text": [
      "9\n"
     ]
    },
    {
     "name": "stderr",
     "output_type": "stream",
     "text": [
      "  4%|▍         | 184/4096 [00:00<00:02, 1818.69it/s]"
     ]
    },
    {
     "name": "stdout",
     "output_type": "stream",
     "text": [
      "Failed computing util_loss as batch. Trying sequential valuations computation. Decrease dimensions to fix. Error:\n",
      " CUDA out of memory. Tried to allocate 512.00 GiB (GPU 6; 10.76 GiB total capacity; 1.47 GiB already allocated; 8.11 GiB free; 1.94 GiB reserved in total by PyTorch)\n"
     ]
    },
    {
     "name": "stderr",
     "output_type": "stream",
     "text": [
      "100%|██████████| 4096/4096 [00:10<00:00, 390.83it/s]\n",
      "  4%|▍         | 184/4096 [00:00<00:02, 1821.68it/s]"
     ]
    },
    {
     "name": "stdout",
     "output_type": "stream",
     "text": [
      "Failed computing util_loss as batch. Trying sequential valuations computation. Decrease dimensions to fix. Error:\n",
      " CUDA out of memory. Tried to allocate 512.00 GiB (GPU 6; 10.76 GiB total capacity; 1.47 GiB already allocated; 8.11 GiB free; 1.94 GiB reserved in total by PyTorch)\n"
     ]
    },
    {
     "name": "stderr",
     "output_type": "stream",
     "text": [
      "100%|██████████| 4096/4096 [00:10<00:00, 390.53it/s]\n"
     ]
    },
    {
     "name": "stdout",
     "output_type": "stream",
     "text": [
      "10\n"
     ]
    },
    {
     "name": "stderr",
     "output_type": "stream",
     "text": [
      "  4%|▍         | 184/4096 [00:00<00:02, 1822.92it/s]"
     ]
    },
    {
     "name": "stdout",
     "output_type": "stream",
     "text": [
      "Failed computing util_loss as batch. Trying sequential valuations computation. Decrease dimensions to fix. Error:\n",
      " CUDA out of memory. Tried to allocate 512.00 GiB (GPU 6; 10.76 GiB total capacity; 1.47 GiB already allocated; 8.11 GiB free; 1.94 GiB reserved in total by PyTorch)\n"
     ]
    },
    {
     "name": "stderr",
     "output_type": "stream",
     "text": [
      "100%|██████████| 4096/4096 [00:10<00:00, 390.85it/s]\n",
      "  4%|▍         | 184/4096 [00:00<00:02, 1820.37it/s]"
     ]
    },
    {
     "name": "stdout",
     "output_type": "stream",
     "text": [
      "Failed computing util_loss as batch. Trying sequential valuations computation. Decrease dimensions to fix. Error:\n",
      " CUDA out of memory. Tried to allocate 512.00 GiB (GPU 6; 10.76 GiB total capacity; 1.47 GiB already allocated; 8.11 GiB free; 1.94 GiB reserved in total by PyTorch)\n"
     ]
    },
    {
     "name": "stderr",
     "output_type": "stream",
     "text": [
      "100%|██████████| 4096/4096 [00:10<00:00, 390.54it/s]\n"
     ]
    },
    {
     "name": "stdout",
     "output_type": "stream",
     "text": [
      "11\n"
     ]
    },
    {
     "name": "stderr",
     "output_type": "stream",
     "text": [
      "  4%|▍         | 184/4096 [00:00<00:02, 1822.96it/s]"
     ]
    },
    {
     "name": "stdout",
     "output_type": "stream",
     "text": [
      "Failed computing util_loss as batch. Trying sequential valuations computation. Decrease dimensions to fix. Error:\n",
      " CUDA out of memory. Tried to allocate 512.00 GiB (GPU 6; 10.76 GiB total capacity; 1.47 GiB already allocated; 8.11 GiB free; 1.94 GiB reserved in total by PyTorch)\n"
     ]
    },
    {
     "name": "stderr",
     "output_type": "stream",
     "text": [
      "100%|██████████| 4096/4096 [00:10<00:00, 390.85it/s]\n",
      "  4%|▍         | 184/4096 [00:00<00:02, 1819.96it/s]"
     ]
    },
    {
     "name": "stdout",
     "output_type": "stream",
     "text": [
      "Failed computing util_loss as batch. Trying sequential valuations computation. Decrease dimensions to fix. Error:\n",
      " CUDA out of memory. Tried to allocate 512.00 GiB (GPU 6; 10.76 GiB total capacity; 1.47 GiB already allocated; 8.11 GiB free; 1.94 GiB reserved in total by PyTorch)\n"
     ]
    },
    {
     "name": "stderr",
     "output_type": "stream",
     "text": [
      "100%|██████████| 4096/4096 [00:10<00:00, 390.54it/s]\n"
     ]
    },
    {
     "name": "stdout",
     "output_type": "stream",
     "text": [
      "12\n"
     ]
    },
    {
     "name": "stderr",
     "output_type": "stream",
     "text": [
      "  4%|▍         | 184/4096 [00:00<00:02, 1823.20it/s]"
     ]
    },
    {
     "name": "stdout",
     "output_type": "stream",
     "text": [
      "Failed computing util_loss as batch. Trying sequential valuations computation. Decrease dimensions to fix. Error:\n",
      " CUDA out of memory. Tried to allocate 512.00 GiB (GPU 6; 10.76 GiB total capacity; 1.47 GiB already allocated; 8.11 GiB free; 1.94 GiB reserved in total by PyTorch)\n"
     ]
    },
    {
     "name": "stderr",
     "output_type": "stream",
     "text": [
      "100%|██████████| 4096/4096 [00:10<00:00, 390.84it/s]\n",
      "  4%|▍         | 184/4096 [00:00<00:02, 1819.24it/s]"
     ]
    },
    {
     "name": "stdout",
     "output_type": "stream",
     "text": [
      "Failed computing util_loss as batch. Trying sequential valuations computation. Decrease dimensions to fix. Error:\n",
      " CUDA out of memory. Tried to allocate 512.00 GiB (GPU 6; 10.76 GiB total capacity; 1.47 GiB already allocated; 8.11 GiB free; 1.94 GiB reserved in total by PyTorch)\n"
     ]
    },
    {
     "name": "stderr",
     "output_type": "stream",
     "text": [
      "100%|██████████| 4096/4096 [00:10<00:00, 390.52it/s]\n"
     ]
    },
    {
     "name": "stdout",
     "output_type": "stream",
     "text": [
      "13\n"
     ]
    },
    {
     "name": "stderr",
     "output_type": "stream",
     "text": [
      "  4%|▍         | 184/4096 [00:00<00:02, 1822.85it/s]"
     ]
    },
    {
     "name": "stdout",
     "output_type": "stream",
     "text": [
      "Failed computing util_loss as batch. Trying sequential valuations computation. Decrease dimensions to fix. Error:\n",
      " CUDA out of memory. Tried to allocate 512.00 GiB (GPU 6; 10.76 GiB total capacity; 1.47 GiB already allocated; 8.11 GiB free; 1.94 GiB reserved in total by PyTorch)\n"
     ]
    },
    {
     "name": "stderr",
     "output_type": "stream",
     "text": [
      "100%|██████████| 4096/4096 [00:10<00:00, 390.84it/s]\n",
      "  4%|▍         | 184/4096 [00:00<00:02, 1820.93it/s]"
     ]
    },
    {
     "name": "stdout",
     "output_type": "stream",
     "text": [
      "Failed computing util_loss as batch. Trying sequential valuations computation. Decrease dimensions to fix. Error:\n",
      " CUDA out of memory. Tried to allocate 512.00 GiB (GPU 6; 10.76 GiB total capacity; 1.47 GiB already allocated; 8.11 GiB free; 1.94 GiB reserved in total by PyTorch)\n"
     ]
    },
    {
     "name": "stderr",
     "output_type": "stream",
     "text": [
      "100%|██████████| 4096/4096 [00:10<00:00, 390.53it/s]\n"
     ]
    },
    {
     "name": "stdout",
     "output_type": "stream",
     "text": [
      "14\n"
     ]
    },
    {
     "name": "stderr",
     "output_type": "stream",
     "text": [
      "  4%|▍         | 184/4096 [00:00<00:02, 1822.06it/s]"
     ]
    },
    {
     "name": "stdout",
     "output_type": "stream",
     "text": [
      "Failed computing util_loss as batch. Trying sequential valuations computation. Decrease dimensions to fix. Error:\n",
      " CUDA out of memory. Tried to allocate 512.00 GiB (GPU 6; 10.76 GiB total capacity; 1.47 GiB already allocated; 8.11 GiB free; 1.94 GiB reserved in total by PyTorch)\n"
     ]
    },
    {
     "name": "stderr",
     "output_type": "stream",
     "text": [
      "100%|██████████| 4096/4096 [00:10<00:00, 390.85it/s]\n",
      "  4%|▍         | 184/4096 [00:00<00:02, 1821.65it/s]"
     ]
    },
    {
     "name": "stdout",
     "output_type": "stream",
     "text": [
      "Failed computing util_loss as batch. Trying sequential valuations computation. Decrease dimensions to fix. Error:\n",
      " CUDA out of memory. Tried to allocate 512.00 GiB (GPU 6; 10.76 GiB total capacity; 1.47 GiB already allocated; 8.11 GiB free; 1.94 GiB reserved in total by PyTorch)\n"
     ]
    },
    {
     "name": "stderr",
     "output_type": "stream",
     "text": [
      "100%|██████████| 4096/4096 [00:10<00:00, 390.53it/s]\n"
     ]
    },
    {
     "name": "stdout",
     "output_type": "stream",
     "text": [
      "15\n"
     ]
    },
    {
     "name": "stderr",
     "output_type": "stream",
     "text": [
      "  4%|▍         | 184/4096 [00:00<00:02, 1821.63it/s]"
     ]
    },
    {
     "name": "stdout",
     "output_type": "stream",
     "text": [
      "Failed computing util_loss as batch. Trying sequential valuations computation. Decrease dimensions to fix. Error:\n",
      " CUDA out of memory. Tried to allocate 512.00 GiB (GPU 6; 10.76 GiB total capacity; 1.47 GiB already allocated; 8.11 GiB free; 1.94 GiB reserved in total by PyTorch)\n"
     ]
    },
    {
     "name": "stderr",
     "output_type": "stream",
     "text": [
      "100%|██████████| 4096/4096 [00:10<00:00, 390.85it/s]\n",
      "  4%|▍         | 184/4096 [00:00<00:02, 1821.46it/s]"
     ]
    },
    {
     "name": "stdout",
     "output_type": "stream",
     "text": [
      "Failed computing util_loss as batch. Trying sequential valuations computation. Decrease dimensions to fix. Error:\n",
      " CUDA out of memory. Tried to allocate 512.00 GiB (GPU 6; 10.76 GiB total capacity; 1.47 GiB already allocated; 8.11 GiB free; 1.94 GiB reserved in total by PyTorch)\n"
     ]
    },
    {
     "name": "stderr",
     "output_type": "stream",
     "text": [
      "100%|██████████| 4096/4096 [00:10<00:00, 390.54it/s]\n"
     ]
    },
    {
     "name": "stdout",
     "output_type": "stream",
     "text": [
      "16\n"
     ]
    },
    {
     "name": "stderr",
     "output_type": "stream",
     "text": [
      "  4%|▍         | 184/4096 [00:00<00:02, 1822.66it/s]"
     ]
    },
    {
     "name": "stdout",
     "output_type": "stream",
     "text": [
      "Failed computing util_loss as batch. Trying sequential valuations computation. Decrease dimensions to fix. Error:\n",
      " CUDA out of memory. Tried to allocate 512.00 GiB (GPU 6; 10.76 GiB total capacity; 1.47 GiB already allocated; 8.11 GiB free; 1.94 GiB reserved in total by PyTorch)\n"
     ]
    },
    {
     "name": "stderr",
     "output_type": "stream",
     "text": [
      "100%|██████████| 4096/4096 [00:10<00:00, 390.85it/s]\n",
      "  4%|▍         | 184/4096 [00:00<00:02, 1821.82it/s]"
     ]
    },
    {
     "name": "stdout",
     "output_type": "stream",
     "text": [
      "Failed computing util_loss as batch. Trying sequential valuations computation. Decrease dimensions to fix. Error:\n",
      " CUDA out of memory. Tried to allocate 512.00 GiB (GPU 6; 10.76 GiB total capacity; 1.47 GiB already allocated; 8.11 GiB free; 1.94 GiB reserved in total by PyTorch)\n"
     ]
    },
    {
     "name": "stderr",
     "output_type": "stream",
     "text": [
      "100%|██████████| 4096/4096 [00:10<00:00, 390.53it/s]\n"
     ]
    },
    {
     "name": "stdout",
     "output_type": "stream",
     "text": [
      "17\n"
     ]
    },
    {
     "name": "stderr",
     "output_type": "stream",
     "text": [
      "  4%|▍         | 184/4096 [00:00<00:02, 1816.14it/s]"
     ]
    },
    {
     "name": "stdout",
     "output_type": "stream",
     "text": [
      "Failed computing util_loss as batch. Trying sequential valuations computation. Decrease dimensions to fix. Error:\n",
      " CUDA out of memory. Tried to allocate 512.00 GiB (GPU 6; 10.76 GiB total capacity; 1.47 GiB already allocated; 8.11 GiB free; 1.94 GiB reserved in total by PyTorch)\n"
     ]
    },
    {
     "name": "stderr",
     "output_type": "stream",
     "text": [
      "100%|██████████| 4096/4096 [00:10<00:00, 390.83it/s]\n",
      "  4%|▍         | 184/4096 [00:00<00:02, 1821.55it/s]"
     ]
    },
    {
     "name": "stdout",
     "output_type": "stream",
     "text": [
      "Failed computing util_loss as batch. Trying sequential valuations computation. Decrease dimensions to fix. Error:\n",
      " CUDA out of memory. Tried to allocate 512.00 GiB (GPU 6; 10.76 GiB total capacity; 1.47 GiB already allocated; 8.11 GiB free; 1.94 GiB reserved in total by PyTorch)\n"
     ]
    },
    {
     "name": "stderr",
     "output_type": "stream",
     "text": [
      "100%|██████████| 4096/4096 [00:10<00:00, 390.54it/s]\n"
     ]
    },
    {
     "name": "stdout",
     "output_type": "stream",
     "text": [
      "18\n"
     ]
    },
    {
     "name": "stderr",
     "output_type": "stream",
     "text": [
      "  4%|▍         | 184/4096 [00:00<00:02, 1822.85it/s]"
     ]
    },
    {
     "name": "stdout",
     "output_type": "stream",
     "text": [
      "Failed computing util_loss as batch. Trying sequential valuations computation. Decrease dimensions to fix. Error:\n",
      " CUDA out of memory. Tried to allocate 512.00 GiB (GPU 6; 10.76 GiB total capacity; 1.47 GiB already allocated; 8.11 GiB free; 1.94 GiB reserved in total by PyTorch)\n"
     ]
    },
    {
     "name": "stderr",
     "output_type": "stream",
     "text": [
      "100%|██████████| 4096/4096 [00:10<00:00, 390.86it/s]\n",
      "  4%|▍         | 184/4096 [00:00<00:02, 1820.88it/s]"
     ]
    },
    {
     "name": "stdout",
     "output_type": "stream",
     "text": [
      "Failed computing util_loss as batch. Trying sequential valuations computation. Decrease dimensions to fix. Error:\n",
      " CUDA out of memory. Tried to allocate 512.00 GiB (GPU 6; 10.76 GiB total capacity; 1.47 GiB already allocated; 8.11 GiB free; 1.94 GiB reserved in total by PyTorch)\n"
     ]
    },
    {
     "name": "stderr",
     "output_type": "stream",
     "text": [
      "100%|██████████| 4096/4096 [00:10<00:00, 390.54it/s]\n"
     ]
    },
    {
     "name": "stdout",
     "output_type": "stream",
     "text": [
      "19\n"
     ]
    },
    {
     "name": "stderr",
     "output_type": "stream",
     "text": [
      "  4%|▍         | 184/4096 [00:00<00:02, 1823.15it/s]"
     ]
    },
    {
     "name": "stdout",
     "output_type": "stream",
     "text": [
      "Failed computing util_loss as batch. Trying sequential valuations computation. Decrease dimensions to fix. Error:\n",
      " CUDA out of memory. Tried to allocate 512.00 GiB (GPU 6; 10.76 GiB total capacity; 1.47 GiB already allocated; 8.11 GiB free; 1.94 GiB reserved in total by PyTorch)\n"
     ]
    },
    {
     "name": "stderr",
     "output_type": "stream",
     "text": [
      "100%|██████████| 4096/4096 [00:10<00:00, 390.86it/s]\n",
      "  4%|▍         | 184/4096 [00:00<00:02, 1821.50it/s]"
     ]
    },
    {
     "name": "stdout",
     "output_type": "stream",
     "text": [
      "Failed computing util_loss as batch. Trying sequential valuations computation. Decrease dimensions to fix. Error:\n",
      " CUDA out of memory. Tried to allocate 512.00 GiB (GPU 6; 10.76 GiB total capacity; 1.47 GiB already allocated; 8.11 GiB free; 1.94 GiB reserved in total by PyTorch)\n"
     ]
    },
    {
     "name": "stderr",
     "output_type": "stream",
     "text": [
      "100%|██████████| 4096/4096 [00:10<00:00, 390.54it/s]\n"
     ]
    },
    {
     "name": "stdout",
     "output_type": "stream",
     "text": [
      "Weak\n",
      " \tExa mean 0.005219568498432636, std 0.0005537341348826885\n",
      " \tMexi mean 0.02697094716131687 std 0.006576715037226677\n",
      "Strong\n",
      " \tExa mean 0.013147570192813873, std 0.0018447418697178364\n",
      " \tMexi mean 0.05545806884765625 std 0.010918489657342434\n"
     ]
    }
   ],
   "source": [
    "exa_losses_weak = []\n",
    "mexi_losses_weak = []\n",
    "exa_losses_strong = []\n",
    "mexi_losses_strong = []\n",
    "for i in range(20):\n",
    "    print(i)\n",
    "    experiment.bne_env[0].prepare_iteration()\n",
    "    # weak\n",
    "    agent = experiment.bne_env[0].agents[0]\n",
    "    valuation = agent.valuations[:util_loss_batch_size, ...]\n",
    "    grid = agent.get_valuation_grid(util_loss_grid_size, True)\n",
    "    eq_bid_profile = torch.empty(util_loss_batch_size, experiment.n_players, agent.n_items)\n",
    "    for a in experiment.bne_env[0].agents:\n",
    "        eq_bid_profile[:, a.player_position, :] = a.get_action()[:util_loss_batch_size, ...]\n",
    "    ex_i_loss, _ = metrics.ex_interim_util_loss(\n",
    "        experiment.mechanism,eq_bid_profile, agent, valuation, grid)\n",
    "    exa_losses_weak.append(ex_i_loss.mean().item())\n",
    "    mexi_losses_weak.append(ex_i_loss.max().item())\n",
    "    # strong\n",
    "    agent = experiment.bne_env[0].agents[1]\n",
    "    valuation = agent.valuations[:util_loss_batch_size, ...]\n",
    "    grid = agent.get_valuation_grid(util_loss_grid_size, True)\n",
    "    eq_bid_profile = torch.empty(util_loss_batch_size, experiment.n_players, agent.n_items)\n",
    "    for a in experiment.bne_env[0].agents:\n",
    "        eq_bid_profile[:, a.player_position, :] = a.get_action()[:util_loss_batch_size, ...]\n",
    "    ex_i_loss, _ = metrics.ex_interim_util_loss(\n",
    "        experiment.mechanism,eq_bid_profile, agent, valuation, grid)\n",
    "    exa_losses_strong.append(ex_i_loss.mean().item())\n",
    "    mexi_losses_strong.append(ex_i_loss.max().item())\n",
    "uniform_asym_overlap_exa_weak = torch.tensor(exa_losses_weak)\n",
    "uniform_asym_overlap_mexi_weak = torch.tensor(mexi_losses_weak)\n",
    "uniform_asym_overlap_exa_strong = torch.tensor(exa_losses_strong)\n",
    "uniform_asym_overlap_mexi_strong = torch.tensor(mexi_losses_strong)\n",
    "print(f\"Weak\\n \\tExa mean {uniform_asym_overlap_exa_weak.mean().item()}, std {uniform_asym_overlap_exa_weak.std().item()}\\n \\tMexi mean { uniform_asym_overlap_mexi_weak.mean().item()} std {    uniform_asym_overlap_mexi_weak.std().item()}\")\n",
    "print(f\"Strong\\n \\tExa mean {    uniform_asym_overlap_exa_strong.mean().item()}, std {    uniform_asym_overlap_exa_strong.std().item()}\\n \\tMexi mean {    uniform_asym_overlap_mexi_strong.mean().item()} std {    uniform_asym_overlap_mexi_strong.std().item()}\")"
   ]
  },
  {
   "cell_type": "code",
   "execution_count": 121,
   "metadata": {},
   "outputs": [
    {
     "data": {
      "text/plain": [
       "tensor([0.0070, 0.0048, 0.0053, 0.0061, 0.0058, 0.0053, 0.0042, 0.0043, 0.0053,\n",
       "        0.0063, 0.0048, 0.0048, 0.0045, 0.0048, 0.0064, 0.0050, 0.0069, 0.0055,\n",
       "        0.0045, 0.0050])"
      ]
     },
     "execution_count": 121,
     "metadata": {},
     "output_type": "execute_result"
    }
   ],
   "source": [
    "uniform_asym_overlap_exa"
   ]
  },
  {
   "cell_type": "code",
   "execution_count": 124,
   "metadata": {},
   "outputs": [
    {
     "data": {
      "text/plain": [
       "[tensor(0.0008),\n",
       " tensor(0.0006),\n",
       " tensor(0.0010),\n",
       " tensor(0.0008),\n",
       " tensor(0.0015),\n",
       " tensor(0.0007),\n",
       " tensor(0.0014),\n",
       " tensor(0.0014),\n",
       " tensor(0.0012),\n",
       " tensor(0.0005),\n",
       " tensor(0.0002),\n",
       " tensor(9.1984e-05),\n",
       " tensor(0.0002),\n",
       " tensor(0.0010),\n",
       " tensor(0.0009),\n",
       " tensor(0.0011),\n",
       " tensor(0.0011)]"
      ]
     },
     "execution_count": 124,
     "metadata": {},
     "output_type": "execute_result"
    }
   ],
   "source": [
    "[uniform_asym_overlap_exa_weak[i-3:i].max()  - uniform_asym_overlap_exa_weak[i-3:i].min() for i in range(3,20)]    "
   ]
  },
  {
   "cell_type": "code",
   "execution_count": 125,
   "metadata": {},
   "outputs": [
    {
     "data": {
      "text/plain": [
       "[tensor(0.0046),\n",
       " tensor(0.0046),\n",
       " tensor(0.0008),\n",
       " tensor(0.0030),\n",
       " tensor(0.0036),\n",
       " tensor(0.0015),\n",
       " tensor(0.0041),\n",
       " tensor(0.0034),\n",
       " tensor(0.0041),\n",
       " tensor(0.0041),\n",
       " tensor(0.0050),\n",
       " tensor(0.0050),\n",
       " tensor(0.0029),\n",
       " tensor(0.0005),\n",
       " tensor(0.0031),\n",
       " tensor(0.0031),\n",
       " tensor(0.0035)]"
      ]
     },
     "execution_count": 125,
     "metadata": {},
     "output_type": "execute_result"
    }
   ],
   "source": [
    "[uniform_asym_overlap_exa_strong[i-3:i].max()  - uniform_asym_overlap_exa_strong[i-3:i].min() for i in range(3,20)]   "
   ]
  }
 ],
 "metadata": {
  "kernelspec": {
   "display_name": "Python 3",
   "language": "python",
   "name": "python3"
  },
  "language_info": {
   "codemirror_mode": {
    "name": "ipython",
    "version": 3
   },
   "file_extension": ".py",
   "mimetype": "text/x-python",
   "name": "python",
   "nbconvert_exporter": "python",
   "pygments_lexer": "ipython3",
   "version": "3.7.7"
  }
 },
 "nbformat": 4,
 "nbformat_minor": 4
}
