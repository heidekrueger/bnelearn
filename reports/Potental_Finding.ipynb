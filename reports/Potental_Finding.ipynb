{
 "cells": [
  {
   "cell_type": "code",
   "execution_count": 71,
   "metadata": {},
   "outputs": [],
   "source": [
    "import torch\n",
    "from scipy import integrate"
   ]
  },
  {
   "cell_type": "markdown",
   "metadata": {},
   "source": [
    "# Monderer's Prisoner's dilemma"
   ]
  },
  {
   "cell_type": "code",
   "execution_count": 23,
   "metadata": {},
   "outputs": [],
   "source": [
    "G = torch.tensor([\n",
    "    [ [1.,1], [9,0]],\n",
    "    [ [0,9], [6,6]]\n",
    "])\n",
    "\n",
    "P = torch.tensor([\n",
    "    [4.,3],\n",
    "    [3,0]\n",
    "])"
   ]
  },
  {
   "cell_type": "code",
   "execution_count": 213,
   "metadata": {},
   "outputs": [],
   "source": [
    "def u(i, x1, x2):\n",
    "    return (torch.cat([x1, 1-x1]).t() @ G[:, :, i-1] @ torch.cat([x2,1-x2]))\n",
    "\n",
    "    # (Gy)[1] * x1 + (Gy)[2] ((1-x1))\n",
    "    # Gy[1] - Gy[2]\n",
    "\n",
    "def du1x1(x1,x2):\n",
    "    return torch.tensor([1., -1]).t() @ G[:, :, 0] @ torch.tensor([x2,1-x2])\n",
    "\n",
    "def du2x2(x1,x2):\n",
    "    return torch.tensor([x1, (1-x1)]).t() @ G[:, :, 0] @ torch.tensor([1.,-1.])\n",
    "\n",
    "def duixi(i,x1,x2):\n",
    "    return du1x1(x1,x2) if i == 1 else du2x2(x1,x2)\n",
    "\n",
    "def phi(x1, x2):\n",
    "    return (torch.tensor([x1,1-x1]).t() @ P @ torch.tensor([x2,1-x2]))"
   ]
  },
  {
   "cell_type": "code",
   "execution_count": 230,
   "metadata": {},
   "outputs": [
    {
     "name": "stderr",
     "output_type": "stream",
     "text": [
      "/opt/anaconda/anaconda3/envs/bnelearn/lib/python3.7/site-packages/ipykernel_launcher.py:1: UserWarning: To copy construct from a tensor, it is recommended to use sourceTensor.clone().detach() or sourceTensor.clone().detach().requires_grad_(True), rather than torch.tensor(sourceTensor).\n",
      "  \"\"\"Entry point for launching an IPython kernel.\n",
      "/opt/anaconda/anaconda3/envs/bnelearn/lib/python3.7/site-packages/ipykernel_launcher.py:3: UserWarning: To copy construct from a tensor, it is recommended to use sourceTensor.clone().detach() or sourceTensor.clone().detach().requires_grad_(True), rather than torch.tensor(sourceTensor).\n",
      "  This is separate from the ipykernel package so we can avoid doing imports until\n"
     ]
    },
    {
     "data": {
      "text/plain": [
       "[[tensor(0.2084), tensor(0.2084)],\n",
       " [tensor(0.2084), -0.1702523900007762],\n",
       " [tensor(0.9873), tensor(0.9873)],\n",
       " [tensor(0.9873), -0.20918495639494417]]"
      ]
     },
     "execution_count": 230,
     "metadata": {},
     "output_type": "execute_result"
    }
   ],
   "source": [
    "x1 = torch.tensor(torch.rand(1))\n",
    "y1 = torch.rand(1)\n",
    "x2 = torch.tensor(torch.rand(1))\n",
    "y2 = torch.rand(1)\n",
    "\n",
    "[[u(1,x1,x2) - u(1,y1,x2), phi(x1,x2) - phi(y1,x2)],\n",
    " [u(1,x1,x2) - u(1,y1,x2), potential(x1,x2) - potential(y1,x2)],\n",
    " [u(2,x1,x2) - u(2,x1,y2), phi(x1,x2) - phi(x1,y2)],\n",
    " [u(2,x1,x2) - u(2,x1,y2), potential(x1,x2) - potential(x1,y2)]\n",
    "]"
   ]
  },
  {
   "cell_type": "code",
   "execution_count": 215,
   "metadata": {},
   "outputs": [],
   "source": [
    "z = torch.tensor([0., 0.])\n",
    "y = torch.rand(2)"
   ]
  },
  {
   "cell_type": "code",
   "execution_count": 216,
   "metadata": {},
   "outputs": [],
   "source": [
    "def x(t, y):\n",
    "    # y ist vector über 2 spieler\n",
    "    return (1-t)* z + t * y"
   ]
  },
  {
   "cell_type": "code",
   "execution_count": 217,
   "metadata": {},
   "outputs": [],
   "source": [
    "def dxidt(t,i):\n",
    "    return y[i-1] - z[i-1]"
   ]
  },
  {
   "cell_type": "code",
   "execution_count": 218,
   "metadata": {},
   "outputs": [
    {
     "data": {
      "text/plain": [
       "tensor([0.1650, 0.3300])"
      ]
     },
     "execution_count": 218,
     "metadata": {},
     "output_type": "execute_result"
    }
   ],
   "source": [
    "y = torch.tensor([.33, .66])\n",
    "x(0.5,y)"
   ]
  },
  {
   "cell_type": "code",
   "execution_count": 238,
   "metadata": {},
   "outputs": [
    {
     "data": {
      "text/plain": [
       "tensor(2.1499)"
      ]
     },
     "execution_count": 238,
     "metadata": {},
     "output_type": "execute_result"
    }
   ],
   "source": [
    "du1x1(*(0.5*y))"
   ]
  },
  {
   "cell_type": "code",
   "execution_count": 239,
   "metadata": {},
   "outputs": [
    {
     "data": {
      "text/plain": [
       "tensor(2.1499)"
      ]
     },
     "execution_count": 239,
     "metadata": {},
     "output_type": "execute_result"
    }
   ],
   "source": [
    "t=0.5\n",
    "x(t,y), y\n",
    "duixi(1, *x(t,y))"
   ]
  },
  {
   "cell_type": "code",
   "execution_count": 221,
   "metadata": {},
   "outputs": [],
   "source": [
    "def integral(i,y):\n",
    "    return integrate.quad(\n",
    "        lambda t: duixi(i, *x(t,y)) * dxidt(t,i),\n",
    "        0,1\n",
    "    )[0]"
   ]
  },
  {
   "cell_type": "code",
   "execution_count": 229,
   "metadata": {},
   "outputs": [],
   "source": [
    "def potential(x1,x2):\n",
    "    y = torch.tensor([x1,x2])\n",
    "    return integral(1,y) + integral(2,y)"
   ]
  },
  {
   "cell_type": "code",
   "execution_count": 227,
   "metadata": {},
   "outputs": [
    {
     "data": {
      "text/plain": [
       "tensor(-7.6505)"
      ]
     },
     "execution_count": 227,
     "metadata": {},
     "output_type": "execute_result"
    }
   ],
   "source": [
    "y = torch.rand(2)\n",
    "potential(y) - phi(*y)"
   ]
  },
  {
   "cell_type": "code",
   "execution_count": 248,
   "metadata": {},
   "outputs": [],
   "source": [
    "from scipy import ndimage\n",
    "import numpy as np\n",
    "n_points = 20\n",
    "x_, y_ = torch.meshgrid(torch.linspace(0,1,n_points),torch.linspace(0,1,n_points))"
   ]
  },
  {
   "cell_type": "code",
   "execution_count": 251,
   "metadata": {},
   "outputs": [
    {
     "name": "stderr",
     "output_type": "stream",
     "text": [
      "/opt/anaconda/anaconda3/envs/bnelearn/lib/python3.7/site-packages/ipykernel_launcher.py:4: IntegrationWarning: The occurrence of roundoff error is detected, which prevents \n",
      "  the requested tolerance from being achieved.  The error may be \n",
      "  underestimated.\n",
      "  after removing the cwd from sys.path.\n"
     ]
    }
   ],
   "source": [
    "z = torch.tensor([potential(x,y) for (x,y) in zip(x_.reshape(-1,1),y_.reshape(-1,1))]).reshape(n_points,n_points)"
   ]
  },
  {
   "cell_type": "code",
   "execution_count": 252,
   "metadata": {},
   "outputs": [],
   "source": [
    "import matplotlib.pyplot as plt"
   ]
  },
  {
   "cell_type": "code",
   "execution_count": 253,
   "metadata": {},
   "outputs": [
    {
     "data": {
      "text/plain": [
       "<matplotlib.contour.QuadContourSet at 0x7f9d91a238d0>"
      ]
     },
     "execution_count": 253,
     "metadata": {},
     "output_type": "execute_result"
    },
    {
     "data": {
      "image/png": "[encoded data removed]",
      "text/plain": [
       "<Figure size 432x288 with 1 Axes>"
      ]
     },
     "metadata": {
      "needs_background": "light"
     },
     "output_type": "display_data"
    }
   ],
   "source": [
    "plt.contourf(x_, y_, z)"
   ]
  },
  {
   "cell_type": "code",
   "execution_count": 254,
   "metadata": {},
   "outputs": [],
   "source": [
    "z2 =  torch.tensor([phi(x,y) for (x,y) in zip(x_.reshape(-1,1),y_.reshape(-1,1))]).reshape(n_points,n_points)"
   ]
  },
  {
   "cell_type": "code",
   "execution_count": 256,
   "metadata": {},
   "outputs": [
    {
     "data": {
      "text/plain": [
       "<matplotlib.contour.QuadContourSet at 0x7f9d91dcbb50>"
      ]
     },
     "execution_count": 256,
     "metadata": {},
     "output_type": "execute_result"
    },
    {
     "data": {
      "image/png": "[encoded data removed]",
      "text/plain": [
       "<Figure size 432x288 with 1 Axes>"
      ]
     },
     "metadata": {
      "needs_background": "light"
     },
     "output_type": "display_data"
    }
   ],
   "source": [
    "plt.contourf(x_, y_, z2)"
   ]
  },
  {
   "cell_type": "markdown",
   "metadata": {},
   "source": [
    "# 2 player symmetric FPSB"
   ]
  },
  {
   "cell_type": "code",
   "execution_count": 130,
   "metadata": {},
   "outputs": [],
   "source": [
    "v = torch.rand(2)\n",
    "x1 = torch.rand(1)\n",
    "x2 = torch.rand(1)\n",
    "x2 = 0\n",
    "y1 = torch.rand(1)\n",
    "y2 = torch.rand(1)"
   ]
  },
  {
   "cell_type": "code",
   "execution_count": 258,
   "metadata": {},
   "outputs": [],
   "source": [
    "def u(i, v, x1, x2):\n",
    "    x = torch.torch.tensor([x1,x2])\n",
    "    \n",
    "    return v[i-1] - x[i-2] if x[i-1]>x[i-2] else 0\n",
    "\n",
    "def phi(v,x1,x2):\n",
    "    return u(1,v,x1,x2)\n",
    "\n",
    "\n",
    "def beta1(v1, x1):\n",
    "    return v1/(1+x1)\n",
    "\n",
    "def beta2(v2, x2):\n",
    "    return v2/(1+x2)\n",
    "\n",
    "def u_ante(i,x1,x2):\n",
    "    n_points = 100\n",
    "    s=0.\n",
    "    for v1 in torch.linspace(0,1,n_points):\n",
    "        for v2 in torch.linspace(0,1,n_points):\n",
    "            s+=u(i,torch.tensor([v1,v2]), beta1(v1,x1), beta2(v2,x2))\n",
    "    \n",
    "    return s/(n_points**2)\n",
    "    \n",
    "    #return integrate.dblquad(\n",
    "    #    lambda v1, v2: u(i,torch.tensor([v1,v2]),beta1(v1,x1),beta2(v2,x2)),\n",
    "    #    0, 1,\n",
    "    #    lambda v1: 0, lambda v2: 1\n",
    "    #)[0]\n",
    "\n",
    "    \n",
    "    \n",
    "def phi_ante(x1,x2):\n",
    "    # reference: Prop 1 in https://www.jstor.org/stable/pdf/2950588.pdf?refreqid=excelsior%3A88bec3e5585cdf52f459c1c4ea3bf38f\n",
    "    # potential can be written as Phi(x) = u_i(x) - G_i(x_{-i})\n",
    "    return u_ante(1,x1,x2) - u_ante(1,0,x2)\n",
    "    "
   ]
  },
  {
   "cell_type": "code",
   "execution_count": 140,
   "metadata": {},
   "outputs": [
    {
     "data": {
      "text/plain": [
       "tensor(0.1683)"
      ]
     },
     "execution_count": 140,
     "metadata": {},
     "output_type": "execute_result"
    }
   ],
   "source": [
    "u_ante(1,0,0)"
   ]
  },
  {
   "cell_type": "code",
   "execution_count": 137,
   "metadata": {},
   "outputs": [
    {
     "data": {
      "text/plain": [
       "[[tensor(-0.1340), tensor(-0.1340)], [tensor(0.0039), tensor(-0.1324)]]"
      ]
     },
     "execution_count": 137,
     "metadata": {},
     "output_type": "execute_result"
    }
   ],
   "source": [
    "[[u_ante(1,x1,x2) - u_ante(1,y1,x2), phi_ante(x1,x2) - phi_ante(y1,x2)],\n",
    " [u_ante(2,x1,x2) - u_ante(2,x1,y2), phi_ante(x1,x2) - phi_ante(x1,y2)]]"
   ]
  },
  {
   "cell_type": "code",
   "execution_count": 103,
   "metadata": {},
   "outputs": [
    {
     "data": {
      "text/plain": [
       "(tensor([0.4535]), tensor([0.3179]))"
      ]
     },
     "execution_count": 103,
     "metadata": {},
     "output_type": "execute_result"
    }
   ],
   "source": [
    "x1,x2"
   ]
  },
  {
   "cell_type": "code",
   "execution_count": 119,
   "metadata": {},
   "outputs": [
    {
     "data": {
      "text/plain": [
       "tensor([0.0000, 0.1111, 0.2222, 0.3333, 0.4444, 0.5556, 0.6667, 0.7778, 0.8889,\n",
       "        1.0000])"
      ]
     },
     "execution_count": 119,
     "metadata": {},
     "output_type": "execute_result"
    }
   ],
   "source": [
    "torch.linspace(0,1,10)"
   ]
  },
  {
   "cell_type": "code",
   "execution_count": 144,
   "metadata": {},
   "outputs": [],
   "source": [
    "z = [lambda x1, v1: 0, lambda x2, v2:0]"
   ]
  },
  {
   "cell_type": "code",
   "execution_count": 145,
   "metadata": {},
   "outputs": [],
   "source": [
    "y = [lambda x1, v1: beta1(v1,x1), lambda x2, v2: beta2(v2,x2)]"
   ]
  },
  {
   "cell_type": "code",
   "execution_count": 149,
   "metadata": {},
   "outputs": [],
   "source": [
    "def x(t):\n",
    "    return t * y"
   ]
  },
  {
   "cell_type": "code",
   "execution_count": null,
   "metadata": {},
   "outputs": [],
   "source": []
  }
 ],
 "metadata": {
  "kernelspec": {
   "display_name": "Python 3",
   "language": "python",
   "name": "python3"
  },
  "language_info": {
   "codemirror_mode": {
    "name": "ipython",
    "version": 3
   },
   "file_extension": ".py",
   "mimetype": "text/x-python",
   "name": "python",
   "nbconvert_exporter": "python",
   "pygments_lexer": "ipython3",
   "version": "3.7.9"
  }
 },
 "nbformat": 4,
 "nbformat_minor": 4
}
