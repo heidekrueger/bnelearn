{
 "cells": [
  {
   "cell_type": "markdown",
   "metadata": {},
   "source": [
    "# Calculating bne utilities with high precision\n",
    "\n",
    "We usually use an evaluation batch size of `2**22`, but in some settings, we desire more accuracy.\n",
    "This notebook calculates high-precision bne utilities in the LLG settings.\n",
    "\n",
    "It uses an outer loop of `2**8` iterations of evaluating the utility with a batch_size of `2**26`, giving a total `2**34` MC samples.\n",
    "\n",
    "Results:"
   ]
  },
  {
   "cell_type": "code",
   "execution_count": null,
   "metadata": {},
   "outputs": [],
   "source": [
    "nearest_zero = [0.13399262726306915, 0.13399307429790497, 0.46403446793556213]\n",
    "nearest_bid = [0.12500184774398804, 0.12499602138996124, 0.49999746680259705]\n",
    "nearest_vcg = [0.13316573202610016, 0.13316750526428223, 0.4673408269882202]"
   ]
  },
  {
   "cell_type": "code",
   "execution_count": null,
   "metadata": {},
   "outputs": [],
   "source": [
    "payment_rule = 'nearest_vcg'"
   ]
  },
  {
   "cell_type": "code",
   "execution_count": null,
   "metadata": {},
   "outputs": [],
   "source": [
    "import torch\n",
    "from tqdm import tqdm\n",
    "\n",
    "import os\n",
    "import sys\n",
    "root_path = os.path.join(os.path.expanduser('~'), 'bnelearn')\n",
    "if root_path not in sys.path:\n",
    "    sys.path.append(root_path)\n",
    "    \n",
    "from bnelearn.experiment import LLGExperiment, presets\n",
    "from bnelearn.experiment import LearningConfiguration\n",
    "from bnelearn.experiment.gpu_controller import GPUController"
   ]
  },
  {
   "cell_type": "code",
   "execution_count": null,
   "metadata": {},
   "outputs": [],
   "source": [
    "running_configuration, logging_configuration, experiment_configuration, experiment_class =\\\n",
    "        presets.llg(1,1,payment_rule,specific_gpu=1, logging=False)\n",
    "experiment_configuration.n_players = 3\n",
    "\n",
    "logging_configuration.eval_batch_size = 2**26\n",
    "gpu_configuration = GPUController(specific_gpu=7)\n",
    "\n",
    "learning_configuration = LearningConfiguration(\n",
    "        pretrain_iters=1,\n",
    "        batch_size=2**2,\n",
    "        learner_hyperparams = {'population_size': 3,\n",
    "                               'sigma': 1.,\n",
    "                               'scale_sigma_by_model_size': True})\n",
    "experiment = experiment_class(experiment_configuration, learning_configuration,\n",
    "                                          logging_configuration, gpu_configuration)"
   ]
  },
  {
   "cell_type": "code",
   "execution_count": null,
   "metadata": {},
   "outputs": [],
   "source": [
    "experiment._setup_eval_environment()"
   ]
  },
  {
   "cell_type": "code",
   "execution_count": null,
   "metadata": {},
   "outputs": [],
   "source": [
    "utilities = []\n",
    "\n",
    "sys.stdout = open(os.devnull, 'w')\n",
    "\n",
    "for _ in tqdm(range(2**8)):\n",
    "    experiment._setup_eval_environment()\n",
    "    utilities.append(experiment.bne_utilities.unsqueeze(0))    \n",
    "    \n",
    "sys.stdout = sys.__stdout__"
   ]
  },
  {
   "cell_type": "code",
   "execution_count": null,
   "metadata": {},
   "outputs": [],
   "source": [
    "mean_utils = torch.cat(utilities, dim=0).mean(dim=0)\n",
    "result = [i.item() for i in mean_utils]\n",
    "result"
   ]
  },
  {
   "cell_type": "code",
   "execution_count": null,
   "metadata": {},
   "outputs": [],
   "source": [
    "del experiment\n",
    "torch.cuda.empty_cache()\n",
    "torch.cuda.ipc_collect()"
   ]
  }
 ],
 "metadata": {
  "language_info": {
   "name": "python",
   "pygments_lexer": "ipython3"
  }
 },
 "nbformat": 4,
 "nbformat_minor": 4
}
