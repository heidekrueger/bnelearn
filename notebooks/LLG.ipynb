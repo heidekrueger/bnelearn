{
 "cells": [
  {
   "cell_type": "markdown",
   "metadata": {},
   "source": [
    "# LLG Auction in Imperfect Correlation Bernoulli weights model with $\\gamma=0$"
   ]
  },
  {
   "cell_type": "markdown",
   "metadata": {},
   "source": [
    "## Imports"
   ]
  },
  {
   "cell_type": "code",
   "execution_count": 37,
   "metadata": {},
   "outputs": [
    {
     "name": "stdout",
     "output_type": "stream",
     "text": [
      "cuda\n",
      "4\n"
     ]
    }
   ],
   "source": [
    "import os\n",
    "import sys\n",
    "root_path = os.path.abspath(os.path.join('..'))\n",
    "if root_path not in sys.path:\n",
    "    sys.path.append(root_path)\n",
    "import time\n",
    "from timeit import default_timer as timer\n",
    "from functools import partial\n",
    "\n",
    "import torch\n",
    "import torch.nn as nn\n",
    "import torch.nn.utils as ut\n",
    "from torch.optim.optimizer import Optimizer, required\n",
    "\n",
    "from bnelearn.strategy import NeuralNetStrategy, ClosureStrategy\n",
    "from bnelearn.bidder import Bidder\n",
    "from bnelearn.mechanism import LLGAuction\n",
    "from bnelearn.learner import ESPGLearner\n",
    "from bnelearn.environment import AuctionEnvironment\n",
    "\n",
    "from torch.utils.tensorboard import SummaryWriter\n",
    "import numpy as np\n",
    "import matplotlib.pyplot as plt\n",
    "\n",
    "# set up matplotlib\n",
    "is_ipython = 'inline' in plt.get_backend()\n",
    "if is_ipython:\n",
    "    from IPython import display\n",
    "plt.rcParams['figure.figsize'] = [10, 7]\n",
    "    \n",
    "cuda = torch.cuda.is_available()\n",
    "device = 'cuda' if cuda else 'cpu'\n",
    "\n",
    "# Use specific cuda gpu if desired (i.e. for running multiple experiments in parallel)\n",
    "specific_gpu = 4\n",
    "if cuda and specific_gpu:\n",
    "    torch.cuda.set_device(specific_gpu)\n",
    "\n",
    "print(device)\n",
    "if cuda: print(torch.cuda.current_device())"
   ]
  },
  {
   "cell_type": "markdown",
   "metadata": {},
   "source": [
    "## Settings\n"
   ]
  },
  {
   "cell_type": "code",
   "execution_count": null,
   "metadata": {},
   "outputs": [],
   "source": []
  },
  {
   "cell_type": "code",
   "execution_count": 41,
   "metadata": {},
   "outputs": [],
   "source": [
    "# log in notebook folder\n",
    "# alternative for shared access to experiments:\n",
    "#log_root = os.path.abspath('/srv/bnelearn/experiments')\n",
    "log_root = os.path.abspath('.')\n",
    "run_comment = None\n",
    "save_figure_data_to_disc = False\n",
    "save_figure_to_disc = False\n",
    "\n",
    "## Experiment setup\n",
    "n_players = 3\n",
    "n_items = 1\n",
    "\n",
    "payment_rule = 'nearest_bid' # vcg, proxy\n",
    "gamma = 0\n",
    "\n",
    "\n",
    "# valuation distribution\n",
    "\n",
    "u_hi_local = 1.0\n",
    "u_hi_global = 2.0\n",
    "\n",
    "u_lo = 0\n",
    "\n",
    "u_his = [u_hi_local, u_hi_local, u_hi_global]\n",
    "\n",
    "def strat_to_bidder(strategy, batch_size, player_position):\n",
    "    return Bidder.uniform(u_lo, u_his[player_position], strategy, player_position=player_position, batch_size = batch_size)\n",
    "\n",
    "## Environment settings\n",
    "#training batch size\n",
    "batch_size = 2**17\n",
    "eval_batch_size = 2**20\n",
    "epoch = 10000\n",
    "\n",
    "# strategy model architecture\n",
    "input_length = 1\n",
    "hidden_nodes = [5, 5]\n",
    "hidden_activations = [nn.SELU(), nn.SELU()]\n",
    "\n",
    "\n",
    "learner_hyperparams = {\n",
    "    'population_size': 128,\n",
    "    'sigma': 1.,\n",
    "    'scale_sigma_by_model_size': True\n",
    "}\n",
    "\n",
    "### Optimizer hyperparams\n",
    "# SGD standards\n",
    "    #'lr': 1e-3,\n",
    "    #'momentum': 0.7\n",
    "# Adam standards:\n",
    "    # 'lr': 1e-3\n",
    "    # 'betas': (0.9, 0.999), #coefficients for running avgs of grad and square grad\n",
    "    # 'eps': 1e-8 , # added to denominator for numeric stability\n",
    "    # 'weight_decay': 0, #L2-decay\n",
    "    # 'amsgrad': False #whether to use amsgrad-variant\n",
    "optimizer_type = torch.optim.Adam #torch.optim.SGD\n",
    "optimizer_hyperparams ={    \n",
    "    'lr': 1e-3,\n",
    "    #'momentum': 0.9\n",
    "}\n",
    "\n",
    "# plot and log training options\n",
    "plot_epoch = 10\n",
    "plot_points = min(100, batch_size)\n",
    "\n",
    "#plot_xmin = u_lo\n",
    "#plot_xmax = u1_hi\n",
    "#plot_ymin = 0\n",
    "#plot_ymax = 15"
   ]
  },
  {
   "cell_type": "markdown",
   "metadata": {},
   "source": [
    "## Setting up the Environment"
   ]
  },
  {
   "cell_type": "markdown",
   "metadata": {},
   "source": [
    "For equilibria see working document for now\n"
   ]
  },
  {
   "cell_type": "code",
   "execution_count": 42,
   "metadata": {},
   "outputs": [],
   "source": [
    "# for evaluation\n",
    "\n",
    "def optimal_bid(valuation: torch.Tensor or np.ndarray or float, player_position: int) -> torch.Tensor:\n",
    "    if not isinstance(valuation, torch.Tensor):\n",
    "        valuation = torch.tensor(valuation)\n",
    "    \n",
    "    # all core-selecting rules are strategy proof for global player:\n",
    "    if player_position == 2:\n",
    "        return valuation\n",
    "    \n",
    "    ## local bidders:\n",
    "    \n",
    "    if payment_rule == 'vcg':        \n",
    "        return valuation\n",
    "    if payment_rule == 'proxy':\n",
    "        bid_if_positive = 1 + torch.log(valuation * (1.0-gamma) + gamma)/(1.0-gamma)\n",
    "        return torch.max( torch.zeros_like(valuation), bid_if_positive) \n",
    "    if payment_rule == 'nearest_bid':\n",
    "        return  (np.log(2) - torch.log(2.0 - (1. - gamma) * valuation))/ (1.- gamma)\n",
    "    \n",
    "    raise ValueError('optimal bid not implemented for other rules')\n",
    "\n",
    "def setup_custom_scalar_plots(writer):    \n",
    "    ## define layout first, then call add_custom_scalars once\n",
    "    layout = {'eval':\n",
    "        {\n",
    "            #'Loss vs BNE relative': ['Multiline',\n",
    "            #                         ['eval_players/p{}_epsilon_relative'.format(i) for i in range(n_players)]]\n",
    "            #'How to make a margin chart': ['Margin', ['tag_mean', 'tag_min', 'tag_max']]\n",
    "        }\n",
    "    }    \n",
    "    writer.add_custom_scalars(layout) \n",
    "\n",
    "def log_once(writer, e):\n",
    "    \"\"\"Everything that should be logged only once on initialization.\"\"\"\n",
    "    for i in range(n_players):\n",
    "        writer.add_scalar('debug_players/p{}_model_parameters'.format(i), n_parameters[i], e)\n",
    "    writer.add_scalar('debug/model_parameters', sum(n_parameters), e)\n",
    "    writer.add_scalar('debug/eval_batch_size', eval_batch_size, e)\n",
    "    for a in agents:\n",
    "        writer.add_text('hyperparams/neural_net_spec', str(a.strategy), 0)    \n",
    "    #writer.add_scalar('debug/eval_batch_size', eval_batch_size, e)\n",
    "    writer.add_graph(model_l1, env.agents[0].valuations)    \n",
    "\n",
    "def log_hyperparams(writer, e):\n",
    "#     writer.add_scalar('hyperparams/batch_size', batch_size, e)\n",
    "#     writer.add_scalar('hyperparams/batch_size', batch_size, e)\n",
    "#     writer.add_scalar('hyperparams/learning_rate', learning_rate, e)\n",
    "#     writer.add_scalar('hyperparams/momentum', momentum, e)\n",
    "#     writer.add_scalar('hyperparams/sigma', sigma, e)\n",
    "#     writer.add_scalar('hyperparams/n_perturbations', n_perturbations, e)\n",
    "    pass\n",
    "        \n",
    "def log_metrics(writer, u, u_vs_bne, e):\n",
    "    \"\"\"log scalar for each player. Tensor should be of shape n_players\"\"\"\n",
    "    epsilons_rel = eps_rel(u_vs_bne)\n",
    "    epsilons_abs = eps_abs(u_vs_bne)\n",
    "    \n",
    "    # redundant logging of utlities for multiline\n",
    "    for i in range(n_players):\n",
    "        ## Note: multiline chart capture all tags that match the given beginning of the tag_name,\n",
    "        ## i.e. eval/utility will match all of  eval/utility, eval/utility_sp and eval/utlity_vs_bne\n",
    "        ## thus self play utility should be named utility_sp to be able to capture it by itself later.\n",
    "        writer.add_scalar('eval_players/p{}_utility_sp'.format(i), u[i], e)\n",
    "        writer.add_scalar('eval_players/p{}_utility_vs_bne'.format(i), u_vs_bne[i], e)\n",
    "        writer.add_scalar('eval_players/p{}_epsilon_absolute'.format(i), epsilons_abs[i], e)\n",
    "        writer.add_scalar('eval_players/p{}_epsilon_relative'.format(i), epsilons_rel[i], e)\n",
    "    \n",
    "    writer.add_scalar('eval/epsilon_relative', epsilons_rel.mean(),e)\n",
    "    writer.add_scalar('debug/epsilon_absolute', epsilons_abs.mean(),e)\n",
    "\n",
    "vl1_opt = np.linspace(u_lo, u_hi_local, 25)\n",
    "bl1_opt = optimal_bid(vl1_opt, 0).numpy()\n",
    "vl2_opt = np.linspace(u_lo, u_hi_local, 25)\n",
    "bl2_opt = optimal_bid(vl2_opt, 0).numpy()\n",
    "vg_opt = np.linspace(u_lo, u_hi_global, 50)\n",
    "bg_opt = optimal_bid(vg_opt, 2).numpy() \n",
    "\n",
    "plot_xmin = 0\n",
    "plot_xmax = 2\n",
    "plot_ymin = 0\n",
    "plot_ymax = 2.2\n",
    "\n",
    "def plot_bid_function(fig, vl1,bl1, vl2, bl2, vg, bg, writer=None, e=None,\n",
    "                      plot_points=plot_points,\n",
    "                      save_vectors_to_disc=save_figure_data_to_disc,\n",
    "                      save_png_to_disc = False):\n",
    "    #plot_points = min(plot_points, len(v1), len(v2))\n",
    "    \n",
    "    # subsample points and plot    \n",
    "    vl1 = vl1.detach().cpu().numpy()[:plot_points]\n",
    "    bl1 = bl1.detach().cpu().numpy()[:plot_points]\n",
    "    vl2 = vl2.detach().cpu().numpy()[:plot_points]\n",
    "    bl2 = bl2.detach().cpu().numpy()[:plot_points]\n",
    "    vg = vg.detach().cpu().numpy()[:plot_points]\n",
    "    bg = bg.detach().cpu().numpy()[:plot_points]\n",
    "    \n",
    "\n",
    "        \n",
    "    fig = plt.gcf()\n",
    "    plt.cla()\n",
    "    plt.xlim(plot_xmin, plot_xmax)\n",
    "    plt.ylim(plot_ymin, plot_ymax)\n",
    "    plt.xlabel('valuation')\n",
    "    plt.ylabel('bid')\n",
    "    plt.text(plot_xmin + 1, plot_ymax - 1, 'iteration {}'.format(e))\n",
    "    plt.plot(vl1,bl1, 'bo', vl1_opt, bl1_opt, 'b--', vl2,bl2, 'go', vl2_opt, bl2_opt, 'g--', vg,bg, 'ro', vg_opt,bg_opt, 'r--')\n",
    "    if is_ipython:\n",
    "        display.clear_output(wait=True)\n",
    "    display.display(fig)\n",
    "    #plt.show()\n",
    "    if save_png_to_disc:\n",
    "        plt.savefig(os.path.join(logdir, 'png', run_name + f'_{e:05}.png'))\n",
    "    if writer:\n",
    "        writer.add_figure('eval/bid_function', fig, e)  "
   ]
  },
  {
   "cell_type": "markdown",
   "metadata": {},
   "source": [
    "Initialize the model.\n",
    "We'll ensure the initialization provides positive outputs on the domain we are interested in, as otherwise we can't learn."
   ]
  },
  {
   "cell_type": "code",
   "execution_count": 43,
   "metadata": {},
   "outputs": [
    {
     "name": "stdout",
     "output_type": "stream",
     "text": [
      "NeuralNetStrategy(\n",
      "  (layers): ModuleDict(\n",
      "    (fc_0): Linear(in_features=1, out_features=5, bias=True)\n",
      "    (activation_0): SELU()\n",
      "    (fc_1): Linear(in_features=5, out_features=5, bias=True)\n",
      "    (activation_1): SELU()\n",
      "    (fc_out): Linear(in_features=5, out_features=1, bias=True)\n",
      "    (activation_out): ReLU()\n",
      "  )\n",
      ")\n",
      "Total parameters: [46, 46, 46]\n"
     ]
    }
   ],
   "source": [
    "# initialize models\n",
    "model_l1 = NeuralNetStrategy(input_length,                            \n",
    "                            hidden_nodes = hidden_nodes,\n",
    "                            hidden_activations = hidden_activations,\n",
    "                            ensure_positive_output = torch.tensor([float(u_hi_local)])\n",
    "                            ).to(device)   \n",
    "\n",
    "model_l2 = NeuralNetStrategy(input_length,\n",
    "                            hidden_nodes = hidden_nodes,\n",
    "                            hidden_activations = hidden_activations,\n",
    "                            ensure_positive_output = torch.tensor([float(u_hi_local)])\n",
    "                            ).to(device)\n",
    "\n",
    "# global player\n",
    "model_g = NeuralNetStrategy(input_length,\n",
    "                            hidden_nodes = hidden_nodes,\n",
    "                            hidden_activations = hidden_activations,\n",
    "                            ensure_positive_output = torch.tensor([float(u_hi_global)])\n",
    "                            ).to(device)\n",
    "\n",
    "bidder_l1 = strat_to_bidder(model_l1, batch_size, player_position=0)\n",
    "bidder_l2 = strat_to_bidder(model_l2, batch_size, player_position=1)\n",
    "bidder_g  = strat_to_bidder(model_g,  batch_size, player_position=2)\n",
    "\n",
    "agents = [bidder_l1, bidder_l2, bidder_g]\n",
    "\n",
    "n_parameters = [sum([p.numel() for p in model.parameters()]) for model in [b.strategy for b in agents]]\n",
    "\n",
    "\n",
    "\n",
    "mechanism = LLGAuction(rule = payment_rule, cuda = cuda)\n",
    "env = AuctionEnvironment(mechanism,\n",
    "                  agents = agents,\n",
    "                  batch_size = batch_size,\n",
    "                  n_players =n_players,\n",
    "                  strategy_to_player_closure = strat_to_bidder\n",
    "                 )\n",
    "learner_l1 = ESPGLearner(\n",
    "    model = model_l1,\n",
    "    environment = env,\n",
    "    hyperparams = learner_hyperparams,\n",
    "    optimizer_type = optimizer_type,\n",
    "    optimizer_hyperparams = optimizer_hyperparams,\n",
    "    strat_to_player_kwargs={\"player_position\":0})\n",
    "\n",
    "learner_l2 = ESPGLearner(\n",
    "    model = model_l2,\n",
    "    environment = env,\n",
    "    hyperparams = learner_hyperparams,\n",
    "    optimizer_type = optimizer_type,\n",
    "    optimizer_hyperparams = optimizer_hyperparams,\n",
    "    strat_to_player_kwargs={\"player_position\":1})\n",
    "\n",
    "learner_g = ESPGLearner(\n",
    "    model = model_g,\n",
    "    environment = env,\n",
    "    hyperparams = learner_hyperparams,\n",
    "    optimizer_type = optimizer_type,\n",
    "    optimizer_hyperparams = optimizer_hyperparams,\n",
    "    strat_to_player_kwargs={\"player_position\":2})\n",
    "\n",
    "\n",
    "\n",
    "print(model_l1)\n",
    "print('Total parameters: ' + str(n_parameters))"
   ]
  },
  {
   "cell_type": "markdown",
   "metadata": {},
   "source": [
    "## Set up equilibrium-environment"
   ]
  },
  {
   "cell_type": "code",
   "execution_count": 44,
   "metadata": {},
   "outputs": [
    {
     "name": "stdout",
     "output_type": "stream",
     "text": [
      "Utilities in BNE (sampled):\t0.12989\t0.12046\t0.49907.\n",
      "Model utility vs BNE: \t\t0.11985\t0.07948\t0.06859\n",
      "Model utility in learning env:\t0.12960\t0.13167\t0.48710\n"
     ]
    }
   ],
   "source": [
    "bne_strategies = [\n",
    "    ClosureStrategy(partial(optimal_bid, player_position=i))\n",
    "    for i in range(n_players)\n",
    "]\n",
    "\n",
    "bne_env = AuctionEnvironment(\n",
    "    mechanism,\n",
    "    agents = [strat_to_bidder(bne_strategies[i], player_position=i, batch_size=eval_batch_size)\n",
    "              for i in range(n_players)],\n",
    "    n_players = n_players,\n",
    "    batch_size = eval_batch_size,\n",
    "    strategy_to_player_closure = strat_to_bidder\n",
    ")\n",
    "\n",
    "#print(\"Utility in BNE (analytical): \\t{:.5f}\".format(bne_utility))\n",
    "bne_utilities_sampled = torch.tensor([bne_env.get_reward(a, draw_valuations = True) for a in bne_env.agents])\n",
    "print(('Utilities in BNE (sampled):'+ '\\t{:.5f}'*n_players + '.').format(*bne_utilities_sampled))\n",
    "\n",
    "\n",
    "eps_abs = lambda us: bne_utilities_sampled - us\n",
    "eps_rel = lambda us: 1- us/bne_utilities_sampled\n",
    "\n",
    "utilities_vs_bne = torch.tensor([bne_env.get_strategy_reward(a.strategy, player_position=i) for i,a in enumerate(env.agents)])\n",
    "print(('Model utility vs BNE: \\t'+'\\t{:.5f}'*n_players).format(*utilities_vs_bne))\n",
    "\n",
    "utilities_learning_env = torch.tensor([env.get_strategy_reward(a.strategy, player_position=i, draw_valuations = True) for i,a in enumerate(env.agents)])\n",
    "print(('Model utility in learning env:'+'\\t{:.5f}'*n_players).format(*utilities_learning_env))"
   ]
  },
  {
   "cell_type": "code",
   "execution_count": 45,
   "metadata": {},
   "outputs": [
    {
     "data": {
      "image/png": "[encoded data removed]",
      "text/plain": [
       "<Figure size 720x504 with 1 Axes>"
      ]
     },
     "metadata": {},
     "output_type": "display_data"
    },
    {
     "data": {
      "image/png": "[encoded data removed]",
      "text/plain": [
       "<Figure size 720x504 with 1 Axes>"
      ]
     },
     "metadata": {
      "needs_background": "light"
     },
     "output_type": "display_data"
    }
   ],
   "source": [
    "bidder_l1.draw_valuations_()\n",
    "v_l1 = bidder_l1.valuations\n",
    "b_l1 = bidder_l1.get_action()\n",
    "\n",
    "bidder_l2.draw_valuations_()\n",
    "v_l2 = bidder_l2.valuations\n",
    "b_l2 = bidder_l2.get_action()\n",
    "\n",
    "bidder_g.draw_valuations_()\n",
    "v_g = bidder_g.valuations\n",
    "b_g = bidder_g.get_action()\n",
    "\n",
    "fig = plt.figure()\n",
    "plot_bid_function(fig, v_l1, b_l1, v_l2, b_l2, v_g, b_g, writer=None,e=0) "
   ]
  },
  {
   "cell_type": "markdown",
   "metadata": {},
   "source": [
    "## Training"
   ]
  },
  {
   "cell_type": "code",
   "execution_count": 46,
   "metadata": {},
   "outputs": [
    {
     "name": "stdout",
     "output_type": "stream",
     "text": [
      "/home/heidekrueger/bnelearn/notebooks\n"
     ]
    }
   ],
   "source": [
    "print(log_root)"
   ]
  },
  {
   "cell_type": "code",
   "execution_count": null,
   "metadata": {},
   "outputs": [
    {
     "data": {
      "image/png": "[encoded data removed]",
      "text/plain": [
       "<Figure size 720x504 with 1 Axes>"
      ]
     },
     "metadata": {},
     "output_type": "display_data"
    }
   ],
   "source": [
    "if os.name == 'nt': raise ValueError('The run_name may not contain : on Windows! (change datetime format to fix this)') \n",
    "run_name = time.strftime('%Y-%m-%d %a %H:%M')\n",
    "if run_comment:\n",
    "    run_name = run_name + ' - ' + str(run_comment)\n",
    "logdir = os.path.join(log_root, 'llg', str(payment_rule), 'gamma_' + str(gamma), run_name)\n",
    "print(logdir)\n",
    "os.makedirs(logdir, exist_ok=False)\n",
    "if save_figure_to_disc:\n",
    "    os.mkdir(os.path.join(logdir, 'png'))\n",
    "\n",
    "plt.rcParams['figure.figsize'] = [10, 7]\n",
    "with SummaryWriter(logdir, flush_secs=60) as writer:\n",
    "    \n",
    "  \n",
    "    setup_custom_scalar_plots(writer)    \n",
    "    \n",
    "    overhead_mins = 0\n",
    "    torch.cuda.empty_cache()\n",
    "    log_once(writer, 0)\n",
    "    log_hyperparams(writer, 0)\n",
    "    fig = plt.figure()\n",
    "    \n",
    "    \n",
    "    # plot current function output\n",
    "    bidder_l1.draw_valuations_()\n",
    "    v_l1 = bidder_l1.valuations\n",
    "    b_l1 = bidder_l1.get_action()\n",
    "    \n",
    "    bidder_l2.draw_valuations_()\n",
    "    v_l2 = bidder_l2.valuations\n",
    "    b_l2 = bidder_l2.get_action()\n",
    "    \n",
    "    bidder_g.draw_valuations_()\n",
    "    v_g = bidder_g.valuations\n",
    "    b_g = bidder_g.get_action()\n",
    "    plot_bid_function(fig, v_l1, b_l1, v_l2, b_l2, v_g, b_g, writer,e=0, \n",
    "                      save_png_to_disc=save_figure_to_disc) \n",
    "    \n",
    "    for e in range(epoch+1):\n",
    "\n",
    "        # always: do optimizer step\n",
    "        utility_l1 = learner_l1.update_strategy_and_evaluate_utility()\n",
    "        utility_l2 = learner_l2.update_strategy_and_evaluate_utility()\n",
    "        utility_g = learner_g.update_strategy_and_evaluate_utility()\n",
    "        \n",
    "        #logging \n",
    "        start_time = timer()\n",
    "        utilities = torch.tensor([utility_l1, utility_l2, utility_g])\n",
    "        utilities_vs_bne = torch.tensor([bne_env.get_strategy_reward(a.strategy, player_position=i) for i,a in enumerate(env.agents)])\n",
    "        log_metrics(writer, utilities, utilities_vs_bne, e)\n",
    "\n",
    "        if e % plot_epoch == 0:\n",
    "            \n",
    "            # plot current function output\n",
    "            bidder_l1.draw_valuations_()\n",
    "            v_l1 = bidder_l1.valuations\n",
    "            b_l1 = bidder_l1.get_action()\n",
    "\n",
    "            bidder_l2.draw_valuations_()\n",
    "            v_l2 = bidder_l2.valuations\n",
    "            b_l2 = bidder_l2.get_action()\n",
    "\n",
    "            bidder_g.draw_valuations_()\n",
    "            v_g = bidder_g.valuations\n",
    "            b_g = bidder_g.get_action()   \n",
    "            \n",
    "            print(('Epoch: {}: Model utility in learning env:'+'\\t{:.5f}'*n_players).format(e, *utilities))            \n",
    "            #print(\"Epoch {}: \\tutilities: \\t p0: {:.3f} \\t p1: {:.3f}\".format(e, utility_0, utility_1))\n",
    "            plot_bid_function(fig, v_l1, b_l1, v_l2, b_l2, v_g, b_g, writer,e,\n",
    "                              save_png_to_disc=save_figure_to_disc)            \n",
    "        \n",
    "        elapsed = timer() - start_time\n",
    "        overhead_mins = overhead_mins + elapsed/60\n",
    "        writer.add_scalar('debug/overhead_mins', overhead_mins, e)\n",
    "            \n",
    "                     \n",
    "            "
   ]
  },
  {
   "cell_type": "markdown",
   "metadata": {},
   "source": [
    "## Save models and tensors for plot\n",
    "See https://pytorch.org/tutorials/beginner/saving_loading_models.html"
   ]
  }
 ],
 "metadata": {
  "kernelspec": {
   "display_name": "Python 3",
   "language": "python",
   "name": "python3"
  },
  "language_info": {
   "codemirror_mode": {
    "name": "ipython",
    "version": 3
   },
   "file_extension": ".py",
   "mimetype": "text/x-python",
   "name": "python",
   "nbconvert_exporter": "python",
   "pygments_lexer": "ipython3",
   "version": "3.7.4"
  }
 },
 "nbformat": 4,
 "nbformat_minor": 4
}
