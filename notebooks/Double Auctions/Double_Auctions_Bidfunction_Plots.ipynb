{
 "cells": [
  {
   "cell_type": "markdown",
   "metadata": {},
   "source": [
    "# Create DA Bid Function Plots\n",
    "---"
   ]
  },
  {
   "cell_type": "code",
   "execution_count": null,
   "metadata": {},
   "outputs": [],
   "source": [
    "import sys, os\n",
    "import re\n",
    "print(os.getcwd())\n",
    "sys.path.append(os.path.realpath('.'))\n",
    "sys.path.append(os.path.join(os.path.expanduser('~'), 'bnelearn'))\n",
    "sys.path.append(os.path.join(os.path.expanduser('~'), 'projects/bnelearn'))\n",
    "import torch\n",
    "import matplotlib.pyplot as plt\n",
    "import numpy as np\n",
    "colors = plt.rcParams['axes.prop_cycle'].by_key()['color']\n",
    "markers = ['v', '^']\n",
    "\n",
    "from bnelearn.experiment.configuration_manager import ConfigurationManager\n",
    "from bnelearn.strategy import NeuralNetStrategy\n",
    "from bnelearn.experiment.equilibria import (\n",
    "    bne_bilateral_bargaining_uniform_linear,\n",
    "    bne_bilateral_bargaining_uniform_symmetric)"
   ]
  },
  {
   "cell_type": "markdown",
   "metadata": {},
   "source": [
    "### A. Load models"
   ]
  },
  {
   "cell_type": "code",
   "execution_count": null,
   "metadata": {},
   "outputs": [],
   "source": [
    "dir_path = \"/home/pieroth/projects/bnelearn/experiments/bargaining_paper_results/exp-3_experiment/double_auction/single_item/k_price/0.5/uniform/symmetric/risk_1.0/1b1s/2021-10-23 Sat 00.02/00 00:46:38 0/models\"\n",
    "\n",
    "models = list()\n",
    "for file in os.listdir(dir_path):\n",
    "    if file.endswith(\".pt\"):\n",
    "        model_path = dir_path + '/' + file\n",
    "        models.append(NeuralNetStrategy.load(model_path))\n",
    "print(f'Found and loaded {len(models)} models in path.')"
   ]
  },
  {
   "cell_type": "code",
   "execution_count": null,
   "metadata": {},
   "outputs": [],
   "source": [
    "model_names = ['buyer', 'seller']"
   ]
  },
  {
   "cell_type": "markdown",
   "metadata": {},
   "source": [
    "### B. Load BNEs"
   ]
  },
  {
   "cell_type": "code",
   "execution_count": null,
   "metadata": {},
   "outputs": [],
   "source": [
    "experiment_config = \\\n",
    "    ConfigurationManager(\n",
    "        experiment_type='double_auction_single_item_uniform_symmetric',\n",
    "        n_runs=1,  # repeat exp. for different random seeds\n",
    "        n_epochs=0,\n",
    "    )\n",
    "experiment_config.setting.k = 0.5\n",
    "experiment_config.setting.n_buyers = 1\n",
    "bne_strategies = [bne_bilateral_bargaining_uniform_linear(experiment_config, 0, 1)]\n",
    "bne_strategies += bne_bilateral_bargaining_uniform_symmetric(experiment_config)\n"
   ]
  },
  {
   "cell_type": "code",
   "execution_count": null,
   "metadata": {},
   "outputs": [],
   "source": [
    "bne_names = ['linear', '0.25', '0.45']"
   ]
  },
  {
   "cell_type": "markdown",
   "metadata": {},
   "source": [
    "### C. Plot"
   ]
  },
  {
   "cell_type": "code",
   "execution_count": null,
   "metadata": {},
   "outputs": [],
   "source": [
    "v = torch.linspace(0, 1, 35).view(-1, 1)\n",
    "\n",
    "for i, model in enumerate(models):\n",
    "    learned_bid = model.play(v).detach()\n",
    "    plt.plot(\n",
    "        v.numpy(), learned_bid.numpy(),\n",
    "        markers[i], markersize=7,\n",
    "        label=f'NPGA {model_names[i]}',\n",
    "        color=colors[i])\n",
    "    for j, bne_strategy in enumerate(bne_strategies):\n",
    "        bne_bid = bne_strategy(v, i)\n",
    "        plt.plot(\n",
    "            v.numpy(), bne_bid.numpy(), '--',\n",
    "            label=f'BNE {model_names[i]} {bne_names[j]}',\n",
    "            color=colors[i+j])\n",
    "plt.xlabel('valuation/cost $v$'); plt.ylabel('bid $b(v)$')\n",
    "plt.xlim([0, 1]); plt.ylim([0, 1])\n",
    "plt.legend(); plt.tight_layout()\n",
    "plt.savefig('test.eps'); plt.show()"
   ]
  },
  {
   "cell_type": "code",
   "execution_count": null,
   "metadata": {},
   "outputs": [],
   "source": [
    "# Plot symmetric equilibrium strategies\n",
    "all_g_05s = np.linspace(0.04, 0.44, 4)\n",
    "suboptimal_strategies = bne_bilateral_bargaining_uniform_symmetric(experiment_config, list(all_g_05s))\n",
    "suboptimal_bne_names = [str(np.round(value, 2)) for value in all_g_05s]\n",
    "# color_list = np.repeat(np.linspace(0.5, 1.0, len(suboptimal_bne_names))[:, np.newaxis], 2, axis=1)\n",
    "# color_list = [str(value_of_values) for values in color_list for value_of_values in values]\n",
    "color_list = [(0/255.,150/255.,196/255.),(248/255.,118/255.,109/255.),\n",
    "              (150/255.,120/255.,170/255.),(255/255.,215/255.,130/255.),\n",
    "              (0/255.,150/255.,196/255.),(248/255.,118/255.,109/255.),\n",
    "              (150/255.,120/255.,170/255.),(255/255.,215/255.,130/255.)\n",
    "              ]\n",
    "marker = [\"<\", \"s\"]\n",
    "linestyles = [\"-\", \"--\", \"-.\", \":\", (0, (1, 10)), (0, (1, 1)), (0, (5, 10)), (0, (5, 1)), (0, (3, 10, 1, 10)), (0, (3, 1, 1, 1)), (0, (3, 10, 1, 10, 1, 10)), (0, (3, 1, 1, 1, 1, 1))]"
   ]
  },
  {
   "cell_type": "code",
   "execution_count": null,
   "metadata": {},
   "outputs": [],
   "source": [
    "v = torch.linspace(0, 1, 350).view(-1, 1)\n",
    "figure_plt = plt.figure()\n",
    "plt.style.use('ggplot')\n",
    "for i in [0, 1]:\n",
    "    for j, bne_strategy in enumerate(suboptimal_strategies):\n",
    "        bne_bid = bne_strategy(v, i)\n",
    "        plt.plot(\n",
    "            v.numpy(), bne_bid.numpy(),\n",
    "            label=f'BNE {model_names[i]} {suboptimal_bne_names[j]}',\n",
    "            color=color_list[4*i + j], marker=marker[i], markevery=50,\n",
    "            linestyle=linestyles[j])\n",
    "plt.xlabel('Valuation'); plt.ylabel('Bid')\n",
    "plt.xlim([0, 1]); plt.ylim([0, 1])\n",
    "plt.legend(); plt.tight_layout()\n",
    "plt.savefig('sub_optimal_bne_strategies.pdf'); plt.show()"
   ]
  },
  {
   "cell_type": "code",
   "execution_count": null,
   "metadata": {},
   "outputs": [],
   "source": []
  }
 ],
 "metadata": {
  "interpreter": {
   "hash": "f07b15497a15e983b8f4165b5868a5dd6bb742c724a26351a955834aa0dcaad7"
  },
  "kernelspec": {
   "display_name": "Python 3.9.6 64-bit ('bnelearn': conda)",
   "language": "python",
   "name": "python3"
  },
  "language_info": {
   "codemirror_mode": {
    "name": "ipython",
    "version": 3
   },
   "file_extension": ".py",
   "mimetype": "text/x-python",
   "name": "python",
   "nbconvert_exporter": "python",
   "pygments_lexer": "ipython3",
   "version": "3.9.7"
  },
  "orig_nbformat": 4
 },
 "nbformat": 4,
 "nbformat_minor": 2
}
