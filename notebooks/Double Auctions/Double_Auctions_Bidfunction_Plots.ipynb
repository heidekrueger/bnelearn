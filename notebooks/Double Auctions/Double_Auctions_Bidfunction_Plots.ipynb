{
 "cells": [
  {
   "cell_type": "markdown",
   "metadata": {},
   "source": [
    "# Create DA Bid Function Plots\n",
    "---"
   ]
  },
  {
   "cell_type": "code",
   "execution_count": null,
   "metadata": {},
   "outputs": [],
   "source": [
    "import sys, os\n",
    "import re\n",
    "\n",
    "print(os.getcwd())\n",
    "sys.path.append(os.path.realpath('.'))\n",
    "sys.path.append(os.path.join(os.path.expanduser('~'), 'bnelearn'))\n",
    "sys.path.append(os.path.join(os.path.expanduser('~'), 'projects/bnelearn'))\n",
    "\n",
    "import torch\n",
    "import matplotlib.pyplot as plt\n",
    "import numpy as np\n",
    "\n",
    "from bnelearn.experiment.configuration_manager import ConfigurationManager\n",
    "from bnelearn.strategy import NeuralNetStrategy\n",
    "from bnelearn.experiment.equilibria import (\n",
    "    bne_bilateral_bargaining_uniform_linear,\n",
    "    bne_bilateral_bargaining_uniform_symmetric)\n",
    "colors = [(0/255.,150/255.,196/255.),(248/255.,118/255.,109/255.),\n",
    "              (150/255.,120/255.,170/255.),(255/255.,215/255.,130/255.),\n",
    "              (0/255.,150/255.,196/255.),(248/255.,118/255.,109/255.),\n",
    "              (150/255.,120/255.,170/255.),(255/255.,215/255.,130/255.)\n",
    "              ]\n",
    "markers = ['v', '^', \"<\", \"s\"]\n",
    "\n",
    "linestyles = [\"-\", \"--\", \"-.\", \":\",\n",
    "              (0, (1, 10)), (0, (1, 1)), (0, (5, 10)), (0, (5, 1)),\n",
    "              (0, (3, 10, 1, 10)), (0, (3, 1, 1, 1)),\n",
    "              (0, (3, 10, 1, 10, 1, 10)), (0, (3, 1, 1, 1, 1, 1))]"
   ]
  },
  {
   "cell_type": "markdown",
   "metadata": {},
   "source": [
    "### A. Load models"
   ]
  },
  {
   "cell_type": "code",
   "execution_count": null,
   "metadata": {},
   "outputs": [],
   "source": [
    "# exp-5 plot\n",
    "# dir_path = \"/home/kohring/bnelearn/experiments/debug/exp-5-3_experiment/double_auction/single_item/k_price/0.5/uniform/symmetric/risk_1.0/4b1s/2022-01-25 Tue 19.02/02 19:57:17 2/models\"\n",
    "# exp7 plot\n",
    "dir_path = \"/home/kohring/bnelearn/experiments/debug/exp-7-3_experiment/double_auction/single_item/k_price/0.5/uniform/symmetric/risk_1.0/4b4s/2022-01-25 Tue 19.03/01 20:27:50 1/models\"\n",
    "models = list()\n",
    "for file in os.listdir(dir_path):\n",
    "    if file.endswith(\".pt\"):\n",
    "        model_path = dir_path + '/' + file\n",
    "        models.append(NeuralNetStrategy.load(model_path))\n",
    "print(f'Found and loaded {len(models)} models in path.')"
   ]
  },
  {
   "cell_type": "code",
   "execution_count": null,
   "metadata": {},
   "outputs": [],
   "source": [
    "model_names = ['buyer', 'seller']"
   ]
  },
  {
   "cell_type": "markdown",
   "metadata": {},
   "source": [
    "### B. Load BNEs"
   ]
  },
  {
   "cell_type": "code",
   "execution_count": null,
   "metadata": {},
   "outputs": [],
   "source": [
    "experiment_config = \\\n",
    "    ConfigurationManager(\n",
    "        experiment_type='double_auction_single_item_uniform_symmetric',\n",
    "        n_runs=1,  # repeat exp. for different random seeds\n",
    "        n_epochs=0,\n",
    "    )\n",
    "experiment_config.setting.k = 0.5\n",
    "experiment_config.setting.n_buyers = 1\n",
    "bne_strategies = [bne_bilateral_bargaining_uniform_linear(experiment_config, 0, 1)]\n",
    "bne_strategies += bne_bilateral_bargaining_uniform_symmetric(experiment_config)\n"
   ]
  },
  {
   "cell_type": "code",
   "execution_count": null,
   "metadata": {},
   "outputs": [],
   "source": [
    "bne_names = ['linear', '0.25', '0.45']"
   ]
  },
  {
   "cell_type": "markdown",
   "metadata": {},
   "source": [
    "### C. Plot"
   ]
  },
  {
   "cell_type": "code",
   "execution_count": null,
   "metadata": {},
   "outputs": [],
   "source": [
    "v = torch.linspace(0, 1, 100).view(-1, 1)\n",
    "\n",
    "plt.style.use(\"ggplot\")\n",
    "fig = plt.figure(figsize=(4.5, 4.5))\n",
    "ax = fig.add_subplot(111)\n",
    "\n",
    "for i, model in enumerate(models):\n",
    "    learned_bid = model.play(v).detach()\n",
    "    plt.plot(\n",
    "        v.numpy(), learned_bid.numpy(),\n",
    "        markers[i], #linestyle='--', \n",
    "        markersize=7, markevery=.04,\n",
    "        label=f'NPGA {model_names[i]}',\n",
    "        color=colors[i])\n",
    "    # for j, bne_strategy in enumerate(bne_strategies):\n",
    "    #     bne_bid = bne_strategy(v, i)\n",
    "    #     plt.plot(\n",
    "    #         v.numpy(), bne_bid.numpy(), '--',\n",
    "    #         label=f'BNE {model_names[i]} {bne_names[j]}',\n",
    "    #         color=colors[i+j])\n",
    "    plt.plot(\n",
    "        v.numpy(), v.numpy(),\n",
    "        '--', markersize=7,\n",
    "        color='grey')\n",
    "plt.xlabel('valuation / cost $v$'); plt.ylabel('bid / ask $b(v)$')\n",
    "plt.xlim([0, 1]); plt.ylim([0, 1])\n",
    "plt.legend(); plt.tight_layout()\n",
    "ax.set_aspect(1)\n",
    "plt.savefig('exp-7-3_figure_4buyers_4sellers.pdf'); plt.show()\n",
    "fig.clear()\n",
    "plt.close(fig)"
   ]
  },
  {
   "cell_type": "code",
   "execution_count": null,
   "metadata": {},
   "outputs": [],
   "source": [
    "# Plot symmetric equilibrium strategies\n",
    "all_g_05s = [0.25, 3./8., 0.45]\n",
    "suboptimal_strategies = bne_bilateral_bargaining_uniform_symmetric(experiment_config, list(all_g_05s))\n",
    "suboptimal_bne_names = [str(np.round(value, 3)) for value in all_g_05s]"
   ]
  },
  {
   "cell_type": "code",
   "execution_count": null,
   "metadata": {},
   "outputs": [],
   "source": [
    "plt.style.use('ggplot')\n",
    "v = torch.linspace(0, 1, 350).view(-1, 1)\n",
    "figure_plt = plt.figure(figsize=(4.5, 4.5))\n",
    "ax = figure_plt.add_subplot(111)\n",
    "for i in [0, 1]:\n",
    "    for j, bne_strategy in enumerate(suboptimal_strategies):\n",
    "        bne_bid = bne_strategy(v, i)\n",
    "        plt.plot(\n",
    "            v.numpy(), bne_bid.numpy(),\n",
    "            label=model_names[i] + ' $g_{sym} = $' + suboptimal_bne_names[j],\n",
    "            color=colors[4*i + j], marker=markers[i], markevery=30,\n",
    "            linestyle='--')\n",
    "plt.xlabel('valuation / cost $v$'); plt.ylabel('bid / ask $b(v)$')\n",
    "plt.xlim([0, 1]); plt.ylim([0, 1])\n",
    "plt.legend(ncol=2, loc='lower center', prop={'size': 9}); plt.tight_layout()\n",
    "ax.set_aspect(1)\n",
    "plt.savefig('sub_optimal_bne_strategies.pdf'); plt.show()\n",
    "figure_plt.clear()\n",
    "plt.close(figure_plt)"
   ]
  },
  {
   "cell_type": "code",
   "execution_count": null,
   "metadata": {},
   "outputs": [],
   "source": []
  }
 ],
 "metadata": {
  "interpreter": {
   "hash": "f07b15497a15e983b8f4165b5868a5dd6bb742c724a26351a955834aa0dcaad7"
  },
  "kernelspec": {
   "display_name": "Python 3.9.6 64-bit ('bnelearn': conda)",
   "language": "python",
   "name": "python3"
  },
  "language_info": {
   "codemirror_mode": {
    "name": "ipython",
    "version": 3
   },
   "file_extension": ".py",
   "mimetype": "text/x-python",
   "name": "python",
   "nbconvert_exporter": "python",
   "pygments_lexer": "ipython3",
   "version": "3.9.7"
  },
  "orig_nbformat": 4
 },
 "nbformat": 4,
 "nbformat_minor": 2
}
