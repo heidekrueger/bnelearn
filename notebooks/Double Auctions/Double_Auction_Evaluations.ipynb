{
 "cells": [
  {
   "cell_type": "markdown",
   "source": [
    "# Bilateral Bargaining: Evaluation of the Experiments"
   ],
   "metadata": {}
  },
  {
   "cell_type": "code",
   "execution_count": null,
   "source": [
    "import os\n",
    "import sys\n",
    "import json\n",
    "import numpy as np\n",
    "import torch\n",
    "import matplotlib.pyplot as plt\n",
    "import re\n",
    "import pandas as pd\n",
    "\n",
    "# pylint: disable=wrong-import-position\n",
    "sys.path.append(os.path.realpath('.'))\n",
    "sys.path.append(os.path.join(os.path.expanduser('~'), 'bnelearn'))\n",
    "\n",
    "from bnelearn.util.metrics import ALIASES_LATEX\n",
    "from scripts.utils import *"
   ],
   "outputs": [],
   "metadata": {}
  },
  {
   "cell_type": "code",
   "execution_count": null,
   "source": [
    "### EXP-1 BB 1/2-DA & VCG -----------------------------------------------------\n",
    "path = '/home/kohring/bnelearn/experiments/debug/exp-1_experiment-v3'\n",
    "\n",
    "path_kDA = path + '/double_auction/single_item/k_price/0.5/uniform/symmetric/risk_1.0/1b1s/'\n",
    "path_kDA += os.listdir(path_kDA)[0]\n",
    "path_VCG = path + '/double_auction/single_item/vcg/uniform/symmetric/risk_1.0/1b1s/'\n",
    "path_VCG += os.listdir(path_VCG)[0] \n",
    "\n",
    "exps = dict()\n",
    "exps['$0.5$-DA'] = path_kDA + '/aggregate_log.csv'\n",
    "exps['VCG'] = path_VCG + '/aggregate_log.csv'\n",
    "\n",
    "with open(path_kDA + '/experiment_configurations.json') as json_file:\n",
    "    running = json.load(json_file)['running']\n",
    "    n_runs, n_epochs = running['n_runs'], running['n_epochs']\n",
    "\n",
    "csv_to_tex(\n",
    "    experiments = exps,\n",
    "    name = os.curdir + '/exp-1_table.tex',\n",
    "    metrics = ['eval_vs_bne/L_2', 'eval_vs_bne/epsilon_relative', 'eval/estimated_relative_ex_ante_util_loss'],\n",
    "    caption = f\"Mean and standard deviation over {'ten' if n_runs==10 else n_runs} runs of {int(n_epochs/1000)},000 iterations of the learning metrics for the two most common mechanisms in the bilateral bargaining setup. For the average double auction, we only compare the learned strategies to the payoff dominant equilibrium strategies.\",\n",
    "    symmetric = False,\n",
    "    label = 'tab:exp-1_table'\n",
    ")"
   ],
   "outputs": [],
   "metadata": {}
  },
  {
   "cell_type": "code",
   "execution_count": null,
   "source": [
    "def get_value_and_std_from_df_entry(df_entry: str) -> float:\n",
    "    list_of_numbers = re.findall('\\d+', df_entry)\n",
    "    return float(list_of_numbers[0] + '.' + list_of_numbers[1]), float(list_of_numbers[2] + '.' + list_of_numbers[3])"
   ],
   "outputs": [],
   "metadata": {}
  },
  {
   "cell_type": "code",
   "execution_count": null,
   "source": [
    "### EXP-2 risk experiments ----------------------------------------------------\n",
    "path = '/home/kohring/bnelearn/experiments/debug/exp-2_experiment-v2'\n",
    "path += '/double_auction/single_item/k_price/0.5/uniform/symmetric'\n",
    "exps = dict()\n",
    "for risk_str in sorted(next(os.walk(path))[1]):\n",
    "    exps[float(risk_str[5:])] = get_sub_path(path + '/' + risk_str, 2) + '/aggregate_log.csv'\n",
    "\n",
    "csv_to_tex(\n",
    "    experiments = exps,\n",
    "    name = os.curdir + '/exp-2_table.tex',\n",
    "    metrics = ['eval_vs_bne/L_2', 'eval_vs_bne/epsilon_relative', 'eval/estimated_relative_ex_ante_util_loss'],\n",
    "    symmetric = False,\n",
    "    caption = 'Mean and standard deviation of experiments over ten runs' \\\n",
    "        + ' each for differnt risk attitutes of the buyer and seller.',\n",
    "    label = 'tab:exp-2_table'\n",
    ")"
   ],
   "outputs": [],
   "metadata": {}
  },
  {
   "cell_type": "code",
   "execution_count": null,
   "source": [
    "path = '/home/pieroth/bnelearn/experiments/debug/exp-3_experiment_10_seeds/double_auction/single_item/k_price/0.5/uniform/symmetric/risk_1.0/1b1s/'\n",
    "metrics_names = [\"eval_vs_bne/epsilon_relative\", \"eval_vs_bne/L_2\"]\n",
    "metrics_names_latex = [\"$\\mathcal{L}^\\text{BNE{1}}$\", \"$L_2^\\text{BNE{1}}$\"]\n",
    "plot_metric_names_latex = [\"$\\mathcal{L}$\", \"$L_2$\"]\n",
    "bidders = ['buyer', 'seller']\n",
    "exp_names = sorted(os.listdir(path))\n",
    "metrics = np.zeros((2, 2, len(metrics_names), len(exp_names)))\n",
    "\n",
    "g_05s = np.zeros(len(exp_names))\n",
    "for i, exp_name in enumerate(exp_names):\n",
    "    with open(path + exp_name + '/experiment_configurations.json') as json_file:\n",
    "        g_05s[i] = float(json.load(json_file)['setting']['pretrain_transform'])\n",
    "    df = single_exp_logs_to_df(path=path + exp_name + '/aggregate_log.csv',\n",
    "                               with_stddev=True, metrics=metrics_names)\n",
    "    # buyer\n",
    "    for bidder_id in range(len(bidders)):\n",
    "        for metric_id in range(len(metrics_names)):\n",
    "            mean, std = get_value_and_std_from_df_entry(df[metrics_names_latex[metric_id]][bidder_id])\n",
    "            metrics[bidder_id, 0, metric_id, i] = mean\n",
    "            metrics[bidder_id, 1, metric_id, i] = std\n",
    "\n",
    "\n",
    "metrics[metrics != metrics] = np.inf\n",
    "colors = [['blue', 'green'],\n",
    "          ['orange', 'black']]\n",
    "\n",
    "plt.figure()\n",
    "for bidder_id, bidder in enumerate(bidders):\n",
    "    for metric_name_id, metric_name in enumerate(plot_metric_names_latex):\n",
    "        plt.plot(g_05s, metrics[bidder_id, 0, metric_name_id], label=metric_name + ' ' + bidder, color=colors[bidder_id][metric_name_id])\n",
    "        plt.fill_between(\n",
    "            g_05s,\n",
    "            metrics[bidder_id, 0, metric_name_id] - metrics[bidder_id, 1, metric_name_id],\n",
    "            metrics[bidder_id, 0, metric_name_id] + metrics[bidder_id, 1, metric_name_id],\n",
    "            alpha=0.4,\n",
    "            color=colors[bidder_id][metric_name_id])\n",
    "plt.plot([3./8., 3./8.], [0, 1], '--', color='grey', label=r'linear BNE')\n",
    "plt.xlabel('g-0.5 value'); plt.ylabel('difference to linear BNE')\n",
    "plt.xlim([g_05s[0], g_05s[-1]]); plt.ylim([0, .3])\n",
    "plt.legend(loc='upper left')\n",
    "plt.savefig(os.curdir + '/exp-3_figure.pdf')\n",
    "plt.show()"
   ],
   "outputs": [],
   "metadata": {}
  },
  {
   "cell_type": "code",
   "execution_count": null,
   "source": [
    "## EXP-3 custom pretraining experiments --------------------------------------\n",
    "path = '/home/pieroth/bnelearn/experiments/debug/exp-3_experiment_test_AdamW/double_auction/single_item/k_price/0.5/uniform/symmetric/risk_1.0/1b1s/'\n",
    "metrics_names = ['eval_vs_bne/L_2', 'eval_vs_bne/epsilon_relative', 'eval/estimated_relative_ex_ante_util_loss']\n",
    "bne_ids = [1, 4]\n",
    "metric_names_latex = ['pretrain_transform', 'bidder']\n",
    "for bne_id in bne_ids:\n",
    "    metric_names_latex.extend([\"$\\mathcal{L}^\\text{BNE{%s}}$\" % str(bne_id), \"$L_2^\\text{BNE{%s}}$\" % bne_id])\n",
    "\n",
    "exp_names = sorted(os.listdir(path))\n",
    "experiments = {}\n",
    "df_list = []\n",
    "for i, exp_name in enumerate(exp_names):\n",
    "    with open(path + exp_name + '/experiment_configurations.json') as json_file:\n",
    "        g_05 = float(json.load(json_file)['setting']['pretrain_transform'])\n",
    "        g_05 = \"{:.2f}\".format(g_05)\n",
    "    df = single_exp_logs_to_df(path=path + exp_name + '/aggregate_log.csv',\n",
    "                               with_stddev=True, metrics=metrics_names)\n",
    "    df.insert(0, 'pretrain_transform', [g_05, None])\n",
    "    df_list.append(df)\n",
    "combined_df = pd.concat(df_list)\n",
    "sliced_df = combined_df[metric_names_latex]\n",
    "\n",
    "df_to_tex(sliced_df, name='exp-3_table_pretrain_transforms_AdamW.tex',\n",
    "        label='tab:exp-3_table_pretrain_transform',\n",
    "        caption='Mean and standard deviation of experiments over ten runs' \\\n",
    "        + ' each for a different pretrained non-optimal Equilibrium.')"
   ],
   "outputs": [],
   "metadata": {}
  },
  {
   "cell_type": "code",
   "execution_count": null,
   "source": [],
   "outputs": [],
   "metadata": {}
  }
 ],
 "metadata": {
  "kernelspec": {
   "name": "python3",
   "display_name": "Python 3.9.6 64-bit ('bnelearn': conda)"
  },
  "language_info": {
   "codemirror_mode": {
    "name": "ipython",
    "version": 3
   },
   "file_extension": ".py",
   "mimetype": "text/x-python",
   "name": "python",
   "nbconvert_exporter": "python",
   "pygments_lexer": "ipython3",
   "version": "3.9.6"
  },
  "interpreter": {
   "hash": "a89ad1e506f9b247626892f55d882d2b9c2f5b7c09980bc46fad193c29e67541"
  }
 },
 "nbformat": 4,
 "nbformat_minor": 5
}