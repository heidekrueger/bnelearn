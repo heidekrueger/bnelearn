{
 "cells": [
  {
   "cell_type": "markdown",
   "metadata": {},
   "source": [
    "# Bilateral Bargaining: Evaluation of the Experiments"
   ]
  },
  {
   "cell_type": "code",
   "execution_count": null,
   "metadata": {},
   "outputs": [],
   "source": [
    "import os\n",
    "import sys\n",
    "import json\n",
    "import numpy as np\n",
    "import torch\n",
    "import matplotlib.pyplot as plt\n",
    "import re\n",
    "import pandas as pd\n",
    "\n",
    "# pylint: disable=wrong-import-position\n",
    "sys.path.append(os.path.realpath('.'))\n",
    "sys.path.append(os.path.join(os.path.expanduser('~'), 'bnelearn'))\n",
    "\n",
    "from bnelearn.util.metrics import ALIASES_LATEX\n",
    "from scripts.utils import *"
   ]
  },
  {
   "cell_type": "code",
   "execution_count": null,
   "metadata": {},
   "outputs": [],
   "source": [
    "### EXP-1 BB 1/2-DA & VCG -----------------------------------------------------\n",
    "path = '/home/kohring/bnelearn/experiments/debug/exp-1_experiment-v3'\n",
    "\n",
    "path_kDA = path + '/double_auction/single_item/k_price/0.5/uniform/symmetric/risk_1.0/1b1s/'\n",
    "path_kDA += os.listdir(path_kDA)[0]\n",
    "path_VCG = path + '/double_auction/single_item/vcg/uniform/symmetric/risk_1.0/1b1s/'\n",
    "path_VCG += os.listdir(path_VCG)[0] \n",
    "\n",
    "exps = dict()\n",
    "exps['$0.5$-DA'] = path_kDA + '/aggregate_log.csv'\n",
    "exps['VCG'] = path_VCG + '/aggregate_log.csv'\n",
    "\n",
    "with open(path_kDA + '/experiment_configurations.json') as json_file:\n",
    "    running = json.load(json_file)['running']\n",
    "    n_runs, n_epochs = running['n_runs'], running['n_epochs']\n",
    "\n",
    "csv_to_tex(\n",
    "    experiments = exps,\n",
    "    name = os.curdir + '/exp-1_table.tex',\n",
    "    metrics = ['eval_vs_bne/L_2', 'eval_vs_bne/epsilon_relative', 'eval/estimated_relative_ex_ante_util_loss'],\n",
    "    caption = f\"Mean and standard deviation over {'ten' if n_runs==10 else n_runs} runs of {int(n_epochs/1000)},000 iterations of the learning metrics for the two most common mechanisms in the bilateral bargaining setup. For the average double auction, we only compare the learned strategies to the payoff dominant equilibrium strategies.\",\n",
    "    symmetric = False,\n",
    "    label = 'tab:exp-1_table'\n",
    ")"
   ]
  },
  {
   "cell_type": "code",
   "execution_count": null,
   "metadata": {},
   "outputs": [],
   "source": [
    "def get_value_and_std_from_df_entry(df_entry: str) -> float:\n",
    "    list_of_numbers = re.findall('\\d+', df_entry)\n",
    "    return float(list_of_numbers[0] + '.' + list_of_numbers[1]), float(list_of_numbers[2] + '.' + list_of_numbers[3])"
   ]
  },
  {
   "cell_type": "code",
   "execution_count": null,
   "metadata": {},
   "outputs": [],
   "source": [
    "### EXP-2 risk experiments ----------------------------------------------------\n",
    "path = '/home/kohring/bnelearn/experiments/debug/exp-2_experiment-v2'\n",
    "path += '/double_auction/single_item/k_price/0.5/uniform/symmetric'\n",
    "exps = dict()\n",
    "for risk_str in sorted(next(os.walk(path))[1]):\n",
    "    exps[float(risk_str[5:])] = get_sub_path(path + '/' + risk_str, 2) + '/aggregate_log.csv'\n",
    "\n",
    "csv_to_tex(\n",
    "    experiments = exps,\n",
    "    name = os.curdir + '/exp-2_table.tex',\n",
    "    metrics = ['eval_vs_bne/L_2', 'eval_vs_bne/epsilon_relative', 'eval/estimated_relative_ex_ante_util_loss'],\n",
    "    symmetric = False,\n",
    "    caption = 'Mean and standard deviation of experiments over ten runs' \\\n",
    "        + ' each for differnt risk attitutes of the buyer and seller.',\n",
    "    label = 'tab:exp-2_table'\n",
    ")"
   ]
  },
  {
   "cell_type": "code",
   "execution_count": null,
   "metadata": {},
   "outputs": [],
   "source": [
    "path = '/home/pieroth/bnelearn/experiments/debug/exp-3_experiment_10_seeds/double_auction/single_item/k_price/0.5/uniform/symmetric/risk_1.0/1b1s/'\n",
    "metrics_names = [\"eval_vs_bne/epsilon_relative\", \"eval_vs_bne/L_2\"]\n",
    "metrics_names_latex = [\"$\\mathcal{L}^\\text{BNE{1}}$\", \"$L_2^\\text{BNE{1}}$\"]\n",
    "plot_metric_names_latex = [\"$\\mathcal{L}$\", \"$L_2$\"]\n",
    "bidders = ['buyer', 'seller']\n",
    "exp_names = sorted(os.listdir(path))\n",
    "metrics = np.zeros((2, 2, len(metrics_names), len(exp_names)))\n",
    "\n",
    "g_05s = np.zeros(len(exp_names))\n",
    "for i, exp_name in enumerate(exp_names):\n",
    "    with open(path + exp_name + '/experiment_configurations.json') as json_file:\n",
    "        g_05s[i] = float(json.load(json_file)['setting']['pretrain_transform'])\n",
    "    df = single_exp_logs_to_df(path=path + exp_name + '/aggregate_log.csv',\n",
    "                               with_stddev=True, metrics=metrics_names)\n",
    "    # buyer\n",
    "    for bidder_id in range(len(bidders)):\n",
    "        for metric_id in range(len(metrics_names)):\n",
    "            mean, std = get_value_and_std_from_df_entry(df[metrics_names_latex[metric_id]][bidder_id])\n",
    "            metrics[bidder_id, 0, metric_id, i] = mean\n",
    "            metrics[bidder_id, 1, metric_id, i] = std\n",
    "\n",
    "\n",
    "metrics[metrics != metrics] = np.inf\n",
    "colors = [['blue', 'green'],\n",
    "          ['orange', 'black']]\n",
    "\n",
    "plt.figure()\n",
    "for bidder_id, bidder in enumerate(bidders):\n",
    "    for metric_name_id, metric_name in enumerate(plot_metric_names_latex):\n",
    "        plt.plot(g_05s, metrics[bidder_id, 0, metric_name_id], label=metric_name + ' ' + bidder, color=colors[bidder_id][metric_name_id])\n",
    "        plt.fill_between(\n",
    "            g_05s,\n",
    "            metrics[bidder_id, 0, metric_name_id] - metrics[bidder_id, 1, metric_name_id],\n",
    "            metrics[bidder_id, 0, metric_name_id] + metrics[bidder_id, 1, metric_name_id],\n",
    "            alpha=0.4,\n",
    "            color=colors[bidder_id][metric_name_id])\n",
    "plt.plot([3./8., 3./8.], [0, 1], '--', color='grey', label=r'linear BNE')\n",
    "plt.xlabel('g-0.5 value'); plt.ylabel('difference to linear BNE')\n",
    "plt.xlim([g_05s[0], g_05s[-1]]); plt.ylim([0, .3])\n",
    "plt.legend(loc='upper left')\n",
    "plt.savefig(os.curdir + '/exp-3_figure.pdf')\n",
    "plt.show()"
   ]
  },
  {
   "cell_type": "code",
   "execution_count": null,
   "metadata": {},
   "outputs": [],
   "source": [
    "## EXP-3 custom pretraining experiments - Each pretrained BNE individually --------------------------------------\n",
    "path = '/home/pieroth/bnelearn/experiments/debug/exp-3_experiment_test_AdamW/double_auction/single_item/k_price/0.5/uniform/symmetric/risk_1.0/1b1s/'\n",
    "metrics_names = ['eval_vs_bne/L_2', 'eval_vs_bne/epsilon_relative', 'eval/estimated_relative_ex_ante_util_loss']\n",
    "bne_ids = [1, 4]\n",
    "metric_names_latex = ['pretrain_transform', 'bidder']\n",
    "for bne_id in bne_ids:\n",
    "    metric_names_latex.extend([\"$\\mathcal{L}^\\text{BNE{%s}}$\" % str(bne_id), \"$L_2^\\text{BNE{%s}}$\" % bne_id])\n",
    "\n",
    "exp_names = sorted(os.listdir(path))\n",
    "experiments = {}\n",
    "df_list = []\n",
    "for i, exp_name in enumerate(exp_names):\n",
    "    with open(path + exp_name + '/experiment_configurations.json') as json_file:\n",
    "        g_05 = float(json.load(json_file)['setting']['pretrain_transform'])\n",
    "        g_05 = \"{:.2f}\".format(g_05)\n",
    "    df = single_exp_logs_to_df(path=path + exp_name + '/aggregate_log.csv',\n",
    "                               with_stddev=True, metrics=metrics_names)\n",
    "    df.insert(0, 'pretrain_transform', [g_05, None])\n",
    "    df_list.append(df)\n",
    "combined_df = pd.concat(df_list)\n",
    "sliced_df = combined_df[metric_names_latex]\n",
    "\n",
    "df_to_tex(sliced_df, name='exp-3_table_pretrain_transforms_AdamW.tex',\n",
    "        label='tab:exp-3_table_pretrain_transform',\n",
    "        caption='Mean and standard deviation of experiments over ten runs' \\\n",
    "        + ' each for a different pretrained non-optimal Equilibrium.')"
   ]
  },
  {
   "cell_type": "code",
   "execution_count": null,
   "metadata": {},
   "outputs": [],
   "source": [
    "## EXP-3 custom pretraining experiments - Aggregated over all pretrained BNEs -------------------------------------\n",
    "path_experiments = '/home/pieroth/bnelearn/experiments/debug/exp-3_experiment_10_seeds/double_auction/single_item/k_price/0.5/uniform/symmetric/risk_1.0/1b1s/'\n",
    "columns_to_drop = ['wall_time', 'run']\n",
    "metric_names = ['eval_vs_bne/L_2_bne1', 'eval/estimated_relative_ex_ante_util_loss', 'eval_vs_bne/epsilon_relative_bne1']\n",
    "latex_col_names = [\"$L_2$\", \"$\\hat{\\mathcal{L}}$\", \"$\\mathcal{L}$\"]\n",
    "aggregate_cols = ['tag', 'subrun']\n",
    "\n",
    "row_values_to_filter = {\n",
    "    'tag': metric_names,\n",
    "    'epoch': [5000]}\n",
    "\n",
    "# get all data (this may take some time)\n",
    "df_dict = get_data_frames_from_multiple_experiments(path_experiments)\n",
    "filtered_df_dict = {\n",
    "    key: filter_full_results_df(value, row_values_to_filter, columns_to_drop) for key, value in df_dict.items()\n",
    "}\n",
    "concatenated_df = concatenate_dfs_from_dict(filtered_df_dict)\n",
    "df = concatenated_df.groupby(\n",
    "        aggregate_cols, as_index=False\n",
    "    ).agg({'value': ['mean', 'std']})\n",
    "df.columns = ['metric', 'bidder', 'mean', 'std']\n",
    "df_mean_std = combine_mean_stddv_into_single_column(df, precision=3)\n",
    "unstacked_df = df_unstack_values_by_tag_and_index(df_mean_std)\n",
    "unstacked_df = unstacked_df[metric_names]  # reorder the columns to the given order\n",
    "unstacked_df.rename({metric_name: latex_name for metric_name, latex_name in zip(metric_names, latex_col_names)}, inplace=True, axis=1)\n",
    "# store as table\n",
    "df_to_tex(unstacked_df, name='exp-3_table_all_runs_aggregated_epoch_5000.tex', print_index=True,\n",
    "        print_index_names=True)\n"
   ]
  },
  {
   "cell_type": "code",
   "execution_count": null,
   "metadata": {},
   "outputs": [],
   "source": []
  },
  {
   "cell_type": "code",
   "execution_count": null,
   "metadata": {},
   "outputs": [],
   "source": []
  }
 ],
 "metadata": {
  "interpreter": {
   "hash": "f07b15497a15e983b8f4165b5868a5dd6bb742c724a26351a955834aa0dcaad7"
  },
  "kernelspec": {
   "display_name": "Python 3.9.6 64-bit ('bnelearn': conda)",
   "name": "python3"
  },
  "language_info": {
   "codemirror_mode": {
    "name": "ipython",
    "version": 3
   },
   "file_extension": ".py",
   "mimetype": "text/x-python",
   "name": "python",
   "nbconvert_exporter": "python",
   "pygments_lexer": "ipython3",
   "version": "3.9.6"
  }
 },
 "nbformat": 4,
 "nbformat_minor": 5
}
