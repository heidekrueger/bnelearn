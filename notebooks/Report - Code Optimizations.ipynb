{
 "cells": [
  {
   "cell_type": "code",
   "execution_count": null,
   "metadata": {},
   "outputs": [],
   "source": [
    "import torch\n",
    "\n",
    "def reset_stats():\n",
    "    torch.cuda.reset_peak_memory_stats()\n",
    "\n",
    "def f(a,b,r):\n",
    "    payoff = a-b\n",
    "    return  payoff.relu()**r - (-payoff).relu()**r\n",
    "\n",
    "def f1(a,b,r):\n",
    "    payoff = a-b\n",
    "    payoff_neg = (-payoff).relu()\n",
    "    return payoff.relu_()**r - payoff_neg**r\n",
    "\n",
    "def f2(a,b,r):\n",
    "    payoff_pos = (a-b).relu_()\n",
    "    payoff_neg = (b-a).relu_()\n",
    "    return payoff_pos.pow_(r) - payoff_neg.pow_(r)\n",
    "\n",
    "def f3(a,b,r):\n",
    "    return (a-b).relu_().pow_(r) - (b-a).relu_().pow_(r)\n",
    "\n",
    "def f4(a,b,r):\n",
    "    return (a-b).relu()**r - (b-a).relu()**r\n",
    "# minimum memory without side effects\n",
    "def f5(a,b,r):\n",
    "    return (a-b).relu_().pow_(r).sub_((b-a).relu_().pow_(r))\n",
    "# minimum memory without side effects\n",
    "def f6(a,b,r):\n",
    "    c = a-b\n",
    "    return c.relu().pow_(r).sub_(c.mul_(-1).relu_().pow_(r))\n",
    "# side effect on b\n",
    "def f7(a,b,r):\n",
    "    return (a-b).relu_().pow_(r).sub_(b.sub_(a).relu_().pow_(r))\n",
    "# side effect on a\n",
    "def f8(a,b,r):\n",
    "    return (a-b).relu_().pow_(r).sub_(a.mul_(-1).add_(b).relu_().pow_(r))\n",
    "\n",
    "\n",
    "def f9(a,b,r):\n",
    "    c = a-b\n",
    "    return c.relu().pow_(r).sub_(c.neg_().relu_().pow_(r))\n",
    "#\n",
    "# side effect on a\n",
    "def f10(a,b,r):\n",
    "    return (a-b).relu_().pow_(r).sub_(a.neg_().add_(b).relu_().pow_(r))\n"
   ]
  },
  {
   "cell_type": "code",
   "execution_count": null,
   "metadata": {},
   "outputs": [],
   "source": [
    "reset_stats()\n",
    "r = 0.5\n",
    "a = torch.randn(2**22, device='cuda')\n",
    "b = torch.randn(2**22, device='cuda')\n",
    "torch.cuda.memory.memory_allocated()/2**20, torch.cuda.max_memory_allocated()/2**20"
   ]
  },
  {
   "cell_type": "code",
   "execution_count": null,
   "metadata": {},
   "outputs": [],
   "source": [
    "reset_stats()\n",
    "f(a,b,r)\n",
    "print(torch.cuda.memory.memory_allocated()/2**20, torch.cuda.max_memory_allocated()/2**20)\n",
    "reset_stats()\n",
    "f1(a,b,r)\n",
    "print(torch.cuda.memory.memory_allocated()/2**20, torch.cuda.max_memory_allocated()/2**20)\n",
    "reset_stats()\n",
    "f2(a,b,r)\n",
    "print(torch.cuda.memory.memory_allocated()/2**20, torch.cuda.max_memory_allocated()/2**20)\n",
    "reset_stats()\n",
    "f3(a,b,r)\n",
    "print(torch.cuda.memory.memory_allocated()/2**20, torch.cuda.max_memory_allocated()/2**20)\n",
    "reset_stats()\n",
    "f4(a,b,r)\n",
    "print(torch.cuda.memory.memory_allocated()/2**20, torch.cuda.max_memory_allocated()/2**20)\n",
    "reset_stats()\n",
    "f5(a,b,r)\n",
    "print(torch.cuda.memory.memory_allocated()/2**20, torch.cuda.max_memory_allocated()/2**20)\n",
    "reset_stats()\n",
    "f6(a,b,r)\n",
    "print(torch.cuda.memory.memory_allocated()/2**20, torch.cuda.max_memory_allocated()/2**20)\n",
    "reset_stats()\n",
    "f7(a,b,r)\n",
    "print(torch.cuda.memory.memory_allocated()/2**20, torch.cuda.max_memory_allocated()/2**20)\n",
    "reset_stats()\n",
    "f8(a,b,r)\n",
    "print(torch.cuda.memory.memory_allocated()/2**20, torch.cuda.max_memory_allocated()/2**20)\n",
    "reset_stats()\n",
    "f9(a,b,r)\n",
    "print(torch.cuda.memory.memory_allocated()/2**20, torch.cuda.max_memory_allocated()/2**20)\n",
    "reset_stats()\n",
    "f10(a,b,r)\n",
    "print(torch.cuda.memory.memory_allocated()/2**20, torch.cuda.max_memory_allocated()/2**20)"
   ]
  },
  {
   "cell_type": "code",
   "execution_count": null,
   "metadata": {},
   "outputs": [],
   "source": [
    "%%prun\n",
    "for _ in range(10000):\n",
    "    a = a.random_()\n",
    "    b = b.random_()\n",
    "    f(a,b,r)\n",
    "    a = a.random_()\n",
    "    b = b.random_()\n",
    "    f3(a,b,r)\n",
    "    a = a.random_()\n",
    "    b = b.random_()\n",
    "    f4(a,b,r)\n",
    "    a = a.random_()\n",
    "    b = b.random_()\n",
    "    f5(a,b,r)\n",
    "    a = a.random_()\n",
    "    b = b.random_()\n",
    "    f6(a,b,r)\n",
    "    a = a.random_()\n",
    "    b = b.random_()\n",
    "    f8(a,b,r)\n",
    "    a = a.random_()\n",
    "    b = b.random_()\n",
    "    f9(a,b,r)\n",
    "    a = a.random_()\n",
    "    b = b.random_()\n",
    "    f10(a,b,r)"
   ]
  },
  {
   "cell_type": "code",
   "execution_count": null,
   "metadata": {},
   "outputs": [],
   "source": [
    "a0,b0 = a.clone(),b.clone()"
   ]
  },
  {
   "cell_type": "code",
   "execution_count": null,
   "metadata": {},
   "outputs": [],
   "source": [
    "f0 = f(a,b,r)"
   ]
  },
  {
   "cell_type": "code",
   "execution_count": null,
   "metadata": {},
   "outputs": [],
   "source": [
    "a.equal(a0), b.equal(b0)"
   ]
  },
  {
   "cell_type": "code",
   "execution_count": null,
   "metadata": {},
   "outputs": [],
   "source": [
    "fn = f6(a,b,r)"
   ]
  },
  {
   "cell_type": "code",
   "execution_count": null,
   "metadata": {},
   "outputs": [],
   "source": [
    "a.equal(a0), b.equal(b0), fn.equal(f0)"
   ]
  },
  {
   "cell_type": "code",
   "execution_count": null,
   "metadata": {},
   "outputs": [],
   "source": [
    "f7(a,b,r)"
   ]
  },
  {
   "cell_type": "code",
   "execution_count": null,
   "metadata": {},
   "outputs": [],
   "source": [
    "a"
   ]
  }
 ],
 "metadata": {
  "language_info": {
   "name": "python",
   "pygments_lexer": "ipython3"
  }
 },
 "nbformat": 4,
 "nbformat_minor": 4
}
