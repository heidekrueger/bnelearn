{
 "cells": [
  {
   "cell_type": "code",
   "execution_count": null,
   "metadata": {},
   "outputs": [],
   "source": [
    "import torch\n",
    "import torch.nn as nn\n",
    "import torch.nn.functional as F"
   ]
  },
  {
   "cell_type": "code",
   "execution_count": null,
   "metadata": {},
   "outputs": [],
   "source": [
    "M = torch.randn(2,2)"
   ]
  },
  {
   "cell_type": "code",
   "execution_count": null,
   "metadata": {},
   "outputs": [],
   "source": [
    "Q = M @ M.T"
   ]
  },
  {
   "cell_type": "code",
   "execution_count": null,
   "metadata": {},
   "outputs": [],
   "source": [
    "def u(a1, a2):\n",
    "    return (a1.T + a2.T) @ (-Q) @ (a1.T+a2) + torch.tensor([0.,1.]).T@a1"
   ]
  },
  {
   "cell_type": "code",
   "execution_count": null,
   "metadata": {},
   "outputs": [],
   "source": []
  },
  {
   "cell_type": "code",
   "execution_count": null,
   "metadata": {},
   "outputs": [],
   "source": [
    "a2 = torch.tensor([2., .5], requires_grad=False)"
   ]
  },
  {
   "cell_type": "code",
   "execution_count": null,
   "metadata": {},
   "outputs": [],
   "source": [
    "inners = []\n",
    "for e in range(10000):\n",
    "    a1 = torch.rand(2, requires_grad=True)\n",
    "    b1 = torch.rand(2, requires_grad=True)\n",
    "    u1 = u(a1, a2)\n",
    "    u2 = u(b1, a2)\n",
    "    a1.grad = None\n",
    "    b1.grad = None\n",
    "    u1.backward()\n",
    "    u2.backward()\n",
    "    ga = a1.grad\n",
    "    gb = b1.grad\n",
    "    inners.append((ga - gb).T @ (a1 - b1))"
   ]
  },
  {
   "cell_type": "code",
   "execution_count": null,
   "metadata": {},
   "outputs": [],
   "source": [
    "inners = []\n",
    "for e in range(10000):\n",
    "    a1 = torch.rand(2, requires_grad=True)\n",
    "    b1 = torch.rand(2, requires_grad=True)\n",
    "    u1 = u(a2, a1)\n",
    "    u2 = u(a2, b1)\n",
    "    a1.grad = None\n",
    "    b1.grad = None\n",
    "    u1.backward()\n",
    "    u2.backward()\n",
    "    ga = a1.grad\n",
    "    gb = b1.grad\n",
    "    inners.append((ga - gb).T @ (a1 - b1))\n",
    "torch.tensor(inners).max(), torch.tensor(inners).mean()"
   ]
  },
  {
   "cell_type": "code",
   "execution_count": null,
   "metadata": {},
   "outputs": [],
   "source": [
    "class NN(nn.Module):\n",
    "    def __init__(self, n_in, n_out):\n",
    "        super().__init__()\n",
    "        \n",
    "        self.fc = nn.Linear(n_in, 10)\n",
    "        self.out = nn.Linear(10, n_out, bias=False)\n",
    "        \n",
    "    def forward(self, v):\n",
    "        v = F.relu(self.fc(v))\n",
    "        b = F.relu(self.out(v))\n",
    "        return b"
   ]
  },
  {
   "cell_type": "code",
   "execution_count": null,
   "metadata": {},
   "outputs": [],
   "source": [
    "inners1 = []\n",
    "inners2 = []\n",
    "inners = []\n",
    "\n",
    "def u1(v1, a, b):\n",
    "    return -torch.dot(a,a)*v1 +b.sum()\n",
    "\n",
    "def u2(v2, a, b):\n",
    "    return -torch.dot(b,b)*v2 +a.sum()\n",
    "\n",
    "\n",
    "dist = torch.distributions.Uniform(low=0, high=10)\n",
    "# setup identical neural nets, but with different params\n",
    "pi11 = NN(1, 1)\n",
    "pi12 = NN(1, 1)\n",
    "pi21 = NN(1, 1)\n",
    "pi22 = NN(1, 1)\n",
    "\n",
    "\n",
    "for e in range(1000):\n",
    "    #reset grads:\n",
    "    for model in [pi11,pi12,pi21,pi22]:\n",
    "        for p in model.parameters():\n",
    "            p.grad = None\n",
    "    # choose random valuation\n",
    "    v1, v2 = dist.sample([2,1])\n",
    "\n",
    "    a1 = pi11(v1)\n",
    "    a2 = pi12(v1)\n",
    "    b1 = pi21(v2)\n",
    "    b2 = pi22(v2)\n",
    "\n",
    "    u11 = u1(v1,a1, b1.detach())\n",
    "    u12 = u1(v1,a2, b2.detach())\n",
    "    u21 = u2(v2,a1.detach(), b1)\n",
    "    u22 = u2(v2,a2.detach(), b2)\n",
    "\n",
    "    u11.backward()\n",
    "    u12.backward()\n",
    "    u21.backward()\n",
    "    u22.backward()\n",
    "    \n",
    "    def last_layer_params(model):\n",
    "        return list(model.children())[-1].parameters()\n",
    "\n",
    "    #     t11 = nn.utils.parameters_to_vector(pi11.parameters()).detach()\n",
    "    #     t12 = nn.utils.parameters_to_vector(pi12.parameters()).detach()\n",
    "    #     t21 = nn.utils.parameters_to_vector(pi21.parameters()).detach()\n",
    "    #     t22 = nn.utils.parameters_to_vector(pi22.parameters()).detach()\n",
    "    #     g11 = torch.cat(tuple(p.grad.flatten() for p in pi11.parameters()))\n",
    "    #     g12 = torch.cat(tuple(p.grad.flatten() for p in pi12.parameters()))\n",
    "    #     g21 = torch.cat(tuple(p.grad.flatten() for p in pi21.parameters()))\n",
    "    #     g22 = torch.cat(tuple(p.grad.flatten() for p in pi22.parameters()))\n",
    "\n",
    "    t11 = nn.utils.parameters_to_vector(last_layer_params(pi11)).detach()\n",
    "    t12 = nn.utils.parameters_to_vector(last_layer_params(pi12)).detach()\n",
    "    t21 = nn.utils.parameters_to_vector(last_layer_params(pi21)).detach()\n",
    "    t22 = nn.utils.parameters_to_vector(last_layer_params(pi22)).detach()\n",
    "    g11 = torch.cat(tuple(p.grad.flatten() for p in last_layer_params(pi11)))\n",
    "    g12 = torch.cat(tuple(p.grad.flatten() for p in last_layer_params(pi12)))\n",
    "    g21 = torch.cat(tuple(p.grad.flatten() for p in last_layer_params(pi21)))\n",
    "    g22 = torch.cat(tuple(p.grad.flatten() for p in last_layer_params(pi22)))\n",
    "\n",
    "    t1 = torch.cat((t11, t21))\n",
    "    t2 = torch.cat((t12, t22))\n",
    "    \n",
    "\n",
    "    \n",
    "    g1 = torch.cat((g11, g21))\n",
    "    g2 = torch.cat((g12, g22))\n",
    "    \n",
    "    inners1.append(torch.dot(g12 - g11, t12 - t11))\n",
    "    inners2.append(torch.dot(g22 - g21, t22 - t21))\n",
    "    inners.append(torch.dot(g2 - g1, t2 - t1))\n",
    "\n",
    "    \n",
    "inners1 = torch.tensor(inners1)\n",
    "inners2 = torch.tensor(inners2)\n",
    "inners = torch.tensor(inners)\n",
    "\n",
    "print('inner products, min, mean, max')\n",
    "[print(torch.tensor([l.min(), l.mean(), l.max()])) for l in [inners1, inners2, inners]]\n"
   ]
  },
  {
   "cell_type": "code",
   "execution_count": null,
   "metadata": {},
   "outputs": [],
   "source": [
    "g21.T @(t22 - t21)"
   ]
  },
  {
   "cell_type": "code",
   "execution_count": null,
   "metadata": {},
   "outputs": [],
   "source": [
    "pi22(v1) - pi21(v1)"
   ]
  },
  {
   "cell_type": "code",
   "execution_count": null,
   "metadata": {},
   "outputs": [],
   "source": [
    "nn.utils.parameters_to_vector(pi11.parameters()).detach()"
   ]
  },
  {
   "cell_type": "code",
   "execution_count": null,
   "metadata": {},
   "outputs": [],
   "source": [
    "t11"
   ]
  },
  {
   "cell_type": "code",
   "execution_count": null,
   "metadata": {},
   "outputs": [],
   "source": []
  },
  {
   "cell_type": "code",
   "execution_count": null,
   "metadata": {},
   "outputs": [],
   "source": [
    "g11"
   ]
  },
  {
   "cell_type": "code",
   "execution_count": null,
   "metadata": {},
   "outputs": [],
   "source": [
    "last_layer_params(p11)"
   ]
  },
  {
   "cell_type": "code",
   "execution_count": null,
   "metadata": {},
   "outputs": [],
   "source": [
    "(pi11.children())[-1].parameters()"
   ]
  },
  {
   "cell_type": "code",
   "execution_count": null,
   "metadata": {},
   "outputs": [],
   "source": [
    "inners2[0]"
   ]
  },
  {
   "cell_type": "code",
   "execution_count": null,
   "metadata": {},
   "outputs": [],
   "source": [
    "inners[0]"
   ]
  },
  {
   "cell_type": "code",
   "execution_count": null,
   "metadata": {},
   "outputs": [],
   "source": [
    "check[0]"
   ]
  },
  {
   "cell_type": "code",
   "execution_count": null,
   "metadata": {},
   "outputs": [],
   "source": [
    "g12 - g11, g22 - g21, g2 - g1"
   ]
  },
  {
   "cell_type": "code",
   "execution_count": null,
   "metadata": {},
   "outputs": [],
   "source": [
    "t12 - t11, t22 - t21, t2 - t1"
   ]
  },
  {
   "cell_type": "code",
   "execution_count": null,
   "metadata": {},
   "outputs": [],
   "source": []
  }
 ],
 "metadata": {
  "language_info": {
   "name": "python",
   "pygments_lexer": "ipython3"
  }
 },
 "nbformat": 4,
 "nbformat_minor": 4
}
