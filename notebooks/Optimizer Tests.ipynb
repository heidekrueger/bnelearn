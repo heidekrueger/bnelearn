{
 "cells": [
  {
   "cell_type": "markdown",
   "metadata": {},
   "source": [
    "# Optimizer Tests\n",
    "\n",
    "This notebook implements static environments to test optimizers and ensure that they are correctly implemented and learn a fixed function, when mechanisms do not change over time and do not depend on other players."
   ]
  },
  {
   "cell_type": "code",
   "execution_count": null,
   "metadata": {},
   "outputs": [],
   "source": [
    "import os\n",
    "import sys\n",
    "root_path = os.path.abspath(os.path.join('..'))\n",
    "if root_path not in sys.path:\n",
    "    sys.path.append(root_path)"
   ]
  },
  {
   "cell_type": "code",
   "execution_count": null,
   "metadata": {},
   "outputs": [],
   "source": [
    "import warnings\n",
    "import pytest\n",
    "import torch\n",
    "import torch.nn as nn\n",
    "from bnelearn.strategy import NeuralNetStrategy\n",
    "from bnelearn.mechanism import StaticMechanism, StaticFunctionMechanism\n",
    "from bnelearn.bidder import Bidder\n",
    "from bnelearn.learner import ESPGLearner, PGLearner, AESPGLearner\n",
    "from bnelearn.environment import AuctionEnvironment"
   ]
  },
  {
   "cell_type": "code",
   "execution_count": null,
   "metadata": {},
   "outputs": [],
   "source": [
    "from torch.utils.tensorboard import SummaryWriter\n",
    "import numpy as np\n",
    "import matplotlib.pyplot as plt\n",
    "\n",
    "# set up matplotlib\n",
    "is_ipython = 'inline' in plt.get_backend()\n",
    "if is_ipython:\n",
    "    from IPython import display\n",
    "\n",
    "plt.ion()"
   ]
  },
  {
   "cell_type": "code",
   "execution_count": null,
   "metadata": {},
   "outputs": [],
   "source": [
    "# Shared objects\n",
    "cuda = torch.cuda.is_available()\n",
    "device = 'cuda' if cuda else 'cpu'\n",
    "\n",
    "hidden_nodes = [128,128,128]\n",
    "input_length = 1\n",
    "hidden_activations = [nn.SELU(), nn.SELU(), nn.SELU()]\n",
    "dropout = 0.05\n",
    "\n",
    "u_lo = 0\n",
    "u_hi = 10\n",
    "\n",
    "def strat_to_bidder(strategy, batch_size, player_position=None):\n",
    "    return Bidder.uniform(u_lo,u_hi, strategy, batch_size = batch_size, player_position=player_position)\n",
    "\n",
    "mechanism = StaticMechanism(cuda=cuda)\n",
    "#mechanism = StaticFunctionMechanism(cuda=cuda)"
   ]
  },
  {
   "cell_type": "code",
   "execution_count": null,
   "metadata": {},
   "outputs": [],
   "source": [
    "cuda"
   ]
  },
  {
   "cell_type": "code",
   "execution_count": null,
   "metadata": {},
   "outputs": [],
   "source": [
    "run_dir = 'optimizer_tests'\n",
    "run_name = '16'\n",
    "\n",
    "BATCH_SIZE = 2**12 # 01: 2**18\n",
    "epoch = 20000\n",
    "print_epoch = 100\n",
    "plot_epoch = 500\n",
    "\n",
    "learner_hyperparams = {\n",
    "    'population_size': 10,\n",
    "    'sigma': 1.,\n",
    "    'scale_sigma_by_model_size': True\n",
    "}\n",
    "\n",
    "learner3_hyperparams = {\n",
    "    'population_size': 2,\n",
    "    'sigma': 1.,\n",
    "    'scale_sigma_by_model_size': False\n",
    "}\n",
    "\n",
    "optimizer_type = torch.optim.Adam#SGD#Adam\n",
    "optimizer_hyperparams ={    \n",
    "    #'lr': 1e-3,\n",
    "    #'momentum': 0.5\n",
    "}\n",
    "\n",
    "\n",
    "#sigma = .1 #ES noise parameter #std 0.1\n",
    "#n_perturbations = 32\n",
    "\n",
    "\n",
    "logdir = os.path.join(root_path, 'notebooks', run_dir , run_name)"
   ]
  },
  {
   "cell_type": "code",
   "execution_count": null,
   "metadata": {},
   "outputs": [],
   "source": [
    "def log_hyperparams(writer, e):\n",
    "    pass\n",
    "#     writer.add_scalar('hyperparams/batch_size', BATCH_SIZE, e)\n",
    "#     writer.add_scalar('hyperparams/size_hidden_layer', SIZE_HIDDEN_LAYER, 0)\n",
    "#     writer.add_scalar('hyperparams/learning_rate', LEARNING_RATE, e)\n",
    "#     writer.add_scalar('hyperparams/momentum', MOMENTUM, e)\n",
    "#     writer.add_scalar('hyperparams/sigma', sigma, e)\n",
    "#     writer.add_scalar('hyperparams/n_perturbations', n_perturbations, e)\n",
    "\n",
    "def optimal_bid(v):\n",
    "    \"truthful is optimal in this environment\"\n",
    "    return v\n",
    "\n",
    "def plot_bid_function(fig, v,b, writer=None, e=None, plot_points=100):\n",
    "    \n",
    "    # subsample points and plot\n",
    "    v = v.detach().cpu().numpy()[:plot_points]\n",
    "    b= b.detach().cpu().numpy()[:plot_points]\n",
    "    \n",
    "    optimal = optimal_bid(v)\n",
    "    fig = plt.gcf()\n",
    "    plt.cla()\n",
    "    plt.plot(v,b, 'o', v, optimal, 'r-')\n",
    "    if is_ipython:\n",
    "        #display.clear_output(wait=True)\n",
    "        display.display(plt.gcf())\n",
    "    if writer:\n",
    "        writer.add_figure('eval/bid_function', fig, e)  "
   ]
  },
  {
   "cell_type": "code",
   "execution_count": null,
   "metadata": {},
   "outputs": [],
   "source": [
    "model = NeuralNetStrategy(input_length,\n",
    "                          hidden_nodes = hidden_nodes,\n",
    "                          hidden_activations = hidden_activations, ensure_positive_output=torch.tensor([1.0]),\n",
    "                          dropout = dropout).to(device)\n",
    "bidder = strat_to_bidder(model, BATCH_SIZE, player_position=0)\n",
    " #bidder = strat_to_bidder(model, BATCH_SIZE)\n",
    "#model.pretrain(bidder.valuations, 10)\n",
    "env = AuctionEnvironment(\n",
    "    mechanism,\n",
    "    agents = [bidder],\n",
    "    strategy_to_player_closure=strat_to_bidder,\n",
    "    #max_env_size=1,\n",
    "    batch_size = BATCH_SIZE,\n",
    "    n_players=1\n",
    "    )\n",
    "\n",
    "learner = ESPGLearner(\n",
    "    model, env, learner_hyperparams, optimizer_type, optimizer_hyperparams)\n",
    "\n",
    "learner2 = PGLearner(model, env, {}, optimizer_type, optimizer_hyperparams)\n",
    "\n",
    "learner3 = AESPGLearner(model, env, learner3_hyperparams, optimizer_type, optimizer_hyperparams)\n",
    "\n",
    "print('n_params: ' + str(sum([p.numel() for p in model.parameters()])))\n",
    "print(model)"
   ]
  },
  {
   "cell_type": "code",
   "execution_count": null,
   "metadata": {},
   "outputs": [],
   "source": [
    "torch.cuda.empty_cache()\n",
    "\n",
    "with SummaryWriter(logdir, flush_secs=30) as writer:\n",
    "    log_hyperparams(writer, 0)\n",
    "    fig = plt.figure()\n",
    "\n",
    "    for e in range(epoch+1):\n",
    "        #update model\n",
    "        bidder.draw_valuations_()\n",
    "        utility = learner.update_strategy_and_evaluate_utility()\n",
    "\n",
    "        #writer.add_scalar('eval/utility', utility, e)\n",
    "        if e % print_epoch == 0:\n",
    "            print(\"Epoch {}:  \\tutility: {:2f}\".format(e, utility))\n",
    "\n",
    "        if e % plot_epoch == 0:\n",
    "            ##plot current function output\n",
    "            bidder = strat_to_bidder(model, BATCH_SIZE)\n",
    "            bidder.draw_valuations_()\n",
    "            v = bidder.valuations\n",
    "            b = bidder.get_action()\n",
    "            share = b.mean()/v.mean()\n",
    "            diff = (b-v).mean()\n",
    "            writer.add_scalar('eval/share', share, e)\n",
    "            writer.add_scalar('eval/diff', diff, e) \n",
    "            plot_bid_function(fig, v,b,writer,e)"
   ]
  },
  {
   "cell_type": "code",
   "execution_count": null,
   "metadata": {},
   "outputs": [],
   "source": []
  }
 ],
 "metadata": {
  "language_info": {
   "name": "python",
   "pygments_lexer": "ipython3"
  }
 },
 "nbformat": 4,
 "nbformat_minor": 4
}
