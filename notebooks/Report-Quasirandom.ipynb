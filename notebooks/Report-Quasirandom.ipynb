{
 "cells": [
  {
   "cell_type": "markdown",
   "metadata": {},
   "source": [
    "# Improving Sample Efficiency using Quasi-Random number sampling\n",
    "\n",
    "\n",
    "Related github issue: [Link](https://gitlab.lrz.de/heidekrueger/bnelearn/-/issues/159).\n",
    "\n",
    "Starting from master branch commit 3bb2a4cef9a465afd81c56811c4d2eb1ec3fafa0\n",
    "\n",
    "Start date: 2 Jul 2020   End Date:\n",
    "\n",
    "author: Stefan Heidekrüger\n",
    "\n",
    "# Goal of this Report\n",
    "\n",
    "\n",
    "# Status Quo\n",
    "\n",
    "All integrations are performed\n"
   ]
  },
  {
   "cell_type": "code",
   "execution_count": null,
   "metadata": {},
   "outputs": [],
   "source": []
  }
 ],
 "metadata": {
  "language_info": {
   "name": "python",
   "pygments_lexer": "ipython3"
  }
 },
 "nbformat": 4,
 "nbformat_minor": 4
}
