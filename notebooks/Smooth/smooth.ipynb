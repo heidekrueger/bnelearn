{
 "cells": [
  {
   "cell_type": "code",
   "execution_count": null,
   "metadata": {},
   "outputs": [],
   "source": [
    "import os\n",
    "import sys\n",
    "import re\n",
    "\n",
    "import torch\n",
    "import numpy as np\n",
    "import pandas as pd\n",
    "import matplotlib.pyplot as plt\n",
    "from scipy import interpolate\n",
    "\n",
    "sys.path.append(os.path.realpath('.'))\n",
    "sys.path.append(os.path.join(os.path.expanduser('~'), 'bnelearn'))\n",
    "\n",
    "from scripts.utils import *\n",
    "from bnelearn.util.metrics import *"
   ]
  },
  {
   "cell_type": "code",
   "execution_count": null,
   "metadata": {},
   "outputs": [],
   "source": [
    "COLORS = (\"#0E6BA0\", \"#973D4C\", \"#30C0D2\", \"#0E6BA0\", \"#973D4C\", \"#30C0D2\")\n",
    "MARKERS = (\"s\", \"D\", \"^\")"
   ]
  },
  {
   "cell_type": "code",
   "execution_count": null,
   "metadata": {},
   "outputs": [],
   "source": [
    "def split_mean_and_std_of_df_column(df, metric):\n",
    "    df[[metric + ' mean', metric + ' std']] = df[metric].str.split(' ', 1, expand=True)\n",
    "    df[metric + ' std'] = df[metric + ' std'].apply(lambda x: x[1:-1])\n",
    "    df[metric + ' mean'] = df[metric + ' mean'].astype(float)\n",
    "    df[metric + ' std'] = df[metric + ' std'].astype(float)\n",
    "    return df[metric + ' mean'].to_numpy(), df[metric + ' std'].to_numpy()"
   ]
  },
  {
   "cell_type": "markdown",
   "metadata": {},
   "source": [
    "---\n",
    "## 1. Single item experiment"
   ]
  },
  {
   "cell_type": "code",
   "execution_count": null,
   "metadata": {},
   "outputs": [],
   "source": [
    "metric = \"eval_vs_bne/L_2\"\n",
    "\n",
    "paths = {\n",
    "    \"Smooth Market\": \"/home/kohring/bnelearn/experiments/smooth-new/single_item/first_price/uniform/symmetric/risk_neutral/2p/2022-07-29 Fri 12:10:34/full_results.csv\",\n",
    "    \"NPGA\": \"/home/kohring/bnelearn/experiments/smooth-new/single_item/first_price/uniform/symmetric/risk_neutral/2p/2022-07-29 Fri 13:03:22/full_results.csv\"\n",
    "}"
   ]
  },
  {
   "cell_type": "code",
   "execution_count": null,
   "metadata": {},
   "outputs": [],
   "source": [
    "fig, ax = plt.subplots(figsize=(4.5, 4))\n",
    "\n",
    "for i, (key, path) in enumerate(paths.items()):\n",
    "    df = pd.read_csv(path)\n",
    "    df = df.loc[df['tag'] == metric]\n",
    "    df = df.groupby(['epoch']).agg({'value': ['mean', 'std']})\n",
    "    df.columns = ['means', 'stds']\n",
    "    \n",
    "    x = df.index.to_numpy()\n",
    "    means, stds = df.means.to_numpy(), df.stds.to_numpy()\n",
    "\n",
    "    plt.plot(x, means, \"-\" + MARKERS[i], label=key, color=COLORS[i], markevery=200)\n",
    "    plt.fill_between(x, np.clip(means-stds, 0, 10), means+stds, color=COLORS[i], alpha=.1)\n",
    "\n",
    "ax.spines['top'].set_visible(False)\n",
    "ax.spines['right'].set_visible(False)\n",
    "ax.spines['bottom'].set_visible(False)\n",
    "ax.spines['left'].set_visible(False)\n",
    "ax.grid(which='major', axis='y', alpha=.5)\n",
    "\n",
    "plt.xlabel('iteration'); plt.ylabel(ALIASES_LATEX[metric])\n",
    "plt.xlim([-30, 2030])\n",
    "plt.ylim([0.003, .31])\n",
    "plt.legend(loc='upper right', ncol=2, framealpha=1, edgecolor=\"white\")\n",
    "plt.tight_layout()\n",
    "plt.semilogy()\n",
    "plt.savefig(path[:-40] + f\"single_item_analysis.pdf\")\n",
    "plt.show()"
   ]
  },
  {
   "cell_type": "code",
   "execution_count": null,
   "metadata": {},
   "outputs": [],
   "source": [
    "metrics = [\"eval_vs_bne/L_2\", 'meta/time_per_step']\n",
    "paths = {\n",
    "    \"SM FPSB\":        \"/home/kohring/bnelearn/experiments/smooth-new/single_item/first_price/uniform/symmetric/risk_neutral/2p/2022-07-29 Fri 12:10:34\",\n",
    "    \"NPGA FPSB\":      \"/home/kohring/bnelearn/experiments/smooth-new/single_item/first_price/uniform/symmetric/risk_neutral/2p/2022-07-29 Fri 13:03:22\",\n",
    "    \"Reinforce FPSB\": \"/home/kohring/bnelearn/experiments/smooth-new/single_item/first_price/uniform/symmetric/risk_neutral/2p/2022-08-04 Thu 11:58:21\",\n",
    "    \"SM SPSB\":        \"/home/kohring/bnelearn/experiments/smooth-new/single_item/second_price/uniform/symmetric/risk_neutral/2p/2022-07-29 Fri 12:29:05\",\n",
    "    \"NPGA SPSB\":      \"/home/kohring/bnelearn/experiments/smooth-new/single_item/second_price/uniform/symmetric/risk_neutral/2p/2022-07-29 Fri 13:58:54\",\n",
    "    \"Reinforce SPSB\": \"/home/kohring/bnelearn/experiments/smooth-new/single_item/second_price/uniform/symmetric/risk_neutral/2p/2022-08-04 Thu 12:24:00\",\n",
    "}"
   ]
  },
  {
   "cell_type": "code",
   "execution_count": null,
   "metadata": {},
   "outputs": [],
   "source": [
    "aggregate_df = pd.DataFrame()\n",
    "for i, (learner, path) in enumerate(paths.items()):\n",
    "    df = multiple_exps_logs_to_df(\n",
    "        path=path,\n",
    "        metrics=metrics,\n",
    "        with_setting_parameters=True\n",
    "    )\n",
    "    df = df[[\"Smoothing\", \"Pricing\"] + [ALIASES_LATEX[m] for m in metrics]]\n",
    "    df[\"Smoothing\"] = df[\"Smoothing\"].apply(lambda x: learner.split(\" \")[0])\n",
    "    df = df.rename(columns={\"Smoothing\": \"Algo.\"})\n",
    "    aggregate_df = pd.concat([aggregate_df, df])\n",
    "aggregate_df.sort_values([\"Pricing\", \"Algo.\"], inplace=True)\n",
    "df_to_tex(aggregate_df, name='single_item_table.tex', label='tab:single_item', caption='Results of the single-item experiments.')\n",
    "aggregate_df.head(10)"
   ]
  },
  {
   "cell_type": "markdown",
   "metadata": {},
   "source": [
    "---\n",
    "## 2. Simultaneous sale experiment"
   ]
  },
  {
   "cell_type": "code",
   "execution_count": null,
   "metadata": {},
   "outputs": [],
   "source": [
    "# metrics = [\"eval_vs_bne/L_2\", 'meta/time_per_step']\n",
    "metrics = ['eval/util_loss_ex_interim', \"eval_vs_bne/L_2\", 'meta/time_per_step']\n",
    "\n",
    "paths = {\n",
    "    \"/home/kohring/bnelearn/experiments/smooth-2023-uneven-batch-sizes/single_item/first_price/uniform/symmetric/risk_neutral/2p/2022-12-27 Tue 12:22:03\",\n",
    "    \"/home/kohring/bnelearn/experiments/smooth-2023-uneven-batch-sizes/single_item/first_price/uniform/symmetric/risk_neutral/2p/2022-12-27 Tue 12:22:53\",\n",
    "    \"/home/kohring/bnelearn/experiments/smooth-2023-uneven-batch-sizes/single_item/first_price/uniform/symmetric/risk_neutral/2p/2022-12-27 Tue 12:24:10\",\n",
    "    \"/home/kohring/bnelearn/experiments/smooth-2023-uneven-batch-sizes/single_item/first_price/uniform/symmetric/risk_neutral/2p/2022-12-27 Tue 14:18:46\",\n",
    "    \"/home/kohring/bnelearn/experiments/smooth-2023-uneven-batch-sizes/single_item/first_price/uniform/symmetric/risk_neutral/2p/2022-12-27 Tue 14:26:50\",\n",
    "    \"/home/kohring/bnelearn/experiments/smooth-2023-uneven-batch-sizes/single_item/first_price/uniform/symmetric/risk_neutral/2p/2022-12-27 Tue 14:34:00\",\n",
    "    \"/home/kohring/bnelearn/experiments/smooth-2023-uneven-batch-sizes/single_item/first_price/uniform/symmetric/risk_neutral/2p/2022-12-27 Tue 19:14:04\",\n",
    "    \"/home/kohring/bnelearn/experiments/smooth-2023-uneven-batch-sizes/single_item/first_price/uniform/symmetric/risk_neutral/2p/2022-12-27 Tue 19:42:28\",\n",
    "    \"/home/kohring/bnelearn/experiments/smooth-2023-uneven-batch-sizes/single_item/first_price/uniform/symmetric/risk_neutral/2p/2022-12-27 Tue 19:51:46\",\n",
    "    \"/home/kohring/bnelearn/experiments/smooth-large-scale/main/single_item/first_price/uniform/symmetric/risk_neutral/2p/2023-01-12 Thu 18:34:57\",\n",
    "    \"/home/kohring/bnelearn/experiments/smooth-large-scale/main-ESPGLearner/single_item/first_price/uniform/symmetric/risk_neutral/2p/2023-01-13 Fri 11:06:04\",\n",
    "    \"/home/kohring/bnelearn/experiments/smooth-large-scale/main-PGLearner/single_item/first_price/uniform/symmetric/risk_neutral/2p/2023-01-13 Fri 11:06:42\",\n",
    "\n",
    "    \"/home/kohring/bnelearn/experiments/smooth-2023-uneven-batch-sizes/single_item/second_price/uniform/symmetric/risk_neutral/2p/2022-12-28 Wed 09:24:54\",\n",
    "    \"/home/kohring/bnelearn/experiments/smooth-2023-uneven-batch-sizes/single_item/second_price/uniform/symmetric/risk_neutral/2p/2022-12-28 Wed 10:06:43\",\n",
    "    \"/home/kohring/bnelearn/experiments/smooth-2023-uneven-batch-sizes/single_item/second_price/uniform/symmetric/risk_neutral/2p/2022-12-28 Wed 12:20:09\",\n",
    "    \"/home/kohring/bnelearn/experiments/smooth-2023-uneven-batch-sizes/single_item/second_price/uniform/symmetric/risk_neutral/2p/2022-12-28 Wed 15:58:06\",\n",
    "    \"/home/kohring/bnelearn/experiments/smooth-2023-uneven-batch-sizes/single_item/second_price/uniform/symmetric/risk_neutral/2p/2022-12-28 Wed 16:56:26\",\n",
    "    \"/home/kohring/bnelearn/experiments/smooth-2023-uneven-batch-sizes/single_item/second_price/uniform/symmetric/risk_neutral/2p/2022-12-28 Wed 18:59:56\",\n",
    "    \"/home/kohring/bnelearn/experiments/smooth-2023-uneven-batch-sizes/single_item/second_price/uniform/symmetric/risk_neutral/2p/2022-12-29 Thu 12:56:32\",\n",
    "    \"/home/kohring/bnelearn/experiments/smooth-2023-uneven-batch-sizes/single_item/second_price/uniform/symmetric/risk_neutral/2p/2022-12-29 Thu 14:40:11\",\n",
    "    \"/home/kohring/bnelearn/experiments/smooth-2023-uneven-batch-sizes/single_item/second_price/uniform/symmetric/risk_neutral/2p/2022-12-29 Thu 16:35:43\",\n",
    "    \"/home/kohring/bnelearn/experiments/smooth-large-scale/main/single_item/second_price/uniform/symmetric/risk_neutral/2p/2023-01-14 Sat 19:16:07\",\n",
    "    \"/home/kohring/bnelearn/experiments/smooth-large-scale/main-ESPGLearner/single_item/second_price/uniform/symmetric/risk_neutral/2p/2023-01-15 Sun 04:09:31\",\n",
    "    \"/home/kohring/bnelearn/experiments/smooth-large-scale/main-PGLearner/single_item/second_price/uniform/symmetric/risk_neutral/2p/2023-01-15 Sun 03:49:05\",\n",
    "}"
   ]
  },
  {
   "cell_type": "code",
   "execution_count": null,
   "metadata": {},
   "outputs": [],
   "source": [
    "aggregate_df = pd.DataFrame()\n",
    "for i, path in enumerate(paths):\n",
    "    df = multiple_exps_logs_to_df(\n",
    "        path=path,\n",
    "        metrics=metrics,\n",
    "        precision=3,\n",
    "        with_setting_parameters=True,\n",
    "    )\n",
    "    if df.Learner[0] == \"ESPGLearner\":\n",
    "        learner = \"NPGA\"\n",
    "    elif df.Learner[0] == \"PGLearner\":\n",
    "        learner = \"SM\"\n",
    "    elif df.Learner[0] == \"ReinforceLearner\":\n",
    "        learner = \"Reinforce\"\n",
    "\n",
    "    df = df[[\"Pricing\", \"Items\", \"Smoothing\"] + [ALIASES_LATEX[m] for m in metrics]]\n",
    "    df[\"Smoothing\"] = df[\"Smoothing\"].apply(lambda x: learner)\n",
    "    df = df.rename(columns={\"Smoothing\": \"Algo.\"})\n",
    "    aggregate_df = pd.concat([aggregate_df, df])\n",
    "aggregate_df.sort_values([\"Pricing\", \"Items\", \"Algo.\"], inplace=True)\n",
    "aggregate_df.set_index([\"Pricing\", \"Item/home/kohring/bnelearn/experiments/smooth-large-scale/main-PGLearner/single_item/second_prices\", \"Algo.\"], inplace=True)\n",
    "df_to_tex(aggregate_df, name='simultaneous_auction_table.tex',\n",
    "          label='tab:simultaneous_auction', caption='Results of the simultaneous auction experiments.',\n",
    "          index=True)\n",
    "aggregate_df.head(30)"
   ]
  },
  {
   "cell_type": "markdown",
   "metadata": {},
   "source": [
    "---\n",
    "## 3. Temperature experiment"
   ]
  },
  {
   "cell_type": "code",
   "execution_count": null,
   "metadata": {},
   "outputs": [],
   "source": [
    "configs = {\n",
    "    \"players\":{\n",
    "        \"var_name\": \"n\",\n",
    "        \"vars\": [2, 3, 4],\n",
    "    },\n",
    "    \"items\":{\n",
    "        \"var_name\": \"m\",\n",
    "        \"vars\": [1, 2],\n",
    "    },\n",
    "    \"batch_size\":{\n",
    "        \"var_name\": \"h\",\n",
    "        \"vars\": [2**10, 2**14, 2**18, 2**22],\n",
    "    },\n",
    "}"
   ]
  },
  {
   "cell_type": "code",
   "execution_count": null,
   "metadata": {},
   "outputs": [],
   "source": [
    "exp = \"players\"\n",
    "# exp = \"items\"\n",
    "# exp = \"batch_size\"\n",
    "config = configs[exp]"
   ]
  },
  {
   "cell_type": "code",
   "execution_count": null,
   "metadata": {},
   "outputs": [],
   "source": [
    "metrics = ['eval_vs_bne/L_2']\n",
    "metric = \"$L_2$\"\n",
    "path = f\"/home/kohring/bnelearn/experiments/smooth-new/temperature-new-new/{exp}/single_item/first_price/uniform/symmetric/risk_neutral/\""
   ]
  },
  {
   "cell_type": "code",
   "execution_count": null,
   "metadata": {},
   "outputs": [],
   "source": [
    "fig, ax = plt.subplots(figsize=(4.5, 4))\n",
    "\n",
    "for i, var in enumerate(config['vars']):\n",
    "    df = multiple_exps_logs_to_df(\n",
    "        path=path + str(var) + \"p\" if exp == \"players\" else path + \"2p\",\n",
    "        metrics=metrics,\n",
    "        with_setting_parameters=True,\n",
    "    )\n",
    "    if len(df) > 0:\n",
    "        if exp == \"items\":\n",
    "            df = df[df[\"Units\"] == var]\n",
    "        elif exp == \"batch_size\":\n",
    "            df = df[df[\"Batch\"] == var]\n",
    "        df.sort_values(\"Smoothing\", inplace=True)\n",
    "        df = df[df[\"Smoothing\"] > 1e-05]\n",
    "\n",
    "        smoothing = df.Smoothing.to_numpy()\n",
    "        means, stds = split_mean_and_std_of_df_column(df, metric)\n",
    "\n",
    "\n",
    "        smoothing_inter = np.arange(smoothing[0], smoothing[-1], 0.001)\n",
    "        means_inter = interpolate.interp1d(smoothing, means, kind='quadratic')(smoothing_inter)\n",
    "        stds_inter = interpolate.interp1d(smoothing, stds, kind='quadratic')(smoothing_inter)\n",
    "\n",
    "        plt.plot(smoothing_inter, means_inter, \"-\", linewidth=1.7, color=COLORS[i])\n",
    "        plt.fill_between(smoothing_inter, np.clip(means_inter-stds_inter, 0, 10), means_inter+stds_inter, color=COLORS[i], alpha=.1)\n",
    "        plt.plot(smoothing, means, MARKERS[i], label=f\"${config['var_name']} = {var}$\", color=COLORS[i])\n",
    "        # plt.fill_between(smoothing, np.clip(means-stds, 0, 10), means+stds, color=COLORS[i], alpha=.1)\n",
    "\n",
    "        # plot optimum\n",
    "        index_optimum = np.argmin(means_inter)\n",
    "        # plt.plot(smoothing_inter[index_optimum], means_inter[index_optimum], \"v\", markersize=10, color=COLORS[i])\n",
    "\n",
    "        if exp == \"batch_size\":\n",
    "            print(f\"Batch size = {var} (2**{round(np.log2(var))})\\t|\",\n",
    "                f\"optimum for lambda = {round(smoothing_inter[index_optimum], 4)}\",\n",
    "                f\"with L_2 = {round(means_inter[index_optimum], 4)} \"\n",
    "                f\"({round(stds_inter[index_optimum], 4)})\")\n",
    "\n",
    "ax.spines['top'].set_visible(False)\n",
    "ax.spines['right'].set_visible(False)\n",
    "ax.spines['bottom'].set_visible(False)\n",
    "ax.spines['left'].set_visible(False)\n",
    "ax.grid(which='major', axis='y', alpha=.5)\n",
    "\n",
    "plt.xlabel('temperature $\\lambda$'); plt.ylabel(metric)\n",
    "plt.xlim([-0.002, 0.0543]); plt.ylim([-0.003, 0.05])\n",
    "plt.legend(loc='upper right', ncol=3, framealpha=1, edgecolor=\"white\")\n",
    "plt.tight_layout()\n",
    "plt.savefig(path + f\"temperature_{exp}_analysis.pdf\")\n",
    "plt.savefig(path + f\"temperature_{exp}_analysis.png\", dpi=300)\n",
    "plt.show()"
   ]
  },
  {
   "cell_type": "markdown",
   "metadata": {},
   "source": [
    "---\n",
    "## 4. Ex post comparison"
   ]
  },
  {
   "cell_type": "code",
   "execution_count": null,
   "metadata": {},
   "outputs": [],
   "source": [
    "valuation = 1\n",
    "highest_opponent_bid = 0.5\n",
    "t = 0.01\n",
    "\n",
    "def utility(b):\n",
    "    utility = np.zeros_like(b)\n",
    "    utility[b > highest_opponent_bid] = valuation - b[b > highest_opponent_bid]\n",
    "    return utility\n",
    "    \n",
    "def sm_utility(b):\n",
    "    allocation = np.exp(b/t) / (np.exp(b/t) + np.exp(highest_opponent_bid/t))\n",
    "    price = np.zeros_like(b)\n",
    "    price[b > highest_opponent_bid] = b[b > highest_opponent_bid]\n",
    "    price[b <= highest_opponent_bid] = highest_opponent_bid\n",
    "    return (valuation - price)*allocation"
   ]
  },
  {
   "cell_type": "code",
   "execution_count": null,
   "metadata": {},
   "outputs": [],
   "source": [
    "bids = np.linspace(0, 1, 200)\n",
    "\n",
    "fig, ax = plt.subplots(figsize=(4.5, 3))\n",
    "plt.plot(bids, utility(bids), label=f\"$u_i({valuation}, b_i, 0.5)$\", color=COLORS[0])\n",
    "plt.plot(bids, sm_utility(bids), label=\"$u_i^{SM(\" + str(t) + \")}\" + f\"({valuation}, b_i, 0.5)$\", color=COLORS[1])\n",
    "plt.xlabel(\"bid $b_i$\"); plt.ylabel(\"ex post utility\")\n",
    "\n",
    "ax.spines['top'].set_visible(False)\n",
    "ax.spines['right'].set_visible(False)\n",
    "ax.spines['bottom'].set_visible(False)\n",
    "ax.spines['left'].set_visible(False)\n",
    "ax.grid(which='major', axis='y', alpha=.5)\n",
    "\n",
    "plt.xlim([0, 1]); plt.ylim([-0.05, .7])\n",
    "plt.legend(loc='upper right', ncol=2, framealpha=1, edgecolor=\"white\")\n",
    "plt.tight_layout(); plt.savefig(\"ex-post-utility.pdf\"); plt.savefig(\"ex-post-utility.png\", dpi=300)\n",
    "plt.show()"
   ]
  }
 ],
 "metadata": {
  "kernelspec": {
   "display_name": "Python 3.9.7 ('bnelearn')",
   "language": "python",
   "name": "python3"
  },
  "language_info": {
   "codemirror_mode": {
    "name": "ipython",
    "version": 3
   },
   "file_extension": ".py",
   "mimetype": "text/x-python",
   "name": "python",
   "nbconvert_exporter": "python",
   "pygments_lexer": "ipython3",
   "version": "3.9.15 (main, Nov 24 2022, 14:31:59) \n[GCC 11.2.0]"
  },
  "orig_nbformat": 4,
  "vscode": {
   "interpreter": {
    "hash": "21a895595431385235cf19ea8f3796c06920bce18c3191559e547f24c0db9cfc"
   }
  }
 },
 "nbformat": 4,
 "nbformat_minor": 2
}
