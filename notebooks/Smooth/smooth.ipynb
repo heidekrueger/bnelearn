{
 "cells": [
  {
   "cell_type": "code",
   "execution_count": 46,
   "metadata": {},
   "outputs": [],
   "source": [
    "import os\n",
    "import sys\n",
    "import re\n",
    "\n",
    "import torch\n",
    "import numpy as np\n",
    "import pandas as pd\n",
    "import matplotlib.pyplot as plt\n",
    "from scipy import interpolate\n",
    "\n",
    "sys.path.append(os.path.realpath('.'))\n",
    "sys.path.append(os.path.join(os.path.expanduser('~'), 'bnelearn'))\n",
    "\n",
    "from scripts.utils import *\n",
    "from bnelearn.util.metrics import *"
   ]
  },
  {
   "cell_type": "code",
   "execution_count": 47,
   "metadata": {},
   "outputs": [],
   "source": [
    "# COLORS = (0/255.,150/255.,196/255.),(248/255.,118/255.,109/255.),(150/255.,120/255.,170/255.),(255/255.,215/255.,130/255.)\n",
    "# COLORS = (\"#FF412C\", \"#9F29FF\", \"#31CAA8\", \"#06A6EE\", \"#CCD1DB\")\n",
    "COLORS = (\"#0E6BA0\", \"#973D4C\", \"#30C0D2\",)"
   ]
  },
  {
   "cell_type": "code",
   "execution_count": 48,
   "metadata": {},
   "outputs": [],
   "source": [
    "def split_mean_and_std_of_df_column(df, metric):\n",
    "    df[[metric + ' mean', metric + ' std']] = df[metric].str.split(' ', 1, expand=True)\n",
    "    df[metric + ' std'] = df[metric + ' std'].apply(lambda x: x[1:-1])\n",
    "    df[metric + ' mean'] = df[metric + ' mean'].astype(float)\n",
    "    df[metric + ' std'] = df[metric + ' std'].astype(float)\n",
    "    return df[metric + ' mean'].to_numpy(), df[metric + ' std'].to_numpy()"
   ]
  },
  {
   "cell_type": "markdown",
   "metadata": {},
   "source": [
    "---\n",
    "## 1. Single item experiment"
   ]
  },
  {
   "cell_type": "code",
   "execution_count": 49,
   "metadata": {},
   "outputs": [],
   "source": [
    "metric = \"eval_vs_bne/L_2\"\n",
    "\n",
    "paths = {\n",
    "    \"Smooth Market\": \"/home/kohring/bnelearn/experiments/smooth/single_item/single_item/first_price/uniform/symmetric/risk_neutral/2p/2022-05-19 Thu 11:14:16/full_results.csv\",\n",
    "    \"NPGA\": \"/home/kohring/bnelearn/experiments/smooth/single_item/single_item/first_price/uniform/symmetric/risk_neutral/2p/2022-05-19 Thu 11:17:22/full_results.csv\"\n",
    "}"
   ]
  },
  {
   "cell_type": "code",
   "execution_count": 50,
   "metadata": {},
   "outputs": [
    {
     "data": {
      "image/png": "[encoded data removed]",
      "text/plain": [
       "<Figure size 324x288 with 1 Axes>"
      ]
     },
     "metadata": {
      "needs_background": "light"
     },
     "output_type": "display_data"
    }
   ],
   "source": [
    "fig, ax = plt.subplots(figsize=(4.5, 4))\n",
    "\n",
    "for i, (key, path) in enumerate(paths.items()):\n",
    "    df = pd.read_csv(path)\n",
    "    df = df.loc[df['tag'] == metric]\n",
    "    df = df.groupby(['epoch']).agg({'value': ['mean', 'std']})\n",
    "    df.columns = ['means', 'stds']\n",
    "    \n",
    "    x = df.index.to_numpy()\n",
    "    means, stds = df.means.to_numpy(), df.stds.to_numpy()\n",
    "\n",
    "    plt.plot(x, means, \"-\", label=key, color=COLORS[i])\n",
    "    plt.fill_between(x, np.clip(means-stds, 0, 10), means+stds, color=COLORS[i], alpha=.1)\n",
    "\n",
    "ax.spines['top'].set_visible(False)\n",
    "ax.spines['right'].set_visible(False)\n",
    "ax.spines['bottom'].set_visible(False)\n",
    "ax.spines['left'].set_visible(False)\n",
    "ax.grid(which='major', axis='y', alpha=.5)\n",
    "\n",
    "plt.xlabel('iteration'); plt.ylabel(ALIASES_LATEX[metric])\n",
    "# plt.xlim([-0.003, 0.103])\n",
    "# plt.ylim([-0.003, 0.073])\n",
    "plt.legend(loc='upper right', ncol=2, framealpha=1, edgecolor=\"white\")\n",
    "plt.tight_layout()\n",
    "plt.semilogx()\n",
    "plt.savefig(path[:-40] + f\"single_item_analysis.pdf\")\n",
    "plt.show()"
   ]
  },
  {
   "cell_type": "code",
   "execution_count": 51,
   "metadata": {},
   "outputs": [],
   "source": [
    "metrics = [\"eval_vs_bne/L_2\", 'meta/iter_time']\n",
    "paths = [\n",
    "    \"/home/kohring/bnelearn/experiments/smooth/single_item/single_item/first_price/uniform/symmetric/risk_neutral/2p/2022-05-19 Thu 11:14:16/\",\n",
    "    \"/home/kohring/bnelearn/experiments/smooth/single_item/single_item/first_price/uniform/symmetric/risk_neutral/2p/2022-05-19 Thu 11:17:22/\",\n",
    "    \"/home/kohring/bnelearn/experiments/smooth/single_item/single_item/second_price/uniform/symmetric/risk_neutral/2p/2022-05-19 Thu 13:43:57/\",\n",
    "    \"/home/kohring/bnelearn/experiments/smooth/single_item/single_item/second_price/uniform/symmetric/risk_neutral/2p/2022-05-19 Thu 13:51:03/\",\n",
    "]"
   ]
  },
  {
   "cell_type": "code",
   "execution_count": 52,
   "metadata": {},
   "outputs": [
    {
     "name": "stderr",
     "output_type": "stream",
     "text": [
      "/home/kohring/bnelearn/scripts/utils.py:273: FutureWarning: In future versions `DataFrame.to_latex` is expected to utilise the base implementation of `Styler.to_latex` for formatting and rendering. The arguments signature may therefore change. It is recommended instead to use `DataFrame.style.to_latex` which also contains additional functionality.\n",
      "  df.to_latex(save_path + \"/\" + name, na_rep='--', escape=False,\n"
     ]
    },
    {
     "data": {
      "text/html": [
       "<div>\n",
       "<style scoped>\n",
       "    .dataframe tbody tr th:only-of-type {\n",
       "        vertical-align: middle;\n",
       "    }\n",
       "\n",
       "    .dataframe tbody tr th {\n",
       "        vertical-align: top;\n",
       "    }\n",
       "\n",
       "    .dataframe thead th {\n",
       "        text-align: right;\n",
       "    }\n",
       "</style>\n",
       "<table border=\"1\" class=\"dataframe\">\n",
       "  <thead>\n",
       "    <tr style=\"text-align: right;\">\n",
       "      <th></th>\n",
       "      <th>Algo.</th>\n",
       "      <th>Pricing</th>\n",
       "      <th>$L_2$</th>\n",
       "      <th>$t/$iter</th>\n",
       "    </tr>\n",
       "  </thead>\n",
       "  <tbody>\n",
       "    <tr>\n",
       "      <th>/home/kohring/bnelearn/experiments/smooth/single_item/single_item/first_price/uniform/symmetric/risk_neutral/2p/2022-05-19 Thu 11:14:16/aggregate_log.csv</th>\n",
       "      <td>Smooth</td>\n",
       "      <td>FPSB</td>\n",
       "      <td>0.0080 (0.0028)</td>\n",
       "      <td>0.0081 (0.0005)</td>\n",
       "    </tr>\n",
       "    <tr>\n",
       "      <th>/home/kohring/bnelearn/experiments/smooth/single_item/single_item/first_price/uniform/symmetric/risk_neutral/2p/2022-05-19 Thu 11:17:22/aggregate_log.csv</th>\n",
       "      <td>NPGA</td>\n",
       "      <td>FPSB</td>\n",
       "      <td>0.0100 (0.0060)</td>\n",
       "      <td>0.1361 (0.0019)</td>\n",
       "    </tr>\n",
       "    <tr>\n",
       "      <th>/home/kohring/bnelearn/experiments/smooth/single_item/single_item/second_price/uniform/symmetric/risk_neutral/2p/2022-05-19 Thu 13:43:57/aggregate_log.csv</th>\n",
       "      <td>Smooth</td>\n",
       "      <td>SPSB</td>\n",
       "      <td>0.0048 (0.0021)</td>\n",
       "      <td>0.0126 (0.0006)</td>\n",
       "    </tr>\n",
       "    <tr>\n",
       "      <th>/home/kohring/bnelearn/experiments/smooth/single_item/single_item/second_price/uniform/symmetric/risk_neutral/2p/2022-05-19 Thu 13:51:03/aggregate_log.csv</th>\n",
       "      <td>NPGA</td>\n",
       "      <td>SPSB</td>\n",
       "      <td>0.0178 (0.0142)</td>\n",
       "      <td>0.2039 (0.0121)</td>\n",
       "    </tr>\n",
       "  </tbody>\n",
       "</table>\n",
       "</div>"
      ],
      "text/plain": [
       "                                                     Algo. Pricing  \\\n",
       "/home/kohring/bnelearn/experiments/smooth/singl...  Smooth    FPSB   \n",
       "/home/kohring/bnelearn/experiments/smooth/singl...    NPGA    FPSB   \n",
       "/home/kohring/bnelearn/experiments/smooth/singl...  Smooth    SPSB   \n",
       "/home/kohring/bnelearn/experiments/smooth/singl...    NPGA    SPSB   \n",
       "\n",
       "                                                              $L_2$  \\\n",
       "/home/kohring/bnelearn/experiments/smooth/singl...  0.0080 (0.0028)   \n",
       "/home/kohring/bnelearn/experiments/smooth/singl...  0.0100 (0.0060)   \n",
       "/home/kohring/bnelearn/experiments/smooth/singl...  0.0048 (0.0021)   \n",
       "/home/kohring/bnelearn/experiments/smooth/singl...  0.0178 (0.0142)   \n",
       "\n",
       "                                                           $t/$iter  \n",
       "/home/kohring/bnelearn/experiments/smooth/singl...  0.0081 (0.0005)  \n",
       "/home/kohring/bnelearn/experiments/smooth/singl...  0.1361 (0.0019)  \n",
       "/home/kohring/bnelearn/experiments/smooth/singl...  0.0126 (0.0006)  \n",
       "/home/kohring/bnelearn/experiments/smooth/singl...  0.2039 (0.0121)  "
      ]
     },
     "execution_count": 52,
     "metadata": {},
     "output_type": "execute_result"
    }
   ],
   "source": [
    "aggregate_df = pd.DataFrame()\n",
    "for i, path in enumerate(paths):\n",
    "    df = multiple_exps_logs_to_df(\n",
    "        path=path,\n",
    "        metrics=metrics,\n",
    "        with_setting_parameters=True,\n",
    "        with_stddev=True\n",
    "    )\n",
    "    df = df[[\"Smoothing\", \"Pricing\"] + [ALIASES_LATEX[m] for m in metrics]]\n",
    "    df[\"Smoothing\"] = df[\"Smoothing\"].apply(lambda x: \"NPGA\" if x is None else \"Smooth\")\n",
    "    df = df.rename(columns={\"Smoothing\": \"Algo.\"})\n",
    "    aggregate_df = pd.concat([aggregate_df, df])\n",
    "df_to_tex(aggregate_df, name='single_item_table.tex', label='tab:single_item', caption='Results of the single-item experiments.')\n",
    "aggregate_df.head()"
   ]
  },
  {
   "cell_type": "code",
   "execution_count": null,
   "metadata": {},
   "outputs": [],
   "source": []
  },
  {
   "cell_type": "markdown",
   "metadata": {},
   "source": [
    "---\n",
    "## 2. LLG experiment"
   ]
  },
  {
   "cell_type": "markdown",
   "metadata": {},
   "source": [
    "---\n",
    "## 3. Temperature experiment"
   ]
  },
  {
   "cell_type": "code",
   "execution_count": 53,
   "metadata": {},
   "outputs": [],
   "source": [
    "configs = {\n",
    "    \"players\":{\n",
    "        \"var_name\": \"n\",\n",
    "        \"vars\": [2, 3, 4],\n",
    "    },\n",
    "    \"items\":{\n",
    "        \"var_name\": \"m\",\n",
    "        \"vars\": [1, 2],\n",
    "    },\n",
    "    \"batch_size\":{\n",
    "        \"var_name\": \"h\",\n",
    "        \"vars\": [2**12, 2**18, 2**23],\n",
    "    },\n",
    "}"
   ]
  },
  {
   "cell_type": "code",
   "execution_count": 54,
   "metadata": {},
   "outputs": [],
   "source": [
    "exp = \"players\"\n",
    "# exp = \"items\"\n",
    "# exp = \"batch_size\"\n",
    "config = configs[exp]"
   ]
  },
  {
   "cell_type": "code",
   "execution_count": 55,
   "metadata": {},
   "outputs": [],
   "source": [
    "metrics = ['eval_vs_bne/L_2']\n",
    "metric = \"$L_2$\"\n",
    "path = f\"/home/kohring/bnelearn/experiments/smooth/temperature/{exp}/single_item/first_price/uniform/symmetric/risk_neutral/\""
   ]
  },
  {
   "cell_type": "code",
   "execution_count": null,
   "metadata": {},
   "outputs": [],
   "source": []
  },
  {
   "cell_type": "code",
   "execution_count": 56,
   "metadata": {},
   "outputs": [
    {
     "data": {
      "image/png": "[encoded data removed]",
      "text/plain": [
       "<Figure size 324x288 with 1 Axes>"
      ]
     },
     "metadata": {
      "needs_background": "light"
     },
     "output_type": "display_data"
    }
   ],
   "source": [
    "fig, ax = plt.subplots(figsize=(4.5, 4))\n",
    "\n",
    "for i, var in enumerate(config['vars']):\n",
    "    df = multiple_exps_logs_to_df(\n",
    "        path=path + str(var) + \"p\" if exp == \"players\" else path + \"2p\",\n",
    "        metrics=metrics,\n",
    "        with_setting_parameters=True,\n",
    "        with_stddev=True\n",
    "    )\n",
    "    if exp == \"items\":\n",
    "        df = df[df[\"Units\"] == var]\n",
    "    elif exp == \"batch_size\":\n",
    "        df = df[df[\"Batch\"] == var]\n",
    "    df.sort_values(\"Smoothing\", inplace=True)\n",
    "    smoothing = df.Smoothing.to_numpy()\n",
    "    means, stds = split_mean_and_std_of_df_column(df, metric)\n",
    "\n",
    "    smoothing_inter = np.arange(smoothing[0], smoothing[-1], 0.001)\n",
    "    means_inter = interpolate.interp1d(smoothing, means, kind='quadratic')(smoothing_inter)\n",
    "    stds_inter = interpolate.interp1d(smoothing, stds, kind='quadratic')(smoothing_inter)\n",
    "\n",
    "    plt.plot(smoothing_inter, means_inter, \"-\", linewidth=1.7, color=COLORS[i])\n",
    "    plt.plot(smoothing, means, \"s\", markersize=4, label=f\"${config['var_name']} = {var}$\", color=COLORS[i])\n",
    "    plt.fill_between(smoothing_inter, np.clip(means_inter-stds_inter, 0, 10), means_inter+stds_inter, color=COLORS[i], alpha=.1)\n",
    "\n",
    "    # plot optimum\n",
    "    index_optimum = np.argmin(means_inter)\n",
    "    plt.plot(smoothing_inter[index_optimum], means_inter[index_optimum], \"v\", markersize=10, color=COLORS[i])\n",
    "\n",
    "ax.spines['top'].set_visible(False)\n",
    "ax.spines['right'].set_visible(False)\n",
    "ax.spines['bottom'].set_visible(False)\n",
    "ax.spines['left'].set_visible(False)\n",
    "ax.grid(which='major', axis='y', alpha=.5)\n",
    "\n",
    "plt.xlabel('temperature $\\lambda$'); plt.ylabel(metric)\n",
    "plt.xlim([-0.003, 0.103])\n",
    "plt.ylim([-0.003, 0.073])\n",
    "plt.legend(loc='upper right', ncol=3, framealpha=1, edgecolor=\"white\")\n",
    "plt.tight_layout()\n",
    "plt.savefig(path + f\"temperature_{exp}_analysis.pdf\")\n",
    "plt.show()"
   ]
  },
  {
   "cell_type": "code",
   "execution_count": null,
   "metadata": {},
   "outputs": [],
   "source": []
  }
 ],
 "metadata": {
  "interpreter": {
   "hash": "1dad1a9a2c286d685afd050183e41fccb85fe11eed6ce7dece138474ddf03352"
  },
  "kernelspec": {
   "display_name": "Python 3.9.7 ('bnelearn-test')",
   "language": "python",
   "name": "python3"
  },
  "language_info": {
   "codemirror_mode": {
    "name": "ipython",
    "version": 3
   },
   "file_extension": ".py",
   "mimetype": "text/x-python",
   "name": "python",
   "nbconvert_exporter": "python",
   "pygments_lexer": "ipython3",
   "version": "3.9.7"
  },
  "orig_nbformat": 4
 },
 "nbformat": 4,
 "nbformat_minor": 2
}
