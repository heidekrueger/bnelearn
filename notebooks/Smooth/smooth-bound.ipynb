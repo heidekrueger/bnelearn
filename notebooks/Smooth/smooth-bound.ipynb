{
 "cells": [
  {
   "attachments": {
    "image.png": {
     "image/png": "[encoded data removed]"
    }
   },
   "cell_type": "markdown",
   "metadata": {},
   "source": [
    "# Analysis of Error Bound for Smooth Markets"
   ]
  },
  {
   "cell_type": "code",
   "execution_count": 5,
   "metadata": {},
   "outputs": [],
   "source": [
    "import os\n",
    "import sys\n",
    "import numpy as np\n",
    "from time import perf_counter as timer\n",
    "\n",
    "root_path = os.path.join(os.path.expanduser('~'), 'bnelearn')\n",
    "if root_path not in sys.path:\n",
    "    sys.path.append(root_path)\n",
    "\n",
    "import matplotlib.pyplot as plt\n",
    "\n",
    "import torch\n",
    "import torch.nn as nn\n",
    "    \n",
    "import bnelearn\n",
    "from bnelearn.experiment.configuration_manager import ConfigurationManager\n",
    "import bnelearn.util.metrics as metrics"
   ]
  },
  {
   "cell_type": "code",
   "execution_count": 6,
   "metadata": {},
   "outputs": [],
   "source": [
    "COLORS = (\"#0E6BA0\", \"#973D4C\", \"#30C0D2\", 'blue', 'green')\n",
    "specific_gpu = 1\n",
    "torch.cuda.set_device(specific_gpu)"
   ]
  },
  {
   "cell_type": "code",
   "execution_count": 7,
   "metadata": {},
   "outputs": [],
   "source": [
    "n_runs = 10\n",
    "valuations = np.array([0.1, 0.8, 0.9])\n",
    "temperatures = np.linspace(0.00001, 0.05, 50)"
   ]
  },
  {
   "cell_type": "code",
   "execution_count": 8,
   "metadata": {},
   "outputs": [
    {
     "name": "stderr",
     "output_type": "stream",
     "text": [
      "/home/kohring/bnelearn/bnelearn/experiment/single_item_experiment.py:255: UserWarning: To copy construct from a tensor, it is recommended to use sourceTensor.clone().detach() or sourceTensor.clone().detach().requires_grad_(True), rather than torch.tensor(sourceTensor).\n",
      "  bne_utility = torch.tensor(\n",
      "/home/kohring/.conda/envs/bnelearn-test/lib/python3.9/site-packages/torch/functional.py:445: UserWarning: torch.meshgrid: in an upcoming release, it will be required to pass the indexing argument. (Triggered internally at  ../aten/src/ATen/native/TensorShape.cpp:2157.)\n",
      "  return _VF.meshgrid(tensors, **kwargs)  # type: ignore[attr-defined]\n"
     ]
    }
   ],
   "source": [
    "experiment_type = 'single_item_uniform_symmetric'\n",
    "sys.stdout = open(os.devnull, 'w')  # block all prints\n",
    "\n",
    "log_root_dir = os.path.join(os.path.expanduser('~'), 'bnelearn', 'experiments', 'smooth')\n",
    "utility_error = np.zeros(\n",
    "    (n_runs, valuations.shape[0], temperatures.shape[0]), dtype=float)\n",
    "\n",
    "for seed, run in enumerate(range(n_runs)):\n",
    "    for i, valuation in enumerate(valuations):\n",
    "        for j, temperature in enumerate(temperatures):\n",
    "            \n",
    "            # Setup environment\n",
    "            experiment_config, experiment_class = \\\n",
    "                ConfigurationManager(\n",
    "                    experiment_type=experiment_type,\n",
    "                    n_runs=1, n_epochs=0, seeds=[seed]\n",
    "                ) \\\n",
    "                .set_learning(\n",
    "                    batch_size=2**18,\n",
    "                    pretrain_iters=0,\n",
    "                    smoothing_temperature=temperature\n",
    "                ) \\\n",
    "                .set_logging(enable_logging=False) \\\n",
    "                .set_hardware(specific_gpu=specific_gpu) \\\n",
    "                .get_config()\n",
    "\n",
    "            experiment = experiment_class(experiment_config)\n",
    "            experiment._init_new_run()\n",
    "\n",
    "            # BNE strategies\n",
    "            for bidder, bne_bidder in zip(experiment.bidders, experiment.bne_env[0].agents):\n",
    "                bidder.strategy = bne_bidder.strategy\n",
    "            opponent_slope = 0.5\n",
    "\n",
    "            # # Or custom strategies\n",
    "            # class Strat:\n",
    "            #     def __init__(self, slope: float=0.5, const: bool=False):\n",
    "            #         self.slope = slope\n",
    "            #         self.const = const\n",
    "            #     def play(self, valuation):\n",
    "            #         if self.const:\n",
    "            #             return 0.4 * torch.ones_like(torch.tensor(valuation))\n",
    "            #         return self.slope * torch.tensor(valuation)\n",
    "            # experiment.bidders[0].strategy = Strat(.3, const=True)\n",
    "            # opponent_slope = .4\n",
    "            # experiment.bidders[1].strategy = Strat(opponent_slope)\n",
    "\n",
    "            # Calculate utilities\n",
    "            experiment.env._observations[:, 0, 0] = valuation\n",
    "            actual_utility = experiment.env.get_reward(\n",
    "                agent=experiment.bidders[0],\n",
    "                aggregate=True,\n",
    "                smooth_market=False\n",
    "            )\n",
    "            smooth_utility = experiment.env.get_reward(\n",
    "                agent=experiment.bidders[0],\n",
    "                aggregate=True,\n",
    "                smooth_market=True\n",
    "            )\n",
    "\n",
    "            # bidder 0 only\n",
    "            # utility_error[run, i, j] = (actual_utility - smooth_utility).mean()\n",
    "            utility_error[run, i, j] = torch.abs(actual_utility - smooth_utility).mean()"
   ]
  },
  {
   "cell_type": "code",
   "execution_count": 9,
   "metadata": {},
   "outputs": [],
   "source": [
    "from sympy.functions.special.zeta_functions import polylog\n",
    "\n",
    "def utility(v1, b1, s):\n",
    "    return (v1-b1) * (b1/s)\n",
    "\n",
    "def first_int_vol(v1, b1, lam, s):\n",
    "    return - ((b1-v1)/s) * (\n",
    "        lam*np.log(np.exp(b1/lam)+1) - lam*np.log(2*np.exp(b1/lam)) + b1)\n",
    "\n",
    "def second_int_vol(v1, b1, lam, s):\n",
    "    integral = 0\n",
    "    integral += lam * (s*np.log(np.exp(s/lam - b1/lam) + 1) - b1*np.log(2))\n",
    "    integral += (lam**2) * (polylog(2, -np.exp((s-b1)/lam)) + (1/12)*np.pi**2)\n",
    "    integral += v1*lam * (np.log(2) + b1/lam - np.log(np.exp(s/lam) + np.exp(b1/lam)))\n",
    "    integral += -0.5*(s**2 - b1**2) + v1*(s-b1)\n",
    "    return float(integral) / s\n",
    "\n",
    "def exact_interim_error(lams, v1, b1, s):\n",
    "    error = np.zeros_like(lams)\n",
    "    for i, lam in enumerate(lams):\n",
    "        error[i] += -s * np.log(np.exp((s-b1)/lam) + 1)\n",
    "        error[i] += -lam * (polylog(2, -np.exp((s-b1)/lam)) + (1/12)*np.pi**2)\n",
    "        error[i] += v1 * np.log(np.exp(s/lam) + np.exp(b1/lam))\n",
    "        error[i] += (1/lam) * (0.5*(s**2 - b1**2) - v1*s)\n",
    "        error[i] += (b1-v1) * np.log(np.exp(-b1/lam) + 1)\n",
    "        error[i] *= (lam/s)\n",
    "    return abs(error)\n",
    "\n",
    "def approx_ex_ante_error(lams, strat, s):\n",
    "    error = np.zeros_like(lams)\n",
    "    N = 100\n",
    "    v1s = np.random.uniform(0, 1, N)\n",
    "    for i, v1 in enumerate(v1s):\n",
    "        error += exact_interim_error(lams, v1, strat(v1), s)\n",
    "    error /= 100\n",
    "    return error"
   ]
  },
  {
   "cell_type": "code",
   "execution_count": 10,
   "metadata": {},
   "outputs": [
    {
     "name": "stderr",
     "output_type": "stream",
     "text": [
      "/tmp/ipykernel_468122/1335622235.py:21: RuntimeWarning: overflow encountered in exp\n",
      "  error[i] += -s * np.log(np.exp((s-b1)/lam) + 1)\n",
      "/tmp/ipykernel_468122/1335622235.py:22: RuntimeWarning: overflow encountered in exp\n",
      "  error[i] += -lam * (polylog(2, -np.exp((s-b1)/lam)) + (1/12)*np.pi**2)\n",
      "/tmp/ipykernel_468122/1335622235.py:23: RuntimeWarning: overflow encountered in exp\n",
      "  error[i] += v1 * np.log(np.exp(s/lam) + np.exp(b1/lam))\n"
     ]
    }
   ],
   "source": [
    "strat = lambda v: experiment.bidders[0].strategy.play(v).cpu().numpy()\n",
    "approx_ex_ante_error_vec = approx_ex_ante_error(temperatures, strat, opponent_slope)"
   ]
  },
  {
   "cell_type": "code",
   "execution_count": 11,
   "metadata": {},
   "outputs": [
    {
     "name": "stderr",
     "output_type": "stream",
     "text": [
      "/tmp/ipykernel_468122/1335622235.py:21: RuntimeWarning: overflow encountered in exp\n",
      "  error[i] += -s * np.log(np.exp((s-b1)/lam) + 1)\n",
      "/tmp/ipykernel_468122/1335622235.py:22: RuntimeWarning: overflow encountered in exp\n",
      "  error[i] += -lam * (polylog(2, -np.exp((s-b1)/lam)) + (1/12)*np.pi**2)\n",
      "/tmp/ipykernel_468122/1335622235.py:23: RuntimeWarning: overflow encountered in exp\n",
      "  error[i] += v1 * np.log(np.exp(s/lam) + np.exp(b1/lam))\n",
      "/tmp/ipykernel_468122/1335622235.py:21: RuntimeWarning: overflow encountered in exp\n",
      "  error[i] += -s * np.log(np.exp((s-b1)/lam) + 1)\n",
      "/tmp/ipykernel_468122/1335622235.py:22: RuntimeWarning: overflow encountered in exp\n",
      "  error[i] += -lam * (polylog(2, -np.exp((s-b1)/lam)) + (1/12)*np.pi**2)\n",
      "/tmp/ipykernel_468122/1335622235.py:23: RuntimeWarning: overflow encountered in exp\n",
      "  error[i] += v1 * np.log(np.exp(s/lam) + np.exp(b1/lam))\n",
      "/tmp/ipykernel_468122/1335622235.py:21: RuntimeWarning: overflow encountered in exp\n",
      "  error[i] += -s * np.log(np.exp((s-b1)/lam) + 1)\n",
      "/tmp/ipykernel_468122/1335622235.py:22: RuntimeWarning: overflow encountered in exp\n",
      "  error[i] += -lam * (polylog(2, -np.exp((s-b1)/lam)) + (1/12)*np.pi**2)\n",
      "/tmp/ipykernel_468122/1335622235.py:23: RuntimeWarning: overflow encountered in exp\n",
      "  error[i] += v1 * np.log(np.exp(s/lam) + np.exp(b1/lam))\n"
     ]
    },
    {
     "data": {
      "image/png": "[encoded data removed]",
      "text/plain": [
       "<Figure size 324x288 with 1 Axes>"
      ]
     },
     "metadata": {
      "needs_background": "light"
     },
     "output_type": "display_data"
    }
   ],
   "source": [
    "fig, ax = plt.subplots(figsize=(4.5, 4))\n",
    "\n",
    "for i, valuation in enumerate(valuations):\n",
    "    mean, std = utility_error[:, i, :].mean(axis=0), utility_error[:, i, :].std(axis=0)\n",
    "    # plt.plot(temperatures, mean, ms=7, color=COLORS[i], label=f'interim $v_1 = {valuation}$')\n",
    "    plt.fill_between(temperatures, mean-std, mean+std, alpha=.3, color=COLORS[i])\n",
    "\n",
    "    # Theoretical error\n",
    "    plt.plot(temperatures, exact_interim_error(temperatures, valuation, strat(valuation), opponent_slope),\n",
    "             color=COLORS[i], label=f'interim $v_1 = {valuation}$')\n",
    "\n",
    "# Theoretical ex ante error\n",
    "plt.plot(temperatures, approx_ex_ante_error_vec, ':', linewidth=2.5, label='ex ante error', color='black')\n",
    "\n",
    "temperatures_high_res = np.linspace(temperatures[0], temperatures[-1], 1000)\n",
    "# Theoretical ex ante bound\n",
    "plt.plot(temperatures_high_res, ((np.log(2) + 1)/0.5) * temperatures_high_res, '--', linewidth=2.5, label='ex ante bound', color='grey')\n",
    "\n",
    "# Formatting\n",
    "ax.set_xlabel('temperature $\\lambda$'); ax.set_ylabel(r'absolute utility error $\\epsilon_\\lambda$')\n",
    "plt.yscale('log')\n",
    "ax.set_xlim(0, 0.05); ax.set_ylim(0.00001, 10)\n",
    "ax.spines['top'].set_visible(False); ax.spines['right'].set_visible(False)\n",
    "ax.spines['bottom'].set_visible(False); ax.spines['left'].set_visible(False)\n",
    "plt.legend(loc='upper right', ncol=2, framealpha=1, edgecolor=\"white\")\n",
    "ax.grid(which='major', axis='y', alpha=.5)\n",
    "plt.tight_layout(); plt.savefig('smooth-error-bound.pdf'); plt.savefig('smooth-error-bound.png', dpi=300)\n",
    "plt.show()"
   ]
  },
  {
   "cell_type": "code",
   "execution_count": 12,
   "metadata": {},
   "outputs": [],
   "source": [
    "# # TODO: For old payment rule\n",
    "# from sympy.functions.special.zeta_functions import polylog\n",
    "# from scipy.special import zeta\n",
    "\n",
    "# def ante_bound(temperatures):\n",
    "#     bounds = np.zeros_like(temperatures)\n",
    "#     for i, temperature in enumerate(temperatures):\n",
    "#         bounds[i] += -temperature**3 * (4 * polylog(3, -np.exp(1/(2 * temperature))) + 6 * zeta(3)) \n",
    "#         bounds[i] += -4 * temperature**3 * polylog(3, -np.exp(-1/(2 * temperature))) \n",
    "#         bounds[i] += -2 * temperature**2 * polylog(2, -np.exp(-1/(2 * temperature))) \n",
    "#         bounds[i] += - (np.pi**2 * temperature**2)/6 - (1/12)\n",
    "#     return bounds\n",
    "\n",
    "# lam = 0.02\n",
    "# print(f\"The ex ante bound for $\\lambda={lam}$ is {ante_bound([lam])}\")"
   ]
  },
  {
   "cell_type": "code",
   "execution_count": 13,
   "metadata": {},
   "outputs": [],
   "source": [
    "# temperature = 0.02\n",
    "\n",
    "# valuations = np.linspace(0, 1, 100)\n",
    "# bids = np.linspace(0, .6, 100)\n",
    "# epsilon = np.zeros((valuations.shape[0], bids.shape[0]))\n",
    "\n",
    "# for i, valuation in enumerate(valuations):\n",
    "#     for j, bid in enumerate(bids):\n",
    "#         epsilon[i, j] = temperature * abs((valuation - bid)/opponent_slope) \\\n",
    "#                 * abs(np.log(np.exp((bid - opponent_slope)/temperature)) \\\n",
    "#                 + np.log(np.exp(bid/temperature) + np.exp(opponent_slope/temperature)) \\\n",
    "#                 - np.log(np.exp(bid/temperature) + 1))\n",
    "\n",
    "# fig, ax = plt.subplots(figsize=(4.5, 4))\n",
    "\n",
    "# ax.plot([0, 1], [0, 0.5], '--', color='black')\n",
    "# x, y = np.meshgrid(valuations, bids)\n",
    "# epsilon = epsilon.T\n",
    "# ax.pcolormesh(x, y, epsilon, alpha=.5)\n",
    "# CS = plt.contour(x, y, epsilon, levels=10)\n",
    "# ax.clabel(CS, CS.levels[::3], inline=True, fontsize=10)\n",
    "\n",
    "# ax.set_xlabel('valuation $v_1$'); ax.set_ylabel('bid $b_1$')\n",
    "# ax.spines['top'].set_visible(False); ax.spines['right'].set_visible(False)\n",
    "# ax.spines['bottom'].set_visible(False); ax.spines['left'].set_visible(False)\n",
    "# ax.grid(which='major', alpha=.5)\n",
    "# plt.tight_layout(); plt.savefig('smooth-error-bound-heatmap.pdf')\n",
    "# ax.set_box_aspect(); plt.show()"
   ]
  },
  {
   "cell_type": "code",
   "execution_count": 14,
   "metadata": {},
   "outputs": [],
   "source": [
    "# softmax_function = torch.nn.Softmax(0)\n",
    "# temperature = .06\n",
    "\n",
    "# x = torch.linspace(-1, 1, 1000)\n",
    "# y = 0 * torch.ones_like(x)\n",
    "\n",
    "# softmax = softmax_function((1/temperature) * torch.concat([x.view(1, -1), y.view(1, -1)], axis=0))\n",
    "\n",
    "# softmax_1 = softmax[0, :]\n",
    "# softmax_2 = softmax[1, :]\n",
    "# derivative = (1/temperature) * softmax_1 * softmax_2\n",
    "\n",
    "# plt.plot(x, softmax_1, '--')\n",
    "# plt.plot(x, derivative)\n",
    "\n",
    "# n = 100\n",
    "# step_size = 0.1\n",
    "# for xx, f, d in zip(x[::n], softmax_1[::n], derivative[::n]):\n",
    "#     plt.arrow(xx, f, step_size, step_size*d, color='grey', head_width=.03)\n",
    "# plt.legend(); plt.show()"
   ]
  }
 ],
 "metadata": {
  "kernelspec": {
   "display_name": "Python 3.9.7 ('bnelearn-test')",
   "language": "python",
   "name": "python3"
  },
  "language_info": {
   "codemirror_mode": {
    "name": "ipython",
    "version": 3
   },
   "file_extension": ".py",
   "mimetype": "text/x-python",
   "name": "python",
   "nbconvert_exporter": "python",
   "pygments_lexer": "ipython3",
   "version": "3.9.7"
  },
  "orig_nbformat": 4,
  "vscode": {
   "interpreter": {
    "hash": "1dad1a9a2c286d685afd050183e41fccb85fe11eed6ce7dece138474ddf03352"
   }
  }
 },
 "nbformat": 4,
 "nbformat_minor": 2
}
