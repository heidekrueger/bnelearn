{
 "cells": [
  {
   "cell_type": "markdown",
   "metadata": {},
   "source": [
    "# 2 Player FPSB Auction with symmetric unfirorm valuation distributions"
   ]
  },
  {
   "cell_type": "markdown",
   "metadata": {},
   "source": [
    "## Imports"
   ]
  },
  {
   "cell_type": "code",
   "execution_count": 3,
   "metadata": {},
   "outputs": [],
   "source": [
    "import os\n",
    "import sys\n",
    "root_path = os.path.abspath(os.path.join('..'))\n",
    "if root_path not in sys.path:\n",
    "    sys.path.append(root_path)"
   ]
  },
  {
   "cell_type": "code",
   "execution_count": 4,
   "metadata": {},
   "outputs": [],
   "source": [
    "import torch\n",
    "import torch.nn as nn\n",
    "import torch.nn.utils as ut\n",
    "from torch.optim.optimizer import Optimizer, required"
   ]
  },
  {
   "cell_type": "code",
   "execution_count": 5,
   "metadata": {},
   "outputs": [],
   "source": [
    "from bnelearn.strategy import NeuralNetStrategy, TruthfulStrategy\n",
    "from bnelearn.bidder import Bidder\n",
    "from bnelearn.mechanism import FirstPriceSealedBidAuction, VickreyAuction\n",
    "from bnelearn.optimizer import ES\n",
    "from bnelearn.environment import Environment"
   ]
  },
  {
   "cell_type": "code",
   "execution_count": 6,
   "metadata": {},
   "outputs": [],
   "source": [
    "from tensorboardX import SummaryWriter\n",
    "import numpy as np\n",
    "import matplotlib.pyplot as plt"
   ]
  },
  {
   "cell_type": "code",
   "execution_count": 7,
   "metadata": {},
   "outputs": [
    {
     "data": {
      "text/plain": [
       "True"
      ]
     },
     "execution_count": 7,
     "metadata": {},
     "output_type": "execute_result"
    }
   ],
   "source": [
    "torch.cuda.is_available()"
   ]
  },
  {
   "cell_type": "markdown",
   "metadata": {},
   "source": [
    "## Settings"
   ]
  },
  {
   "cell_type": "code",
   "execution_count": 8,
   "metadata": {},
   "outputs": [],
   "source": [
    "## Experiment setup\n",
    "n_players = 2\n",
    "n_items = 1\n",
    "# valuation distribution\n",
    "u_lo =0\n",
    "u_hi =10\n",
    "\n",
    "## Environment settings\n",
    "#training batch size\n",
    "batch_size = 2**11\n",
    "input_length = 1\n",
    "\n",
    "# model architecture\n",
    "size_hidden_layer = 10\n",
    "\n",
    "# optimization params\n",
    "epoch = 20000\n",
    "learning_rate = 2e-2\n",
    "lr_decay = True\n",
    "lr_decay_every = 1000\n",
    "lr_decay_factor = 0.66\n",
    "\n",
    "sigma = .2 #ES noise parameter\n",
    "n_perturbations = 80\n",
    "\n",
    "# plot and log training options\n",
    "plot_epoch = 50\n",
    "plot_points = min(150, batch_size)\n",
    "sample_points = torch.from_numpy(np.linspace(u_lo, u_hi, u_hi+1)).float().view(-1, n_items).cuda()\n",
    "\n",
    "# tensorboard writer settings"
   ]
  },
  {
   "cell_type": "markdown",
   "metadata": {},
   "source": [
    "## Setting up the Environment"
   ]
  },
  {
   "cell_type": "code",
   "execution_count": 9,
   "metadata": {},
   "outputs": [],
   "source": [
    "# for evaluation\n",
    "def optimal_bid(valuation):\n",
    "    return valuation / 2"
   ]
  },
  {
   "cell_type": "code",
   "execution_count": 10,
   "metadata": {},
   "outputs": [],
   "source": [
    "# Wrapper transforming a strategy to bidder, used by the optimizer\n",
    "def strat_to_bidder(strategy, batch_size):\n",
    "    return Bidder.uniform(u_lo,u_hi, strategy, batch_size = batch_size, n_players=2)"
   ]
  },
  {
   "cell_type": "code",
   "execution_count": 11,
   "metadata": {},
   "outputs": [],
   "source": [
    "model = NeuralNetStrategy(input_length, size_hidden_layer = size_hidden_layer, requires_grad=False).cuda()"
   ]
  },
  {
   "cell_type": "code",
   "execution_count": 12,
   "metadata": {},
   "outputs": [],
   "source": [
    "mechanism = FirstPriceSealedBidAuction(cuda = True)\n",
    "env = Environment(mechanism,\n",
    "                  environment_agents = [], #dynamically built\n",
    "                  max_env_size = 1, #\n",
    "                  batch_size = batch_size,\n",
    "                  n_players =2,\n",
    "                  strategy_to_bidder_closure = strat_to_bidder\n",
    "                 )\n",
    "optimizer = ES(model=model, environment = env,\n",
    "               lr = learning_rate, sigma=sigma, n_perturbations=n_perturbations)"
   ]
  },
  {
   "cell_type": "code",
   "execution_count": 13,
   "metadata": {},
   "outputs": [],
   "source": [
    "def log_hyperparams(writer):\n",
    "    writer.add_scalar('hyperparams/batch_size', batch_size)\n",
    "    writer.add_scalar('hyperparams/size_hidden_layer', size_hidden_layer)\n",
    "    writer.add_scalar('hyperparams/learning_rate', learning_rate)\n",
    "    writer.add_scalar('hyperparams/sigma', sigma)\n",
    "    writer.add_scalar('hyperparams/n_perturbations', n_perturbations)\n",
    "    \n",
    "    "
   ]
  },
  {
   "cell_type": "markdown",
   "metadata": {},
   "source": [
    "## Training"
   ]
  },
  {
   "cell_type": "code",
   "execution_count": null,
   "metadata": {},
   "outputs": [
    {
     "name": "stderr",
     "output_type": "stream",
     "text": [
      "C:\\Users\\stefan\\Anaconda3\\envs\\bnelearn\\lib\\site-packages\\torch\\nn\\functional.py:995: UserWarning: nn.functional.tanh is deprecated. Use torch.tanh instead.\n",
      "  warnings.warn(\"nn.functional.tanh is deprecated. Use torch.tanh instead.\")\n"
     ]
    },
    {
     "name": "stdout",
     "output_type": "stream",
     "text": [
      "Epoch 0: \tavg bid: -0.381393, \tutility: 4.296170\n",
      "Epoch 50: \tavg bid: 0.085591, \tutility: 2.701256\n",
      "Epoch 100: \tavg bid: 0.438534, \tutility: 1.751596\n",
      "Epoch 150: \tavg bid: 0.025060, \tutility: 1.245039\n",
      "Epoch 200: \tavg bid: -1.086157, \tutility: 1.029268\n",
      "Epoch 250: \tavg bid: 0.387730, \tutility: 0.985198\n",
      "Epoch 300: \tavg bid: 0.387337, \tutility: 0.961082\n",
      "Epoch 350: \tavg bid: 0.365062, \tutility: 0.942877\n",
      "Epoch 400: \tavg bid: 0.323361, \tutility: 0.919161\n",
      "Epoch 450: \tavg bid: 0.108803, \tutility: 0.984819\n",
      "Epoch 500: \tavg bid: -0.809629, \tutility: 1.015524\n",
      "Epoch 550: \tavg bid: -0.882238, \tutility: 1.036228\n",
      "Epoch 600: \tavg bid: -0.332020, \tutility: 1.106026\n",
      "Epoch 650: \tavg bid: -0.611432, \tutility: 1.169464\n",
      "Epoch 700: \tavg bid: 0.335741, \tutility: 1.165344\n",
      "Epoch 750: \tavg bid: -0.949373, \tutility: 1.176100\n",
      "Epoch 800: \tavg bid: -0.021600, \tutility: 1.166075\n",
      "Epoch 850: \tavg bid: -0.514916, \tutility: 1.339307\n",
      "Epoch 900: \tavg bid: -0.588817, \tutility: 1.386515\n",
      "Epoch 950: \tavg bid: -0.373014, \tutility: 1.512335\n",
      "Epoch 1000: \tavg bid: -0.183858, \tutility: 1.552319\n",
      "Epoch 1050: \tavg bid: -0.299357, \tutility: 1.627833\n",
      "Epoch 1100: \tavg bid: -1.128507, \tutility: 1.685115\n",
      "Epoch 1150: \tavg bid: 0.051574, \tutility: 1.689912\n",
      "Epoch 1200: \tavg bid: -14.889851, \tutility: 1.665330\n",
      "Epoch 1250: \tavg bid: -1.627496, \tutility: 1.732839\n",
      "Epoch 1300: \tavg bid: -0.313446, \tutility: 1.731352\n",
      "Epoch 1350: \tavg bid: -4.042564, \tutility: 1.738531\n",
      "Epoch 1400: \tavg bid: -0.241921, \tutility: 1.751210\n",
      "Epoch 1450: \tavg bid: -0.187910, \tutility: 1.765447\n",
      "Epoch 1500: \tavg bid: -0.323138, \tutility: 1.668740\n",
      "Epoch 1550: \tavg bid: -1.540134, \tutility: 1.640401\n",
      "Epoch 1600: \tavg bid: -0.527501, \tutility: 1.721392\n",
      "Epoch 1650: \tavg bid: -0.832983, \tutility: 1.775171\n",
      "Epoch 1700: \tavg bid: -0.396219, \tutility: 1.711226\n",
      "Epoch 1750: \tavg bid: -0.996701, \tutility: 1.797578\n",
      "Epoch 1800: \tavg bid: -1.735092, \tutility: 1.843156\n",
      "Epoch 1850: \tavg bid: -0.332804, \tutility: 1.826651\n",
      "Epoch 1900: \tavg bid: -4.386041, \tutility: 1.771389\n",
      "Epoch 1950: \tavg bid: -0.319898, \tutility: 1.778975\n",
      "Epoch 2000: \tavg bid: -1.267933, \tutility: 1.723130\n",
      "Epoch 2050: \tavg bid: -0.453547, \tutility: 1.758784\n",
      "Epoch 2100: \tavg bid: -0.753981, \tutility: 1.726416\n",
      "Epoch 2150: \tavg bid: -2.562766, \tutility: 1.671421\n",
      "Epoch 2200: \tavg bid: -1.266324, \tutility: 1.659326\n",
      "Epoch 2250: \tavg bid: -2.034212, \tutility: 1.697143\n",
      "Epoch 2300: \tavg bid: -0.861083, \tutility: 1.731919\n",
      "Epoch 2350: \tavg bid: -0.853069, \tutility: 1.694342\n",
      "Epoch 2400: \tavg bid: -1.324811, \tutility: 1.743624\n",
      "Epoch 2450: \tavg bid: -0.665286, \tutility: 1.741747\n",
      "Epoch 2500: \tavg bid: -0.394605, \tutility: 1.866292\n",
      "Epoch 2550: \tavg bid: -0.531468, \tutility: 1.795567\n",
      "Epoch 2600: \tavg bid: -4.976755, \tutility: 1.791352\n",
      "Epoch 2650: \tavg bid: -1.080373, \tutility: 1.850641\n",
      "Epoch 2700: \tavg bid: -0.742267, \tutility: 1.918398\n",
      "Epoch 2750: \tavg bid: -0.810069, \tutility: 2.013361\n",
      "Epoch 2800: \tavg bid: -0.891187, \tutility: 1.924439\n",
      "Epoch 2850: \tavg bid: -0.917924, \tutility: 1.981831\n",
      "Epoch 2900: \tavg bid: -1.187869, \tutility: 2.024549\n",
      "Epoch 2950: \tavg bid: -0.942798, \tutility: 1.894189\n",
      "Epoch 3000: \tavg bid: -1.021100, \tutility: 1.836162\n",
      "Epoch 3050: \tavg bid: -0.684408, \tutility: 1.765899\n",
      "Epoch 3100: \tavg bid: -0.672125, \tutility: 1.912916\n",
      "Epoch 3150: \tavg bid: -0.505096, \tutility: 1.844009\n",
      "Epoch 3200: \tavg bid: -1.961416, \tutility: 1.828937\n",
      "Epoch 3250: \tavg bid: -1.202886, \tutility: 1.877127\n",
      "Epoch 3300: \tavg bid: -1.435216, \tutility: 1.816184\n",
      "Epoch 3350: \tavg bid: -1.092442, \tutility: 1.844044\n",
      "Epoch 3400: \tavg bid: -0.389159, \tutility: 1.745161\n",
      "Epoch 3450: \tavg bid: -0.693444, \tutility: 1.721676\n",
      "Epoch 3500: \tavg bid: -93.482483, \tutility: 1.816776\n",
      "Epoch 3550: \tavg bid: -0.487941, \tutility: 1.770753\n",
      "Epoch 3600: \tavg bid: -0.532491, \tutility: 1.815887\n",
      "Epoch 3650: \tavg bid: -0.448459, \tutility: 1.815955\n",
      "Epoch 3700: \tavg bid: -0.193625, \tutility: 1.689970\n",
      "Epoch 3750: \tavg bid: -0.291213, \tutility: 1.730527\n",
      "Epoch 3800: \tavg bid: -2.424187, \tutility: 1.737268\n",
      "Epoch 3850: \tavg bid: -2.440647, \tutility: 1.750158\n",
      "Epoch 3900: \tavg bid: -7.271597, \tutility: 1.793069\n",
      "Epoch 3950: \tavg bid: -0.340034, \tutility: 1.749237\n",
      "Epoch 4000: \tavg bid: -0.875293, \tutility: 1.698852\n",
      "Epoch 4050: \tavg bid: -0.931360, \tutility: 1.790484\n",
      "Epoch 4100: \tavg bid: -0.354428, \tutility: 1.756525\n",
      "Epoch 4150: \tavg bid: -0.690761, \tutility: 1.770093\n",
      "Epoch 4200: \tavg bid: -0.676181, \tutility: 1.716237\n",
      "Epoch 4250: \tavg bid: -0.735450, \tutility: 1.780994\n",
      "Epoch 4300: \tavg bid: -0.793813, \tutility: 1.810308\n",
      "Epoch 4350: \tavg bid: -0.454317, \tutility: 1.815803\n",
      "Epoch 4400: \tavg bid: -0.376474, \tutility: 1.909619\n",
      "Epoch 4450: \tavg bid: -0.146063, \tutility: 1.806858\n",
      "Epoch 4500: \tavg bid: -0.460832, \tutility: 1.706641\n",
      "Epoch 4550: \tavg bid: -0.700909, \tutility: 1.720549\n",
      "Epoch 4600: \tavg bid: -0.294210, \tutility: 1.647398\n",
      "Epoch 4650: \tavg bid: -2.454291, \tutility: 1.674046\n",
      "Epoch 4700: \tavg bid: -1.105554, \tutility: 1.785296\n",
      "Epoch 4750: \tavg bid: -0.687194, \tutility: 1.639102\n",
      "Epoch 4800: \tavg bid: -31.307161, \tutility: 1.652968\n",
      "Epoch 4850: \tavg bid: -0.911764, \tutility: 1.770613\n",
      "Epoch 4900: \tavg bid: -1.656697, \tutility: 1.814365\n",
      "Epoch 4950: \tavg bid: -0.260091, \tutility: 1.769075\n",
      "Epoch 5000: \tavg bid: -0.775509, \tutility: 1.690460\n",
      "Epoch 5050: \tavg bid: -3.371971, \tutility: 1.741139\n",
      "Epoch 5100: \tavg bid: -0.319973, \tutility: 1.757848\n",
      "Epoch 5150: \tavg bid: -1.240639, \tutility: 1.720179\n",
      "Epoch 5200: \tavg bid: -0.666993, \tutility: 1.750225\n",
      "Epoch 5250: \tavg bid: -1.058094, \tutility: 1.812911\n",
      "Epoch 5300: \tavg bid: -0.766121, \tutility: 1.892764\n",
      "Epoch 5350: \tavg bid: -1.446921, \tutility: 1.946957\n",
      "Epoch 5400: \tavg bid: -1.132270, \tutility: 1.890071\n",
      "Epoch 5450: \tavg bid: -0.462251, \tutility: 1.861913\n",
      "Epoch 5500: \tavg bid: -1.157015, \tutility: 1.892715\n",
      "Epoch 5550: \tavg bid: -1.089522, \tutility: 1.903654\n",
      "Epoch 5600: \tavg bid: -0.815943, \tutility: 1.803811\n",
      "Epoch 5650: \tavg bid: -0.739696, \tutility: 1.898698\n",
      "Epoch 5700: \tavg bid: -0.910104, \tutility: 1.908582\n",
      "Epoch 5750: \tavg bid: -2.817891, \tutility: 1.860070\n",
      "Epoch 5800: \tavg bid: -0.516558, \tutility: 1.805573\n",
      "Epoch 5850: \tavg bid: -3.287712, \tutility: 1.942275\n",
      "Epoch 5900: \tavg bid: -0.667446, \tutility: 1.940493\n",
      "Epoch 5950: \tavg bid: -0.603285, \tutility: 1.894113\n",
      "Epoch 6000: \tavg bid: -0.334386, \tutility: 1.947419\n",
      "Epoch 6050: \tavg bid: -0.688225, \tutility: 2.007442\n",
      "Epoch 6100: \tavg bid: -1.073594, \tutility: 1.934689\n",
      "Epoch 6150: \tavg bid: -1.070301, \tutility: 2.014405\n",
      "Epoch 6200: \tavg bid: -1.022345, \tutility: 1.954375\n",
      "Epoch 6250: \tavg bid: -13.896151, \tutility: 1.863507\n",
      "Epoch 6300: \tavg bid: -0.238898, \tutility: 1.928240\n",
      "Epoch 6350: \tavg bid: -2.026515, \tutility: 1.882028\n",
      "Epoch 6400: \tavg bid: -4.878784, \tutility: 1.788543\n",
      "Epoch 6450: \tavg bid: -0.227190, \tutility: 1.749651\n",
      "Epoch 6500: \tavg bid: -1.181353, \tutility: 1.710443\n",
      "Epoch 6550: \tavg bid: -1.789432, \tutility: 1.714668\n",
      "Epoch 6600: \tavg bid: -0.141075, \tutility: 1.676773\n",
      "Epoch 6650: \tavg bid: -0.968704, \tutility: 1.681636\n",
      "Epoch 6700: \tavg bid: -0.706507, \tutility: 1.809322\n",
      "Epoch 6750: \tavg bid: -3.585833, \tutility: 1.914922\n",
      "Epoch 6800: \tavg bid: -0.709312, \tutility: 1.890036\n",
      "Epoch 6850: \tavg bid: -1.779312, \tutility: 1.822920\n",
      "Epoch 6900: \tavg bid: -0.834141, \tutility: 1.707647\n",
      "Epoch 6950: \tavg bid: -0.370993, \tutility: 1.655517\n",
      "Epoch 7000: \tavg bid: -4.621308, \tutility: 1.773518\n",
      "Epoch 7050: \tavg bid: -0.338307, \tutility: 1.830520\n",
      "Epoch 7100: \tavg bid: -0.576668, \tutility: 1.776271\n",
      "Epoch 7150: \tavg bid: -1.074372, \tutility: 1.796161\n",
      "Epoch 7200: \tavg bid: -0.613885, \tutility: 1.787217\n",
      "Epoch 7250: \tavg bid: -2.082320, \tutility: 1.817840\n",
      "Epoch 7300: \tavg bid: -1.281356, \tutility: 1.855901\n",
      "Epoch 7350: \tavg bid: -1.708030, \tutility: 1.823064\n",
      "Epoch 7400: \tavg bid: -3.512317, \tutility: 1.848793\n",
      "Epoch 7450: \tavg bid: -0.786644, \tutility: 1.789217\n",
      "Epoch 7500: \tavg bid: -0.690495, \tutility: 1.873985\n",
      "Epoch 7550: \tavg bid: -1.265251, \tutility: 1.777053\n",
      "Epoch 7600: \tavg bid: -1.315282, \tutility: 1.845098\n",
      "Epoch 7650: \tavg bid: -1.421353, \tutility: 1.812125\n",
      "Epoch 7700: \tavg bid: -1.133173, \tutility: 1.881511\n",
      "Epoch 7750: \tavg bid: -3.363163, \tutility: 1.934659\n",
      "Epoch 7800: \tavg bid: -2.120332, \tutility: 1.909076\n",
      "Epoch 7850: \tavg bid: -1.269085, \tutility: 1.956555\n",
      "Epoch 7900: \tavg bid: -0.476739, \tutility: 1.955661\n",
      "Epoch 7950: \tavg bid: -0.975826, \tutility: 2.023212\n",
      "Epoch 8000: \tavg bid: -1.396452, \tutility: 1.928593\n",
      "Epoch 8050: \tavg bid: -1.255443, \tutility: 1.887924\n",
      "Epoch 8100: \tavg bid: -7.291532, \tutility: 1.815245\n"
     ]
    }
   ],
   "source": [
    "torch.cuda.empty_cache()\n",
    "writer = SummaryWriter()\n",
    "log_hyperparams(writer)\n",
    "\n",
    "for e in range(epoch+1):    \n",
    "    \n",
    "    # lr decay?\n",
    "    if lr_decay and e % lr_decay_every == 0 and e > 0:\n",
    "        learning_rate = learning_rate * lr_decay_factor\n",
    "        for param_group in optimizer.param_groups:\n",
    "            param_group['lr'] = learning_rate\n",
    "        writer.add_scalar('hyperparams/learning_rate', learning_rate, e)\n",
    "        \n",
    "    # always: do optimizer step\n",
    "    utility = -optimizer.step()\n",
    "    writer.add_scalar('eval/utility', utility, e) \n",
    "    \n",
    "    # plot + eval\n",
    "    if e % plot_epoch == 0:\n",
    "        # plot current function output\n",
    "        bidder = strat_to_bidder(model, batch_size)\n",
    "        bidder.draw_valuations_()\n",
    "        v = bidder.valuations\n",
    "        b = bidder.get_action()\n",
    "        share = b/v\n",
    "        bidshare_artithmetic = share.mean()\n",
    "        bidshare_harmonic = \n",
    "        writer.add_scalar('eval/utility', utility, e)\n",
    "        writer.add_scalar('eval/share', share, e)       \n",
    "            \n",
    "        print(\"Epoch {}: \\tavg bid: {:2f}, \\tutility: {:2f}\".format(e, share, utility))                \n",
    "        \n",
    "        # subsample points and plot\n",
    "        v = v.detach().cpu().numpy()[:plot_points]\n",
    "        b= b.detach().cpu().numpy()[:plot_points]\n",
    "        optimal = optimal_bid(v)        \n",
    "        fig = plt.figure()\n",
    "        plt.plot(v,b, 'o', v, optimal, 'r-')        \n",
    "        writer.add_figure('eval/bid_function', fig, e)        \n",
    "        plt.show()\n",
    "        \n",
    "        # first step: write model\n",
    "        if e==0:\n",
    "            writer.add_graph(model, bidder.valuations)        \n",
    "    \n",
    "   \n",
    "        \n",
    "torch.cuda.empty_cache()\n",
    "writer.close()"
   ]
  },
  {
   "cell_type": "code",
   "execution_count": null,
   "metadata": {},
   "outputs": [],
   "source": []
  }
 ],
 "metadata": {
  "kernelspec": {
   "display_name": "Python 3",
   "language": "python",
   "name": "python3"
  },
  "language_info": {
   "codemirror_mode": {
    "name": "ipython",
    "version": 3
   },
   "file_extension": ".py",
   "mimetype": "text/x-python",
   "name": "python",
   "nbconvert_exporter": "python",
   "pygments_lexer": "ipython3",
   "version": "3.7.0"
  }
 },
 "nbformat": 4,
 "nbformat_minor": 2
}
