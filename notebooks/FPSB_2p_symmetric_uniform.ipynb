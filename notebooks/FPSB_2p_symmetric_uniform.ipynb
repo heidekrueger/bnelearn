{
 "cells": [
  {
   "cell_type": "markdown",
   "metadata": {},
   "source": [
    "# 2 Player FPSB Auction with symmetric unfirorm valuation distributions"
   ]
  },
  {
   "cell_type": "markdown",
   "metadata": {},
   "source": [
    "## Imports"
   ]
  },
  {
   "cell_type": "code",
   "execution_count": 2,
   "metadata": {},
   "outputs": [],
   "source": [
    "import os\n",
    "import sys\n",
    "root_path = os.path.abspath(os.path.join('..'))\n",
    "if root_path not in sys.path:\n",
    "    sys.path.append(root_path)"
   ]
  },
  {
   "cell_type": "code",
   "execution_count": 3,
   "metadata": {},
   "outputs": [],
   "source": [
    "import torch\n",
    "import torch.nn as nn\n",
    "import torch.nn.utils as ut\n",
    "from torch.optim.optimizer import Optimizer, required"
   ]
  },
  {
   "cell_type": "code",
   "execution_count": 4,
   "metadata": {},
   "outputs": [],
   "source": [
    "from bnelearn.strategy import NeuralNetStrategy, TruthfulStrategy\n",
    "from bnelearn.bidder import Bidder\n",
    "from bnelearn.mechanism import FirstPriceSealedBidAuction, VickreyAuction\n",
    "from bnelearn.optimizer import ES\n",
    "from bnelearn.environment import Environment"
   ]
  },
  {
   "cell_type": "code",
   "execution_count": 5,
   "metadata": {},
   "outputs": [],
   "source": [
    "from tensorboardX import SummaryWriter\n",
    "import numpy as np\n",
    "import matplotlib.pyplot as plt"
   ]
  },
  {
   "cell_type": "code",
   "execution_count": 6,
   "metadata": {},
   "outputs": [
    {
     "data": {
      "text/plain": [
       "True"
      ]
     },
     "execution_count": 6,
     "metadata": {},
     "output_type": "execute_result"
    }
   ],
   "source": [
    "torch.cuda.is_available()"
   ]
  },
  {
   "cell_type": "markdown",
   "metadata": {},
   "source": [
    "## Settings"
   ]
  },
  {
   "cell_type": "code",
   "execution_count": 7,
   "metadata": {},
   "outputs": [],
   "source": [
    "## Experiment setup\n",
    "n_players = 2\n",
    "n_items = 1\n",
    "# valuation distribution\n",
    "u_lo =0\n",
    "u_hi =10\n",
    "\n",
    "\n",
    "## Environment settings\n",
    "#training batch size\n",
    "batch_size = 2**16\n",
    "input_length = 1\n",
    "\n",
    "# model architecture\n",
    "size_hidden_layer = 25\n",
    "\n",
    "# optimization params\n",
    "epoch = 9000\n",
    "learning_rate = 5e-3\n",
    "sigma = .1 #ES noise parameter\n",
    "n_perturbations = 64\n",
    "\n",
    "# plot and log training options\n",
    "plot_epoch = 50\n",
    "plot_points = min(150, batch_size)\n",
    "sample_points = torch.from_numpy(np.linspace(u_lo, u_hi, u_hi+1)).float().view(-1, n_items).cuda()\n",
    "\n",
    "# tensorboard writer settings"
   ]
  },
  {
   "cell_type": "markdown",
   "metadata": {},
   "source": [
    "## Setting up the Environment"
   ]
  },
  {
   "cell_type": "code",
   "execution_count": 8,
   "metadata": {},
   "outputs": [],
   "source": [
    "# for evaluation\n",
    "def optimal_bid(valuation):\n",
    "    return valuation / 2"
   ]
  },
  {
   "cell_type": "code",
   "execution_count": 9,
   "metadata": {},
   "outputs": [],
   "source": [
    "# Wrapper transforming a strategy to bidder, used by the optimizer\n",
    "def strat_to_bidder(strategy, batch_size):\n",
    "    return Bidder.uniform(u_lo,u_hi, strategy, batch_size = batch_size, n_players=2)"
   ]
  },
  {
   "cell_type": "code",
   "execution_count": 10,
   "metadata": {},
   "outputs": [],
   "source": [
    "model = NeuralNetStrategy(input_length, size_hidden_layer = size_hidden_layer, requires_grad=False).cuda()"
   ]
  },
  {
   "cell_type": "code",
   "execution_count": 11,
   "metadata": {},
   "outputs": [],
   "source": [
    "mechanism = FirstPriceSealedBidAuction(cuda = True)\n",
    "env = Environment(mechanism,\n",
    "                  environment_agents = [], #dynamically built\n",
    "                  max_env_size = 1, #\n",
    "                  batch_size = batch_size,\n",
    "                  n_players =2,\n",
    "                  strategy_to_bidder_closure = strat_to_bidder\n",
    "                 )\n",
    "optimizer = ES(model=model, environment = env,\n",
    "               lr = learning_rate, sigma=sigma, n_perturbations=n_perturbations)"
   ]
  },
  {
   "cell_type": "code",
   "execution_count": 16,
   "metadata": {},
   "outputs": [],
   "source": [
    "def log_hyperparams(writer):\n",
    "    writer.add_scalars('hyperparams',\n",
    "                       {'batch_size': batch_size,\n",
    "                        'size_hidden_layer': size_hidden_layer,\n",
    "                        'learning_rate': learning_rate,\n",
    "                        'sigma': sigma,\n",
    "                        'n_perturbations': n_perturbations})"
   ]
  },
  {
   "cell_type": "code",
   "execution_count": 13,
   "metadata": {},
   "outputs": [],
   "source": []
  },
  {
   "cell_type": "code",
   "execution_count": 14,
   "metadata": {},
   "outputs": [
    {
     "name": "stdout",
     "output_type": "stream",
     "text": [
      "Epoch 0: \tavg bid: 0.000000, \tutility: 0.000000\n",
      "Epoch 50: \tavg bid: 0.082897, \tutility: 4.374060\n",
      "Epoch 100: \tavg bid: 0.205631, \tutility: 3.879433\n",
      "Epoch 150: \tavg bid: 0.308437, \tutility: 3.450031\n",
      "Epoch 200: \tavg bid: 0.398155, \tutility: 3.089642\n",
      "Epoch 250: \tavg bid: 0.482230, \tutility: 2.735321\n",
      "Epoch 300: \tavg bid: 0.559276, \tutility: 2.425313\n",
      "Epoch 350: \tavg bid: 0.613356, \tutility: 2.182617\n",
      "Epoch 400: \tavg bid: 0.667853, \tutility: 1.965780\n",
      "Epoch 450: \tavg bid: 0.711833, \tutility: 1.788049\n",
      "Epoch 500: \tavg bid: 0.754673, \tutility: 1.603689\n",
      "Epoch 550: \tavg bid: 0.786832, \tutility: 1.450887\n",
      "Epoch 600: \tavg bid: 0.830644, \tutility: 1.291167\n",
      "Epoch 650: \tavg bid: 0.857120, \tutility: 1.185754\n",
      "Epoch 700: \tavg bid: 0.881649, \tutility: 1.053549\n",
      "Epoch 750: \tavg bid: 0.894960, \tutility: 0.975950\n",
      "Epoch 800: \tavg bid: 0.907660, \tutility: 0.903950\n",
      "Epoch 850: \tavg bid: 0.920067, \tutility: 0.843992\n",
      "Epoch 900: \tavg bid: 0.933576, \tutility: 0.787086\n",
      "Epoch 950: \tavg bid: 0.942577, \tutility: 0.739020\n",
      "Epoch 1000: \tavg bid: 0.950610, \tutility: 0.698907\n",
      "Epoch 1050: \tavg bid: 0.963770, \tutility: 0.648595\n",
      "Epoch 1100: \tavg bid: 0.965549, \tutility: 0.606342\n",
      "Epoch 1150: \tavg bid: 0.975068, \tutility: 0.573837\n",
      "Epoch 1200: \tavg bid: 0.980286, \tutility: 0.541780\n",
      "Epoch 1250: \tavg bid: 0.986017, \tutility: 0.515923\n",
      "Epoch 1300: \tavg bid: 0.987012, \tutility: 0.522532\n",
      "Epoch 1350: \tavg bid: 0.985739, \tutility: 0.486977\n",
      "Epoch 1400: \tavg bid: 0.979385, \tutility: 0.508442\n",
      "Epoch 1450: \tavg bid: 0.985495, \tutility: 0.481503\n",
      "Epoch 1500: \tavg bid: 0.981709, \tutility: 0.502144\n",
      "Epoch 1550: \tavg bid: 0.969750, \tutility: 0.481874\n",
      "Epoch 1600: \tavg bid: 0.971290, \tutility: 0.470680\n",
      "Epoch 1650: \tavg bid: 0.975651, \tutility: 0.470328\n",
      "Epoch 1700: \tavg bid: 0.967444, \tutility: 0.508024\n",
      "Epoch 1750: \tavg bid: 0.962573, \tutility: 0.482718\n",
      "Epoch 1800: \tavg bid: 0.952186, \tutility: 0.497095\n",
      "Epoch 1850: \tavg bid: 0.952985, \tutility: 0.500878\n",
      "Epoch 1900: \tavg bid: 0.943192, \tutility: 0.509661\n",
      "Epoch 1950: \tavg bid: 0.942135, \tutility: 0.516482\n",
      "Epoch 2000: \tavg bid: 0.940894, \tutility: 0.530850\n",
      "Epoch 2050: \tavg bid: 0.933075, \tutility: 0.555627\n",
      "Epoch 2100: \tavg bid: 0.923233, \tutility: 0.578509\n",
      "Epoch 2150: \tavg bid: 0.917876, \tutility: 0.608058\n",
      "Epoch 2200: \tavg bid: 0.911083, \tutility: 0.613524\n",
      "Epoch 2250: \tavg bid: 0.903087, \tutility: 0.649920\n",
      "Epoch 2300: \tavg bid: 0.901493, \tutility: 0.639958\n",
      "Epoch 2350: \tavg bid: 0.890676, \tutility: 0.661441\n",
      "Epoch 2400: \tavg bid: 0.882050, \tutility: 0.660492\n",
      "Epoch 2450: \tavg bid: 0.880443, \tutility: 0.693329\n",
      "Epoch 2500: \tavg bid: 0.878152, \tutility: 0.707375\n",
      "Epoch 2550: \tavg bid: 0.868020, \tutility: 0.731208\n",
      "Epoch 2600: \tavg bid: 0.856340, \tutility: 0.753792\n",
      "Epoch 2650: \tavg bid: 0.841709, \tutility: 0.790902\n",
      "Epoch 2700: \tavg bid: 0.836820, \tutility: 0.819234\n",
      "Epoch 2750: \tavg bid: 0.833279, \tutility: 0.825854\n",
      "Epoch 2800: \tavg bid: 0.819069, \tutility: 0.858159\n",
      "Epoch 2850: \tavg bid: 0.814092, \tutility: 0.894239\n",
      "Epoch 2900: \tavg bid: 0.799478, \tutility: 0.905756\n",
      "Epoch 2950: \tavg bid: 0.794489, \tutility: 0.964628\n",
      "Epoch 3000: \tavg bid: 0.784472, \tutility: 1.004627\n",
      "Epoch 3050: \tavg bid: 0.773753, \tutility: 1.022575\n",
      "Epoch 3100: \tavg bid: 0.760290, \tutility: 1.062779\n",
      "Epoch 3150: \tavg bid: 0.752617, \tutility: 1.082785\n",
      "Epoch 3200: \tavg bid: 0.740618, \tutility: 1.117806\n",
      "Epoch 3250: \tavg bid: 0.735785, \tutility: 1.141558\n",
      "Epoch 3300: \tavg bid: 0.725035, \tutility: 1.163745\n",
      "Epoch 3350: \tavg bid: 0.717157, \tutility: 1.226178\n",
      "Epoch 3400: \tavg bid: 0.708571, \tutility: 1.240156\n",
      "Epoch 3450: \tavg bid: 0.700521, \tutility: 1.253065\n",
      "Epoch 3500: \tavg bid: 0.692298, \tutility: 1.284458\n",
      "Epoch 3550: \tavg bid: 0.687722, \tutility: 1.314112\n",
      "Epoch 3600: \tavg bid: 0.682623, \tutility: 1.346946\n",
      "Epoch 3650: \tavg bid: 0.675247, \tutility: 1.373734\n",
      "Epoch 3700: \tavg bid: 0.667078, \tutility: 1.408180\n",
      "Epoch 3750: \tavg bid: 0.648985, \tutility: 1.457588\n",
      "Epoch 3800: \tavg bid: 0.645517, \tutility: 1.457644\n",
      "Epoch 3850: \tavg bid: 0.644890, \tutility: 1.490393\n",
      "Epoch 3900: \tavg bid: 0.631029, \tutility: 1.498017\n",
      "Epoch 3950: \tavg bid: 0.619041, \tutility: 1.549105\n",
      "Epoch 4000: \tavg bid: 0.609461, \tutility: 1.625118\n"
     ]
    }
   ],
   "source": [
    "torch.cuda.empty_cache()\n",
    "writer = SummaryWriter()\n",
    "log_hyperparams(writer)\n",
    "for e in range(epoch+1):\n",
    "    if e % plot_epoch == 0:\n",
    "        # plot current function output\n",
    "        bidder = strat_to_bidder(model, batch_size)\n",
    "        bidder.draw_valuations_()\n",
    "        v = bidder.valuations\n",
    "        b = bidder.get_action()\n",
    "        share = (b/v).mean()\n",
    "        utility = -optimizer.step()\n",
    "        writer.add_scalar('utility', utility, e)\n",
    "        writer.add_scalar('share', share, e)\n",
    "        #writer.add_graph(model, bidder.valuations)\n",
    "        print(\"Epoch {}: \\tavg bid: {:2f}, \\tutility: {:2f}\".format(e, share, utility))\n",
    "                \n",
    "        \n",
    "        # subsample points and plot\n",
    "        v = v.detach().cpu().numpy()[:plot_points]\n",
    "        b= b.detach().cpu().numpy()[:plot_points]\n",
    "        optimal = optimal_bid(v)\n",
    "        \n",
    "        fig = plt.figure()\n",
    "        plt.plot(v,b, 'o', v, optimal, 'r-')\n",
    "        \n",
    "        writer.add_figure('function', fig, e)\n",
    "        \n",
    "        plt.show()\n",
    "    else:\n",
    "        utility = -optimizer.step()\n",
    "        writer.add_scalar('utility', utility, e)    \n",
    "        \n",
    "torch.cuda.empty_cache()\n",
    "writer.close()"
   ]
  },
  {
   "cell_type": "code",
   "execution_count": null,
   "metadata": {},
   "outputs": [],
   "source": []
  }
 ],
 "metadata": {
  "kernelspec": {
   "display_name": "Python 3",
   "language": "python",
   "name": "python3"
  },
  "language_info": {
   "codemirror_mode": {
    "name": "ipython",
    "version": 3
   },
   "file_extension": ".py",
   "mimetype": "text/x-python",
   "name": "python",
   "nbconvert_exporter": "python",
   "pygments_lexer": "ipython3",
   "version": "3.7.0"
  }
 },
 "nbformat": 4,
 "nbformat_minor": 2
}
