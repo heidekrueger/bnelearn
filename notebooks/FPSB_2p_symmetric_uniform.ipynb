{
 "cells": [
  {
   "cell_type": "markdown",
   "metadata": {},
   "source": [
    "# 2 Player FPSB Auction with symmetric unfirorm valuation distributions"
   ]
  },
  {
   "cell_type": "markdown",
   "metadata": {},
   "source": [
    "## Imports"
   ]
  },
  {
   "cell_type": "code",
   "execution_count": 1,
   "metadata": {},
   "outputs": [],
   "source": [
    "import os\n",
    "import sys\n",
    "root_path = os.path.abspath(os.path.join('..'))\n",
    "if root_path not in sys.path:\n",
    "    sys.path.append(root_path)"
   ]
  },
  {
   "cell_type": "code",
   "execution_count": 2,
   "metadata": {},
   "outputs": [],
   "source": [
    "import torch\n",
    "import torch.nn as nn\n",
    "import torch.nn.utils as ut\n",
    "from torch.optim.optimizer import Optimizer, required"
   ]
  },
  {
   "cell_type": "code",
   "execution_count": 3,
   "metadata": {},
   "outputs": [],
   "source": [
    "from bnelearn.strategy import NeuralNetStrategy, TruthfulStrategy\n",
    "from bnelearn.bidder import Bidder\n",
    "from bnelearn.mechanism import FirstPriceSealedBidAuction, VickreyAuction\n",
    "from bnelearn.optimizer import ES\n",
    "from bnelearn.environment import AuctionEnvironment"
   ]
  },
  {
   "cell_type": "code",
   "execution_count": 4,
   "metadata": {},
   "outputs": [],
   "source": [
    "from tensorboardX import SummaryWriter\n",
    "import numpy as np\n",
    "import matplotlib.pyplot as plt"
   ]
  },
  {
   "cell_type": "code",
   "execution_count": 5,
   "metadata": {},
   "outputs": [
    {
     "data": {
      "text/plain": [
       "True"
      ]
     },
     "execution_count": 5,
     "metadata": {},
     "output_type": "execute_result"
    }
   ],
   "source": [
    "torch.cuda.is_available()"
   ]
  },
  {
   "cell_type": "markdown",
   "metadata": {},
   "source": [
    "## Settings"
   ]
  },
  {
   "cell_type": "code",
   "execution_count": 6,
   "metadata": {},
   "outputs": [],
   "source": [
    "run_dir = 'fpsp'\n",
    "run_name = 'test-experiment1'\n",
    "logdir = os.path.join(root_path, 'notebooks', run_dir , run_name)"
   ]
  },
  {
   "cell_type": "code",
   "execution_count": 7,
   "metadata": {},
   "outputs": [],
   "source": [
    "## Experiment setup\n",
    "n_players = 2\n",
    "n_items = 1\n",
    "# valuation distribution\n",
    "u_lo =0\n",
    "u_hi =10\n",
    "\n",
    "## Environment settings\n",
    "#training batch size\n",
    "batch_size = 2**10\n",
    "input_length = 1\n",
    "\n",
    "# model architecture\n",
    "size_hidden_layer = 10\n",
    "\n",
    "# optimization params\n",
    "epoch = 10000\n",
    "learning_rate = 2e-2\n",
    "lr_decay = True\n",
    "lr_decay_every = 2000\n",
    "lr_decay_factor = 0.8\n",
    "\n",
    "sigma = .1 #ES noise parameter\n",
    "n_perturbations = 64\n",
    "\n",
    "# plot and log training options\n",
    "plot_epoch = 50\n",
    "plot_points = min(150, batch_size)\n",
    "sample_points = torch.from_numpy(np.linspace(u_lo, u_hi, u_hi+1)).float().view(-1, n_items).cuda()\n",
    "\n",
    "# tensorboard writer settings"
   ]
  },
  {
   "cell_type": "markdown",
   "metadata": {},
   "source": [
    "## Setting up the Environment"
   ]
  },
  {
   "cell_type": "code",
   "execution_count": 8,
   "metadata": {},
   "outputs": [],
   "source": [
    "# for evaluation\n",
    "def optimal_bid(valuation):\n",
    "    return valuation / 2"
   ]
  },
  {
   "cell_type": "code",
   "execution_count": 9,
   "metadata": {},
   "outputs": [],
   "source": [
    "# Wrapper transforming a strategy to bidder, used by the optimizer\n",
    "def strat_to_bidder(strategy, batch_size):\n",
    "    return Bidder.uniform(u_lo,u_hi, strategy, batch_size = batch_size, n_players=2)"
   ]
  },
  {
   "cell_type": "code",
   "execution_count": 10,
   "metadata": {},
   "outputs": [],
   "source": [
    "model = NeuralNetStrategy(input_length, size_hidden_layer = size_hidden_layer, requires_grad=False).cuda()"
   ]
  },
  {
   "cell_type": "code",
   "execution_count": 11,
   "metadata": {},
   "outputs": [],
   "source": [
    "mechanism = FirstPriceSealedBidAuction(cuda = True)\n",
    "env = AuctionEnvironment(mechanism,\n",
    "                  agents = [], #dynamically built\n",
    "                  max_env_size = 1, #\n",
    "                  batch_size = batch_size,\n",
    "                  n_players =2,\n",
    "                  strategy_to_bidder_closure = strat_to_bidder\n",
    "                 )\n",
    "optimizer = ES(model=model, environment = env,\n",
    "               lr = learning_rate, sigma=sigma, n_perturbations=n_perturbations)"
   ]
  },
  {
   "cell_type": "code",
   "execution_count": 12,
   "metadata": {},
   "outputs": [],
   "source": [
    "def log_hyperparams(writer):\n",
    "    writer.add_scalar('hyperparams/batch_size', batch_size)\n",
    "    writer.add_scalar('hyperparams/size_hidden_layer', size_hidden_layer)\n",
    "    writer.add_scalar('hyperparams/learning_rate', learning_rate)\n",
    "    writer.add_scalar('hyperparams/sigma', sigma)\n",
    "    writer.add_scalar('hyperparams/n_perturbations', n_perturbations)\n",
    "    \n",
    "    "
   ]
  },
  {
   "cell_type": "markdown",
   "metadata": {},
   "source": [
    "## Training"
   ]
  },
  {
   "cell_type": "code",
   "execution_count": 13,
   "metadata": {},
   "outputs": [
    {
     "name": "stderr",
     "output_type": "stream",
     "text": [
      "C:\\Users\\stefan\\Anaconda3\\envs\\bnelearn\\lib\\site-packages\\torch\\nn\\functional.py:1320: UserWarning: nn.functional.tanh is deprecated. Use torch.tanh instead.\n",
      "  warnings.warn(\"nn.functional.tanh is deprecated. Use torch.tanh instead.\")\n"
     ]
    },
    {
     "name": "stdout",
     "output_type": "stream",
     "text": [
      "Epoch 0: \tavg bid: 0.000000, \tutility: 0.000000\n",
      "Epoch 50: \tavg bid: 0.548977, \tutility: 3.053226\n",
      "Epoch 100: \tavg bid: 1.063215, \tutility: 1.800467\n",
      "Epoch 150: \tavg bid: 1.524006, \tutility: 1.335690\n",
      "Epoch 200: \tavg bid: 3.608670, \tutility: 0.790082\n",
      "Epoch 250: \tavg bid: 1.608251, \tutility: 0.497652\n",
      "Epoch 300: \tavg bid: 1.767040, \tutility: 0.389828\n",
      "Epoch 350: \tavg bid: 1.582550, \tutility: 0.315281\n",
      "Epoch 400: \tavg bid: 1.746561, \tutility: 0.356785\n",
      "Epoch 450: \tavg bid: 1.534306, \tutility: 0.223930\n",
      "Epoch 500: \tavg bid: 2.537699, \tutility: 0.320368\n",
      "Epoch 550: \tavg bid: 1.548642, \tutility: 0.361472\n",
      "Epoch 600: \tavg bid: 1.646958, \tutility: 0.428572\n",
      "Epoch 650: \tavg bid: 1.480407, \tutility: 0.535519\n",
      "Epoch 700: \tavg bid: 1.533018, \tutility: 0.729115\n",
      "Epoch 750: \tavg bid: 1.294332, \tutility: 0.570339\n",
      "Epoch 800: \tavg bid: 4.655233, \tutility: 0.732849\n",
      "Epoch 850: \tavg bid: 1.349325, \tutility: 0.915714\n",
      "Epoch 900: \tavg bid: 1.766014, \tutility: 0.914930\n",
      "Epoch 950: \tavg bid: 1.451422, \tutility: 0.916101\n",
      "Epoch 1000: \tavg bid: 1.187494, \tutility: 0.949408\n",
      "Epoch 1050: \tavg bid: 1.554533, \tutility: 1.027552\n",
      "Epoch 1100: \tavg bid: 1.440619, \tutility: 0.946439\n",
      "Epoch 1150: \tavg bid: 1.249899, \tutility: 0.903052\n",
      "Epoch 1200: \tavg bid: 1.272530, \tutility: 0.894491\n",
      "Epoch 1250: \tavg bid: 124.240654, \tutility: 0.961964\n",
      "Epoch 1300: \tavg bid: 1.200772, \tutility: 0.957601\n",
      "Epoch 1350: \tavg bid: 1.247794, \tutility: 1.035086\n",
      "Epoch 1400: \tavg bid: 1.103908, \tutility: 1.010566\n",
      "Epoch 1450: \tavg bid: 1.129741, \tutility: 1.161335\n",
      "Epoch 1500: \tavg bid: 1.019708, \tutility: 1.221637\n",
      "Epoch 1550: \tavg bid: 0.987031, \tutility: 1.412472\n",
      "Epoch 1600: \tavg bid: 1.062229, \tutility: 1.108342\n",
      "Epoch 1650: \tavg bid: 1.006400, \tutility: 1.249295\n",
      "Epoch 1700: \tavg bid: 1.077437, \tutility: 1.083572\n",
      "Epoch 1750: \tavg bid: 1.007419, \tutility: 1.103537\n",
      "Epoch 1800: \tavg bid: 1.003575, \tutility: 1.274454\n",
      "Epoch 1850: \tavg bid: 0.980650, \tutility: 1.253401\n",
      "Epoch 1900: \tavg bid: 0.978263, \tutility: 1.384300\n",
      "Epoch 1950: \tavg bid: 1.019379, \tutility: 1.229483\n",
      "Epoch 2000: \tavg bid: 0.923979, \tutility: 1.413412\n",
      "Epoch 2050: \tavg bid: 0.916661, \tutility: 1.348060\n",
      "Epoch 2100: \tavg bid: 0.835983, \tutility: 1.407785\n",
      "Epoch 2150: \tavg bid: 0.852744, \tutility: 1.415113\n",
      "Epoch 2200: \tavg bid: 0.825526, \tutility: 1.504529\n",
      "Epoch 2250: \tavg bid: 0.764410, \tutility: 1.467302\n",
      "Epoch 2300: \tavg bid: 0.758468, \tutility: 1.539246\n",
      "Epoch 2350: \tavg bid: 0.758024, \tutility: 1.481695\n",
      "Epoch 2400: \tavg bid: 0.791342, \tutility: 1.440770\n",
      "Epoch 2450: \tavg bid: 0.782818, \tutility: 1.472139\n",
      "Epoch 2500: \tavg bid: 0.750353, \tutility: 1.455911\n",
      "Epoch 2550: \tavg bid: 0.760277, \tutility: 1.465575\n",
      "Epoch 2600: \tavg bid: 0.736830, \tutility: 1.491369\n",
      "Epoch 2650: \tavg bid: 0.700898, \tutility: 1.575002\n",
      "Epoch 2700: \tavg bid: 0.704509, \tutility: 1.440312\n",
      "Epoch 2750: \tavg bid: 0.665719, \tutility: 1.761746\n",
      "Epoch 2800: \tavg bid: 0.668393, \tutility: 1.729239\n",
      "Epoch 2850: \tavg bid: 0.628109, \tutility: 1.927380\n",
      "Epoch 2900: \tavg bid: 0.632432, \tutility: 1.814215\n",
      "Epoch 2950: \tavg bid: 0.645651, \tutility: 1.768879\n",
      "Epoch 3000: \tavg bid: 0.602725, \tutility: 2.005885\n",
      "Epoch 3050: \tavg bid: 0.611989, \tutility: 1.902741\n",
      "Epoch 3100: \tavg bid: 0.629911, \tutility: 1.841969\n",
      "Epoch 3150: \tavg bid: 0.632535, \tutility: 1.800554\n",
      "Epoch 3200: \tavg bid: 0.668194, \tutility: 1.578099\n",
      "Epoch 3250: \tavg bid: 0.686000, \tutility: 1.613275\n",
      "Epoch 3300: \tavg bid: 0.679137, \tutility: 1.510542\n",
      "Epoch 3350: \tavg bid: 0.667353, \tutility: 1.555848\n",
      "Epoch 3400: \tavg bid: 0.664235, \tutility: 1.634345\n",
      "Epoch 3450: \tavg bid: 0.650363, \tutility: 1.732689\n",
      "Epoch 3500: \tavg bid: 0.625963, \tutility: 1.669749\n",
      "Epoch 3550: \tavg bid: 0.609192, \tutility: 1.724446\n",
      "Epoch 3600: \tavg bid: 0.606075, \tutility: 1.743164\n",
      "Epoch 3650: \tavg bid: 0.600667, \tutility: 1.778372\n",
      "Epoch 3700: \tavg bid: 0.536607, \tutility: 2.054042\n",
      "Epoch 3750: \tavg bid: 0.590126, \tutility: 1.813488\n",
      "Epoch 3800: \tavg bid: 0.557507, \tutility: 1.871621\n",
      "Epoch 3850: \tavg bid: 0.541349, \tutility: 1.962018\n",
      "Epoch 3900: \tavg bid: 0.574667, \tutility: 1.905502\n",
      "Epoch 3950: \tavg bid: 0.557446, \tutility: 1.911136\n",
      "Epoch 4000: \tavg bid: 0.505598, \tutility: 2.197518\n",
      "Epoch 4050: \tavg bid: 0.534123, \tutility: 2.154193\n",
      "Epoch 4100: \tavg bid: 0.557062, \tutility: 1.957581\n",
      "Epoch 4150: \tavg bid: 0.545594, \tutility: 2.018077\n",
      "Epoch 4200: \tavg bid: 0.533265, \tutility: 2.111244\n",
      "Epoch 4250: \tavg bid: 0.525680, \tutility: 2.141587\n",
      "Epoch 4300: \tavg bid: 0.534885, \tutility: 2.158495\n",
      "Epoch 4350: \tavg bid: 0.549299, \tutility: 2.088889\n",
      "Epoch 4400: \tavg bid: 0.556868, \tutility: 2.090950\n",
      "Epoch 4450: \tavg bid: 0.546835, \tutility: 2.037207\n",
      "Epoch 4500: \tavg bid: 0.572476, \tutility: 1.996094\n",
      "Epoch 4550: \tavg bid: 0.585622, \tutility: 1.914078\n",
      "Epoch 4600: \tavg bid: 0.510253, \tutility: 2.158929\n",
      "Epoch 4650: \tavg bid: 0.510370, \tutility: 2.247622\n",
      "Epoch 4700: \tavg bid: 0.574233, \tutility: 1.898885\n",
      "Epoch 4750: \tavg bid: 0.540126, \tutility: 1.978413\n",
      "Epoch 4800: \tavg bid: 0.495669, \tutility: 2.285382\n",
      "Epoch 4850: \tavg bid: 0.479889, \tutility: 2.317932\n",
      "Epoch 4900: \tavg bid: 0.478739, \tutility: 2.309485\n",
      "Epoch 4950: \tavg bid: 0.512365, \tutility: 2.140851\n",
      "Epoch 5000: \tavg bid: 0.547793, \tutility: 1.937510\n",
      "Epoch 5050: \tavg bid: 0.488700, \tutility: 2.153435\n",
      "Epoch 5100: \tavg bid: 0.527653, \tutility: 2.090600\n",
      "Epoch 5150: \tavg bid: 0.538944, \tutility: 2.120381\n",
      "Epoch 5200: \tavg bid: 0.581086, \tutility: 1.886118\n",
      "Epoch 5250: \tavg bid: 0.569965, \tutility: 1.903034\n",
      "Epoch 5300: \tavg bid: 0.512353, \tutility: 2.104019\n",
      "Epoch 5350: \tavg bid: 0.494730, \tutility: 2.137037\n",
      "Epoch 5400: \tavg bid: 0.500788, \tutility: 2.194736\n",
      "Epoch 5450: \tavg bid: 0.488895, \tutility: 2.247648\n",
      "Epoch 5500: \tavg bid: 0.491864, \tutility: 2.209176\n",
      "Epoch 5550: \tavg bid: 0.491281, \tutility: 2.281630\n",
      "Epoch 5600: \tavg bid: 0.502055, \tutility: 2.130482\n",
      "Epoch 5650: \tavg bid: 0.446775, \tutility: 2.376950\n",
      "Epoch 5700: \tavg bid: 0.459313, \tutility: 2.380864\n",
      "Epoch 5750: \tavg bid: 0.455230, \tutility: 2.382850\n",
      "Epoch 5800: \tavg bid: 0.422787, \tutility: 2.426724\n",
      "Epoch 5850: \tavg bid: 0.463556, \tutility: 2.334123\n",
      "Epoch 5900: \tavg bid: 0.501684, \tutility: 2.143024\n",
      "Epoch 5950: \tavg bid: 0.539571, \tutility: 1.967956\n",
      "Epoch 6000: \tavg bid: 0.522263, \tutility: 2.124623\n",
      "Epoch 6050: \tavg bid: 0.462389, \tutility: 2.339051\n",
      "Epoch 6100: \tavg bid: 0.451591, \tutility: 2.325632\n",
      "Epoch 6150: \tavg bid: 0.434085, \tutility: 2.372686\n",
      "Epoch 6200: \tavg bid: 0.450235, \tutility: 2.383726\n",
      "Epoch 6250: \tavg bid: 0.496174, \tutility: 2.194021\n",
      "Epoch 6300: \tavg bid: 0.546276, \tutility: 1.956639\n",
      "Epoch 6350: \tavg bid: 0.507445, \tutility: 2.072345\n",
      "Epoch 6400: \tavg bid: 0.530149, \tutility: 1.944594\n",
      "Epoch 6450: \tavg bid: 0.513288, \tutility: 1.979285\n",
      "Epoch 6500: \tavg bid: 0.527304, \tutility: 2.013183\n",
      "Epoch 6550: \tavg bid: 0.510878, \tutility: 2.002484\n",
      "Epoch 6600: \tavg bid: 0.462423, \tutility: 2.288674\n",
      "Epoch 6650: \tavg bid: 0.440362, \tutility: 2.329952\n",
      "Epoch 6700: \tavg bid: 0.470996, \tutility: 2.323516\n",
      "Epoch 6750: \tavg bid: 0.518041, \tutility: 2.081345\n",
      "Epoch 6800: \tavg bid: 0.516199, \tutility: 2.092923\n",
      "Epoch 6850: \tavg bid: 0.564244, \tutility: 1.985220\n",
      "Epoch 6900: \tavg bid: 0.529911, \tutility: 2.076501\n",
      "Epoch 6950: \tavg bid: 0.523769, \tutility: 2.012983\n",
      "Epoch 7000: \tavg bid: 0.571384, \tutility: 1.774941\n",
      "Epoch 7050: \tavg bid: 0.496715, \tutility: 2.067391\n",
      "Epoch 7100: \tavg bid: 0.469063, \tutility: 2.230816\n",
      "Epoch 7150: \tavg bid: 0.447919, \tutility: 2.248331\n",
      "Epoch 7200: \tavg bid: 0.436298, \tutility: 2.341589\n",
      "Epoch 7250: \tavg bid: 0.428064, \tutility: 2.450960\n",
      "Epoch 7300: \tavg bid: 0.419212, \tutility: 2.467506\n",
      "Epoch 7350: \tavg bid: 0.432721, \tutility: 2.487916\n",
      "Epoch 7400: \tavg bid: 0.475355, \tutility: 2.208986\n",
      "Epoch 7450: \tavg bid: 0.452299, \tutility: 2.285026\n",
      "Epoch 7500: \tavg bid: 0.468324, \tutility: 2.316805\n",
      "Epoch 7550: \tavg bid: 0.517396, \tutility: 2.071521\n",
      "Epoch 7600: \tavg bid: 0.481829, \tutility: 2.312892\n",
      "Epoch 7650: \tavg bid: 0.508193, \tutility: 2.109374\n",
      "Epoch 7700: \tavg bid: 0.519021, \tutility: 2.139819\n",
      "Epoch 7750: \tavg bid: 0.498869, \tutility: 2.172705\n",
      "Epoch 7800: \tavg bid: 0.516331, \tutility: 2.152367\n",
      "Epoch 7850: \tavg bid: 0.467378, \tutility: 2.273232\n",
      "Epoch 7900: \tavg bid: 0.425542, \tutility: 2.436692\n",
      "Epoch 7950: \tavg bid: 0.413594, \tutility: 2.539734\n",
      "Epoch 8000: \tavg bid: 0.437447, \tutility: 2.507989\n",
      "Epoch 8050: \tavg bid: 0.484824, \tutility: 2.300475\n",
      "Epoch 8100: \tavg bid: 0.518009, \tutility: 2.112341\n",
      "Epoch 8150: \tavg bid: 0.555250, \tutility: 2.014027\n",
      "Epoch 8200: \tavg bid: 0.538526, \tutility: 2.092357\n",
      "Epoch 8250: \tavg bid: 0.503837, \tutility: 2.141998\n",
      "Epoch 8300: \tavg bid: 0.531486, \tutility: 2.085839\n",
      "Epoch 8350: \tavg bid: 0.479106, \tutility: 2.280958\n",
      "Epoch 8400: \tavg bid: 0.472148, \tutility: 2.358466\n",
      "Epoch 8450: \tavg bid: 0.467752, \tutility: 2.405031\n",
      "Epoch 8500: \tavg bid: 0.427857, \tutility: 2.697443\n",
      "Epoch 8550: \tavg bid: 0.467812, \tutility: 2.369293\n",
      "Epoch 8600: \tavg bid: 0.460908, \tutility: 2.437575\n",
      "Epoch 8650: \tavg bid: 0.438566, \tutility: 2.519309\n",
      "Epoch 8700: \tavg bid: 0.424805, \tutility: 2.383909\n",
      "Epoch 8750: \tavg bid: 0.444697, \tutility: 2.425627\n",
      "Epoch 8800: \tavg bid: 0.449691, \tutility: 2.324875\n",
      "Epoch 8850: \tavg bid: 0.470970, \tutility: 2.270909\n",
      "Epoch 8900: \tavg bid: 0.434470, \tutility: 2.398761\n",
      "Epoch 8950: \tavg bid: 0.408270, \tutility: 2.484478\n",
      "Epoch 9000: \tavg bid: 0.409354, \tutility: 2.471750\n",
      "Epoch 9050: \tavg bid: 0.413986, \tutility: 2.456364\n",
      "Epoch 9100: \tavg bid: 0.422459, \tutility: 2.472020\n",
      "Epoch 9150: \tavg bid: 0.411553, \tutility: 2.570623\n",
      "Epoch 9200: \tavg bid: 0.396965, \tutility: 2.491945\n",
      "Epoch 9250: \tavg bid: 0.370098, \tutility: 2.662769\n",
      "Epoch 9300: \tavg bid: 0.375945, \tutility: 2.756610\n",
      "Epoch 9350: \tavg bid: 0.398402, \tutility: 2.652817\n",
      "Epoch 9400: \tavg bid: 0.416408, \tutility: 2.666027\n",
      "Epoch 9450: \tavg bid: 0.468979, \tutility: 2.386286\n",
      "Epoch 9500: \tavg bid: 0.450751, \tutility: 2.445808\n",
      "Epoch 9550: \tavg bid: 0.494023, \tutility: 2.322493\n",
      "Epoch 9600: \tavg bid: 0.434831, \tutility: 2.656815\n",
      "Epoch 9650: \tavg bid: 0.477488, \tutility: 2.558422\n",
      "Epoch 9700: \tavg bid: 0.484218, \tutility: 2.481407\n",
      "Epoch 9750: \tavg bid: 0.457174, \tutility: 2.475816\n",
      "Epoch 9800: \tavg bid: 0.477386, \tutility: 2.308127\n",
      "Epoch 9850: \tavg bid: 0.482790, \tutility: 2.190069\n",
      "Epoch 9900: \tavg bid: 0.426109, \tutility: 2.372696\n",
      "Epoch 9950: \tavg bid: 0.441927, \tutility: 2.360225\n",
      "Epoch 10000: \tavg bid: 0.388805, \tutility: 2.562599\n"
     ]
    }
   ],
   "source": [
    "torch.cuda.empty_cache()\n",
    "writer = SummaryWriter(logdir)\n",
    "log_hyperparams(writer)\n",
    "\n",
    "for e in range(epoch+1):    \n",
    "    \n",
    "    # lr decay?\n",
    "    if lr_decay and e % lr_decay_every == 0 and e > 0:\n",
    "        learning_rate = learning_rate * lr_decay_factor\n",
    "        for param_group in optimizer.param_groups:\n",
    "            param_group['lr'] = learning_rate\n",
    "        writer.add_scalar('hyperparams/learning_rate', learning_rate, e)\n",
    "        \n",
    "    # always: do optimizer step\n",
    "    utility = -optimizer.step()\n",
    "    writer.add_scalar('eval/utility', utility, e) \n",
    "    \n",
    "    # plot + eval\n",
    "    if e % plot_epoch == 0:\n",
    "        # plot current function output\n",
    "        bidder = strat_to_bidder(model, batch_size)\n",
    "        bidder.draw_valuations_()\n",
    "        v = bidder.valuations\n",
    "        b = bidder.get_action()\n",
    "        share = (b/v).mean()\n",
    "        writer.add_scalar('eval/utility', utility, e)\n",
    "        writer.add_scalar('eval/share', share, e)       \n",
    "            \n",
    "        print(\"Epoch {}: \\tavg bid: {:2f}, \\tutility: {:2f}\".format(e, share, utility))                \n",
    "        \n",
    "        # subsample points and plot\n",
    "        v = v.detach().cpu().numpy()[:plot_points]\n",
    "        b= b.detach().cpu().numpy()[:plot_points]\n",
    "        optimal = optimal_bid(v)        \n",
    "        fig = plt.figure()\n",
    "        plt.plot(v,b, 'o', v, optimal, 'r-')        \n",
    "        writer.add_figure('eval/bid_function', fig, e)        \n",
    "        plt.show()\n",
    "        \n",
    "        # first step: write model\n",
    "        if e==0:\n",
    "            writer.add_graph(model, bidder.valuations)        \n",
    "    \n",
    "   \n",
    "        \n",
    "torch.cuda.empty_cache()\n",
    "writer.close()"
   ]
  },
  {
   "cell_type": "code",
   "execution_count": null,
   "metadata": {},
   "outputs": [],
   "source": []
  },
  {
   "cell_type": "code",
   "execution_count": 14,
   "metadata": {},
   "outputs": [
    {
     "data": {
      "text/plain": [
       "'C:\\\\Users\\\\stefan\\\\dev\\\\bnelearn\\\\notebooks\\\\fpsp\\\\test-experiment1'"
      ]
     },
     "execution_count": 14,
     "metadata": {},
     "output_type": "execute_result"
    }
   ],
   "source": [
    "logdir"
   ]
  }
 ],
 "metadata": {
  "kernelspec": {
   "display_name": "Python 3",
   "language": "python",
   "name": "python3"
  },
  "language_info": {
   "codemirror_mode": {
    "name": "ipython",
    "version": 3
   },
   "file_extension": ".py",
   "mimetype": "text/x-python",
   "name": "python",
   "nbconvert_exporter": "python",
   "pygments_lexer": "ipython3",
   "version": "3.7.0"
  }
 },
 "nbformat": 4,
 "nbformat_minor": 2
}
