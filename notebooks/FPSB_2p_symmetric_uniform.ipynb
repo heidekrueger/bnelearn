{
 "cells": [
  {
   "cell_type": "markdown",
   "metadata": {},
   "source": [
    "# 2 Player FPSB Auction with symmetric unfirorm valuation distributions"
   ]
  },
  {
   "cell_type": "markdown",
   "metadata": {},
   "source": [
    "## Imports"
   ]
  },
  {
   "cell_type": "code",
   "execution_count": 1,
   "metadata": {},
   "outputs": [],
   "source": [
    "import os\n",
    "import sys\n",
    "root_path = os.path.abspath(os.path.join('..'))\n",
    "if root_path not in sys.path:\n",
    "    sys.path.append(root_path)"
   ]
  },
  {
   "cell_type": "code",
   "execution_count": 2,
   "metadata": {},
   "outputs": [],
   "source": [
    "import torch\n",
    "import torch.nn as nn\n",
    "import torch.nn.utils as ut\n",
    "from torch.optim.optimizer import Optimizer, required"
   ]
  },
  {
   "cell_type": "code",
   "execution_count": 3,
   "metadata": {},
   "outputs": [],
   "source": [
    "from bnelearn.strategy import NeuralNetStrategy, TruthfulStrategy\n",
    "from bnelearn.bidder import Bidder\n",
    "from bnelearn.mechanism import FirstPriceSealedBidAuction, VickreyAuction\n",
    "from bnelearn.optimizer import ES\n",
    "from bnelearn.environment import Environment"
   ]
  },
  {
   "cell_type": "code",
   "execution_count": 4,
   "metadata": {},
   "outputs": [],
   "source": [
    "from tensorboardX import SummaryWriter\n",
    "import numpy as np\n",
    "import matplotlib.pyplot as plt"
   ]
  },
  {
   "cell_type": "code",
   "execution_count": 5,
   "metadata": {},
   "outputs": [
    {
     "data": {
      "text/plain": [
       "True"
      ]
     },
     "execution_count": 5,
     "metadata": {},
     "output_type": "execute_result"
    }
   ],
   "source": [
    "torch.cuda.is_available()"
   ]
  },
  {
   "cell_type": "markdown",
   "metadata": {},
   "source": [
    "## Settings"
   ]
  },
  {
   "cell_type": "code",
   "execution_count": 6,
   "metadata": {},
   "outputs": [],
   "source": [
    "## Experiment setup\n",
    "n_players = 2\n",
    "n_items = 1\n",
    "# valuation distribution\n",
    "u_lo =0\n",
    "u_hi =10\n",
    "\n",
    "## Environment settings\n",
    "#training batch size\n",
    "batch_size = 2**16\n",
    "input_length = 1\n",
    "\n",
    "# model architecture\n",
    "size_hidden_layer = 10\n",
    "\n",
    "# optimization params\n",
    "epoch = 9000\n",
    "learning_rate = 5e-3\n",
    "sigma = .1 #ES noise parameter\n",
    "n_perturbations = 64\n",
    "\n",
    "# plot and log training options\n",
    "plot_epoch = 50\n",
    "plot_points = min(150, batch_size)\n",
    "sample_points = torch.from_numpy(np.linspace(u_lo, u_hi, u_hi+1)).float().view(-1, n_items).cuda()\n",
    "\n",
    "# tensorboard writer settings"
   ]
  },
  {
   "cell_type": "markdown",
   "metadata": {},
   "source": [
    "## Setting up the Environment"
   ]
  },
  {
   "cell_type": "code",
   "execution_count": 7,
   "metadata": {},
   "outputs": [],
   "source": [
    "# for evaluation\n",
    "def optimal_bid(valuation):\n",
    "    return valuation / 2"
   ]
  },
  {
   "cell_type": "code",
   "execution_count": 8,
   "metadata": {},
   "outputs": [],
   "source": [
    "# Wrapper transforming a strategy to bidder, used by the optimizer\n",
    "def strat_to_bidder(strategy, batch_size):\n",
    "    return Bidder.uniform(u_lo,u_hi, strategy, batch_size = batch_size, n_players=2)"
   ]
  },
  {
   "cell_type": "code",
   "execution_count": 9,
   "metadata": {},
   "outputs": [],
   "source": [
    "model = NeuralNetStrategy(input_length, size_hidden_layer = size_hidden_layer, requires_grad=False).cuda()"
   ]
  },
  {
   "cell_type": "code",
   "execution_count": 10,
   "metadata": {},
   "outputs": [],
   "source": [
    "mechanism = FirstPriceSealedBidAuction(cuda = True)\n",
    "env = Environment(mechanism,\n",
    "                  environment_agents = [], #dynamically built\n",
    "                  max_env_size = 1, #\n",
    "                  batch_size = batch_size,\n",
    "                  n_players =2,\n",
    "                  strategy_to_bidder_closure = strat_to_bidder\n",
    "                 )\n",
    "optimizer = ES(model=model, environment = env,\n",
    "               lr = learning_rate, sigma=sigma, n_perturbations=n_perturbations)"
   ]
  },
  {
   "cell_type": "code",
   "execution_count": 11,
   "metadata": {},
   "outputs": [],
   "source": [
    "def log_hyperparams(writer):\n",
    "    writer.add_scalar('hyperparams/batch_size', batch_size)\n",
    "    writer.add_scalar('hyperparams/size_hidden_layer', size_hidden_layer)\n",
    "    writer.add_scalar('hyperparams/learning_rate', learning_rate)\n",
    "    writer.add_scalar('hyperparams/sigma', sigma)\n",
    "    writer.add_scalar('hyperparams/n_perturbations', n_perturbations)\n",
    "    \n",
    "    "
   ]
  },
  {
   "cell_type": "markdown",
   "metadata": {},
   "source": [
    "## Training"
   ]
  },
  {
   "cell_type": "code",
   "execution_count": null,
   "metadata": {},
   "outputs": [
    {
     "name": "stderr",
     "output_type": "stream",
     "text": [
      "C:\\Users\\stefan\\Anaconda3\\envs\\bnelearn\\lib\\site-packages\\torch\\nn\\functional.py:995: UserWarning: nn.functional.tanh is deprecated. Use torch.tanh instead.\n",
      "  warnings.warn(\"nn.functional.tanh is deprecated. Use torch.tanh instead.\")\n"
     ]
    },
    {
     "name": "stdout",
     "output_type": "stream",
     "text": [
      "Epoch 0: \tavg bid: 0.057419, \tutility: 0.000000\n",
      "Epoch 50: \tavg bid: 0.427440, \tutility: 4.279208\n",
      "Epoch 100: \tavg bid: 1.168555, \tutility: 3.712126\n",
      "Epoch 150: \tavg bid: 1.010177, \tutility: 3.188411\n",
      "Epoch 200: \tavg bid: 1.219319, \tutility: 2.723931\n",
      "Epoch 250: \tavg bid: 1.403139, \tutility: 2.320334\n",
      "Epoch 300: \tavg bid: 1.633250, \tutility: 1.945533\n",
      "Epoch 350: \tavg bid: 1.597993, \tutility: 1.638396\n",
      "Epoch 400: \tavg bid: 1.911089, \tutility: 1.379446\n",
      "Epoch 450: \tavg bid: 2.174857, \tutility: 1.143945\n",
      "Epoch 500: \tavg bid: 2.089782, \tutility: 0.961506\n",
      "Epoch 550: \tavg bid: 2.814307, \tutility: 0.771051\n",
      "Epoch 600: \tavg bid: 2.131930, \tutility: 0.625491\n",
      "Epoch 650: \tavg bid: 3.263984, \tutility: 0.500088\n",
      "Epoch 700: \tavg bid: 2.445767, \tutility: 0.404735\n",
      "Epoch 750: \tavg bid: 5.620318, \tutility: 0.315856\n",
      "Epoch 800: \tavg bid: 2.279997, \tutility: 0.250386\n",
      "Epoch 850: \tavg bid: 2.745893, \tutility: 0.175985\n",
      "Epoch 900: \tavg bid: 2.419563, \tutility: 0.101535\n",
      "Epoch 950: \tavg bid: 2.488320, \tutility: 0.054606\n",
      "Epoch 1000: \tavg bid: 2.362909, \tutility: 0.013520\n",
      "Epoch 1050: \tavg bid: 2.405068, \tutility: -0.026004\n",
      "Epoch 1100: \tavg bid: 2.299691, \tutility: -0.058809\n",
      "Epoch 1150: \tavg bid: 2.206228, \tutility: -0.053336\n",
      "Epoch 1200: \tavg bid: 2.544778, \tutility: -0.105260\n",
      "Epoch 1250: \tavg bid: 2.403793, \tutility: -0.102769\n",
      "Epoch 1300: \tavg bid: 2.409054, \tutility: -0.124093\n",
      "Epoch 1350: \tavg bid: 2.166759, \tutility: -0.139649\n",
      "Epoch 1400: \tavg bid: 2.661119, \tutility: -0.156702\n",
      "Epoch 1450: \tavg bid: 2.670786, \tutility: -0.175348\n",
      "Epoch 1500: \tavg bid: 3.131665, \tutility: -0.172576\n",
      "Epoch 1550: \tavg bid: 2.199012, \tutility: -0.160542\n",
      "Epoch 1600: \tavg bid: 2.420755, \tutility: -0.158201\n",
      "Epoch 1650: \tavg bid: 3.140299, \tutility: -0.161174\n",
      "Epoch 1700: \tavg bid: 2.182647, \tutility: -0.136503\n",
      "Epoch 1750: \tavg bid: 2.217223, \tutility: -0.140548\n",
      "Epoch 1800: \tavg bid: 2.127244, \tutility: -0.137760\n",
      "Epoch 1850: \tavg bid: 2.315746, \tutility: -0.125285\n",
      "Epoch 1900: \tavg bid: 2.097502, \tutility: -0.106737\n",
      "Epoch 1950: \tavg bid: 12.494410, \tutility: -0.106838\n",
      "Epoch 2000: \tavg bid: 1.995711, \tutility: -0.093923\n",
      "Epoch 2050: \tavg bid: 2.002370, \tutility: -0.073479\n",
      "Epoch 2100: \tavg bid: 1.904713, \tutility: -0.064430\n",
      "Epoch 2150: \tavg bid: 2.131853, \tutility: -0.047217\n",
      "Epoch 2200: \tavg bid: 2.436900, \tutility: -0.046025\n",
      "Epoch 2250: \tavg bid: 2.839552, \tutility: -0.009023\n",
      "Epoch 2300: \tavg bid: 1.802463, \tutility: 0.019971\n",
      "Epoch 2350: \tavg bid: 2.100118, \tutility: 0.051884\n",
      "Epoch 2400: \tavg bid: 1.728625, \tutility: 0.086229\n",
      "Epoch 2450: \tavg bid: 1.654666, \tutility: 0.118229\n",
      "Epoch 2500: \tavg bid: 1.652194, \tutility: 0.138974\n",
      "Epoch 2550: \tavg bid: 1.735824, \tutility: 0.176978\n",
      "Epoch 2600: \tavg bid: 1.617759, \tutility: 0.211282\n",
      "Epoch 2650: \tavg bid: 1.563888, \tutility: 0.237437\n",
      "Epoch 2700: \tavg bid: 1.554652, \tutility: 0.296704\n",
      "Epoch 2750: \tavg bid: 1.436859, \tutility: 0.343752\n",
      "Epoch 2800: \tavg bid: 1.467009, \tutility: 0.374396\n",
      "Epoch 2850: \tavg bid: 1.372305, \tutility: 0.426479\n",
      "Epoch 2900: \tavg bid: 1.533328, \tutility: 0.438859\n",
      "Epoch 2950: \tavg bid: 1.415416, \tutility: 0.500684\n",
      "Epoch 3000: \tavg bid: 1.238785, \tutility: 0.523749\n",
      "Epoch 3050: \tavg bid: 1.265762, \tutility: 0.592757\n",
      "Epoch 3100: \tavg bid: 1.197407, \tutility: 0.611593\n",
      "Epoch 3150: \tavg bid: 1.222969, \tutility: 0.651121\n",
      "Epoch 3200: \tavg bid: 1.091398, \tutility: 0.695763\n",
      "Epoch 3250: \tavg bid: 1.074170, \tutility: 0.731474\n",
      "Epoch 3300: \tavg bid: 1.035834, \tutility: 0.799449\n",
      "Epoch 3350: \tavg bid: 1.014100, \tutility: 0.814841\n",
      "Epoch 3400: \tavg bid: 0.988130, \tutility: 0.884956\n",
      "Epoch 3450: \tavg bid: 0.974315, \tutility: 0.912494\n",
      "Epoch 3500: \tavg bid: 0.955817, \tutility: 0.925131\n",
      "Epoch 3550: \tavg bid: 0.939507, \tutility: 0.972252\n",
      "Epoch 3600: \tavg bid: 0.909648, \tutility: 1.010680\n",
      "Epoch 3650: \tavg bid: 0.901826, \tutility: 1.032926\n",
      "Epoch 3700: \tavg bid: 0.891823, \tutility: 1.046679\n",
      "Epoch 3750: \tavg bid: 0.878390, \tutility: 1.064001\n",
      "Epoch 3800: \tavg bid: 0.865559, \tutility: 1.110891\n",
      "Epoch 3850: \tavg bid: 0.850132, \tutility: 1.141779\n",
      "Epoch 3900: \tavg bid: 0.838241, \tutility: 1.157300\n",
      "Epoch 3950: \tavg bid: 0.825030, \tutility: 1.189937\n",
      "Epoch 4000: \tavg bid: 0.806306, \tutility: 1.248363\n",
      "Epoch 4050: \tavg bid: 0.793636, \tutility: 1.278919\n",
      "Epoch 4100: \tavg bid: 0.780610, \tutility: 1.333216\n",
      "Epoch 4150: \tavg bid: 0.768268, \tutility: 1.347769\n",
      "Epoch 4200: \tavg bid: 0.769189, \tutility: 1.339967\n",
      "Epoch 4250: \tavg bid: 0.746689, \tutility: 1.392883\n",
      "Epoch 4300: \tavg bid: 0.736612, \tutility: 1.431217\n",
      "Epoch 4350: \tavg bid: 0.717312, \tutility: 1.492831\n",
      "Epoch 4400: \tavg bid: 0.711056, \tutility: 1.513187\n",
      "Epoch 4450: \tavg bid: 0.708119, \tutility: 1.499401\n",
      "Epoch 4500: \tavg bid: 0.710300, \tutility: 1.496228\n",
      "Epoch 4550: \tavg bid: 0.699408, \tutility: 1.512684\n",
      "Epoch 4600: \tavg bid: 0.691558, \tutility: 1.538291\n",
      "Epoch 4650: \tavg bid: 0.681517, \tutility: 1.562628\n",
      "Epoch 4700: \tavg bid: 0.686137, \tutility: 1.550255\n",
      "Epoch 4750: \tavg bid: 0.686912, \tutility: 1.547016\n",
      "Epoch 4800: \tavg bid: 0.657694, \tutility: 1.628875\n",
      "Epoch 4850: \tavg bid: 0.649353, \tutility: 1.648158\n",
      "Epoch 4900: \tavg bid: 0.646710, \tutility: 1.653638\n",
      "Epoch 4950: \tavg bid: 0.655372, \tutility: 1.618321\n",
      "Epoch 5000: \tavg bid: 0.645030, \tutility: 1.636113\n",
      "Epoch 5050: \tavg bid: 0.638810, \tutility: 1.663185\n",
      "Epoch 5100: \tavg bid: 0.638439, \tutility: 1.626822\n",
      "Epoch 5150: \tavg bid: 0.644255, \tutility: 1.613027\n"
     ]
    }
   ],
   "source": [
    "torch.cuda.empty_cache()\n",
    "writer = SummaryWriter()\n",
    "log_hyperparams(writer)\n",
    "for e in range(epoch+1):\n",
    "    if e % plot_epoch == 0:\n",
    "        # plot current function output\n",
    "        bidder = strat_to_bidder(model, batch_size)\n",
    "        bidder.draw_valuations_()\n",
    "        v = bidder.valuations\n",
    "        b = bidder.get_action()\n",
    "        share = (b/v).mean()\n",
    "        utility = -optimizer.step()\n",
    "        writer.add_scalar('eval/utility', utility, e)\n",
    "        writer.add_scalar('eval/share', share, e)\n",
    "        \n",
    "        if e==0:\n",
    "            writer.add_graph(model, bidder.valuations)\n",
    "            \n",
    "        print(\"Epoch {}: \\tavg bid: {:2f}, \\tutility: {:2f}\".format(e, share, utility))\n",
    "                \n",
    "        \n",
    "        # subsample points and plot\n",
    "        v = v.detach().cpu().numpy()[:plot_points]\n",
    "        b= b.detach().cpu().numpy()[:plot_points]\n",
    "        optimal = optimal_bid(v)\n",
    "        \n",
    "        fig = plt.figure()\n",
    "        plt.plot(v,b, 'o', v, optimal, 'r-')\n",
    "        \n",
    "        writer.add_figure('eval/bid_function', fig, e)\n",
    "        \n",
    "        plt.show()\n",
    "    else:\n",
    "        utility = -optimizer.step()\n",
    "        writer.add_scalar('eval/utility', utility, e)    \n",
    "        \n",
    "torch.cuda.empty_cache()\n",
    "writer.close()"
   ]
  },
  {
   "cell_type": "code",
   "execution_count": null,
   "metadata": {},
   "outputs": [],
   "source": []
  }
 ],
 "metadata": {
  "kernelspec": {
   "display_name": "Python 3",
   "language": "python",
   "name": "python3"
  },
  "language_info": {
   "codemirror_mode": {
    "name": "ipython",
    "version": 3
   },
   "file_extension": ".py",
   "mimetype": "text/x-python",
   "name": "python",
   "nbconvert_exporter": "python",
   "pygments_lexer": "ipython3",
   "version": "3.7.0"
  }
 },
 "nbformat": 4,
 "nbformat_minor": 2
}
