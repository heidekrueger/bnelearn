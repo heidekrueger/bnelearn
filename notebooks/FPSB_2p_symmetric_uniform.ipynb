{
 "cells": [
  {
   "cell_type": "markdown",
   "metadata": {},
   "source": [
    "# 2 Player FPSB Auction with symmetric unfirorm valuation distributions"
   ]
  },
  {
   "cell_type": "markdown",
   "metadata": {},
   "source": [
    "## Imports"
   ]
  },
  {
   "cell_type": "code",
   "execution_count": 1,
   "metadata": {},
   "outputs": [],
   "source": [
    "import os\n",
    "import sys\n",
    "root_path = os.path.abspath(os.path.join('..'))\n",
    "if root_path not in sys.path:\n",
    "    sys.path.append(root_path)"
   ]
  },
  {
   "cell_type": "code",
   "execution_count": 2,
   "metadata": {},
   "outputs": [],
   "source": [
    "import torch\n",
    "import torch.nn as nn\n",
    "import torch.nn.utils as ut\n",
    "from torch.optim.optimizer import Optimizer, required"
   ]
  },
  {
   "cell_type": "code",
   "execution_count": 3,
   "metadata": {},
   "outputs": [],
   "source": [
    "from bnelearn.strategy import NeuralNetStrategy, TruthfulStrategy\n",
    "from bnelearn.bidder import Bidder\n",
    "from bnelearn.mechanism import FirstPriceSealedBidAuction, VickreyAuction\n",
    "from bnelearn.optimizer import ES\n",
    "from bnelearn.environment import AuctionEnvironment"
   ]
  },
  {
   "cell_type": "code",
   "execution_count": 4,
   "metadata": {},
   "outputs": [],
   "source": [
    "from tensorboardX import SummaryWriter\n",
    "import numpy as np\n",
    "import matplotlib.pyplot as plt"
   ]
  },
  {
   "cell_type": "code",
   "execution_count": 5,
   "metadata": {},
   "outputs": [
    {
     "data": {
      "text/plain": [
       "True"
      ]
     },
     "execution_count": 5,
     "metadata": {},
     "output_type": "execute_result"
    }
   ],
   "source": [
    "torch.cuda.is_available()"
   ]
  },
  {
   "cell_type": "markdown",
   "metadata": {},
   "source": [
    "## Settings"
   ]
  },
  {
   "cell_type": "code",
   "execution_count": 6,
   "metadata": {},
   "outputs": [],
   "source": [
    "run_dir = 'fpsb'\n",
    "run_name = 'test-experiment2'\n",
    "logdir = os.path.join(root_path, 'notebooks', run_dir , run_name)"
   ]
  },
  {
   "cell_type": "code",
   "execution_count": 7,
   "metadata": {},
   "outputs": [],
   "source": [
    "## Experiment setup\n",
    "n_players = 2\n",
    "n_items = 1\n",
    "# valuation distribution\n",
    "u_lo =0\n",
    "u_hi =10\n",
    "\n",
    "## Environment settings\n",
    "#training batch size\n",
    "batch_size = 2**5\n",
    "input_length = 1\n",
    "\n",
    "# model architecture\n",
    "size_hidden_layer = 20\n",
    "\n",
    "# optimization params\n",
    "epoch = 10000\n",
    "learning_rate = 2e-2\n",
    "lr_decay = True\n",
    "lr_decay_every = 2000\n",
    "lr_decay_factor = 0.8\n",
    "\n",
    "sigma = .1 #ES noise parameter\n",
    "n_perturbations = 32\n",
    "\n",
    "# plot and log training options\n",
    "plot_epoch = 50\n",
    "plot_points = min(150, batch_size)\n",
    "sample_points = torch.from_numpy(np.linspace(u_lo, u_hi, u_hi+1)).float().view(-1, n_items).cuda()\n",
    "\n",
    "# tensorboard writer settings"
   ]
  },
  {
   "cell_type": "markdown",
   "metadata": {},
   "source": [
    "## Setting up the Environment"
   ]
  },
  {
   "cell_type": "code",
   "execution_count": 8,
   "metadata": {},
   "outputs": [],
   "source": [
    "# for evaluation\n",
    "def optimal_bid(valuation):\n",
    "    return valuation / 2"
   ]
  },
  {
   "cell_type": "code",
   "execution_count": 9,
   "metadata": {},
   "outputs": [],
   "source": [
    "# Wrapper transforming a strategy to bidder, used by the optimizer\n",
    "def strat_to_bidder(strategy, batch_size):\n",
    "    return Bidder.uniform(u_lo,u_hi, strategy, batch_size = batch_size, n_players=2)"
   ]
  },
  {
   "cell_type": "code",
   "execution_count": 10,
   "metadata": {},
   "outputs": [],
   "source": [
    "model = NeuralNetStrategy(input_length, size_hidden_layer = size_hidden_layer, requires_grad=False).cuda()"
   ]
  },
  {
   "cell_type": "code",
   "execution_count": 11,
   "metadata": {},
   "outputs": [],
   "source": [
    "mechanism = FirstPriceSealedBidAuction(cuda = True)\n",
    "env = AuctionEnvironment(mechanism,\n",
    "                  agents = [], #dynamically built\n",
    "                  max_env_size = 1, #\n",
    "                  batch_size = batch_size,\n",
    "                  n_players =2,\n",
    "                  strategy_to_bidder_closure = strat_to_bidder\n",
    "                 )\n",
    "optimizer = ES(model=model, environment = env,\n",
    "               lr = learning_rate, sigma=sigma, n_perturbations=n_perturbations)"
   ]
  },
  {
   "cell_type": "code",
   "execution_count": 12,
   "metadata": {},
   "outputs": [],
   "source": [
    "def log_hyperparams(writer):\n",
    "    writer.add_scalar('hyperparams/batch_size', batch_size)\n",
    "    writer.add_scalar('hyperparams/size_hidden_layer', size_hidden_layer)\n",
    "    writer.add_scalar('hyperparams/learning_rate', learning_rate)\n",
    "    writer.add_scalar('hyperparams/sigma', sigma)\n",
    "    writer.add_scalar('hyperparams/n_perturbations', n_perturbations)\n",
    "    \n",
    "    "
   ]
  },
  {
   "cell_type": "markdown",
   "metadata": {},
   "source": [
    "## Training"
   ]
  },
  {
   "cell_type": "code",
   "execution_count": 13,
   "metadata": {},
   "outputs": [
    {
     "name": "stderr",
     "output_type": "stream",
     "text": [
      "C:\\Users\\stefan\\Anaconda3\\envs\\bnelearn\\lib\\site-packages\\torch\\nn\\functional.py:1320: UserWarning: nn.functional.tanh is deprecated. Use torch.tanh instead.\n",
      "  warnings.warn(\"nn.functional.tanh is deprecated. Use torch.tanh instead.\")\n"
     ]
    },
    {
     "name": "stdout",
     "output_type": "stream",
     "text": [
      "Epoch 0: \tavg bid: 0.058996, \tutility: 5.164916\n",
      "Epoch 50: \tavg bid: 1.015829, \tutility: 1.144553\n",
      "Epoch 100: \tavg bid: 1.260799, \tutility: 1.143706\n",
      "Epoch 150: \tavg bid: 1.333381, \tutility: 0.238102\n",
      "Epoch 200: \tavg bid: 1.530139, \tutility: 0.671148\n",
      "Epoch 250: \tavg bid: 1.067875, \tutility: 0.090646\n",
      "Epoch 300: \tavg bid: 1.148338, \tutility: 0.815727\n",
      "Epoch 350: \tavg bid: 1.355160, \tutility: 0.723101\n",
      "Epoch 400: \tavg bid: 1.217865, \tutility: 1.057261\n",
      "Epoch 450: \tavg bid: 1.473626, \tutility: 0.135799\n",
      "Epoch 500: \tavg bid: 1.181976, \tutility: 0.821988\n",
      "Epoch 550: \tavg bid: 1.259529, \tutility: 1.180389\n",
      "Epoch 600: \tavg bid: 1.109935, \tutility: 0.255002\n",
      "Epoch 650: \tavg bid: 1.320099, \tutility: 0.761274\n",
      "Epoch 700: \tavg bid: 1.083619, \tutility: 1.314429\n",
      "Epoch 750: \tavg bid: 1.115850, \tutility: 1.020384\n",
      "Epoch 800: \tavg bid: 1.006107, \tutility: 0.695619\n",
      "Epoch 850: \tavg bid: 1.044088, \tutility: 1.155876\n",
      "Epoch 900: \tavg bid: 0.982303, \tutility: 1.224215\n",
      "Epoch 950: \tavg bid: 0.907457, \tutility: 1.273471\n",
      "Epoch 1000: \tavg bid: 0.803249, \tutility: 1.710112\n",
      "Epoch 1050: \tavg bid: 0.970008, \tutility: 0.989680\n",
      "Epoch 1100: \tavg bid: 0.918884, \tutility: 0.626849\n",
      "Epoch 1150: \tavg bid: 0.813211, \tutility: 1.326684\n",
      "Epoch 1200: \tavg bid: 0.828966, \tutility: 0.969378\n",
      "Epoch 1250: \tavg bid: 0.843837, \tutility: 0.888056\n",
      "Epoch 1300: \tavg bid: 0.811978, \tutility: 1.370636\n",
      "Epoch 1350: \tavg bid: 0.824272, \tutility: 0.916459\n",
      "Epoch 1400: \tavg bid: 0.713855, \tutility: 1.532320\n",
      "Epoch 1450: \tavg bid: 0.705003, \tutility: 1.645593\n",
      "Epoch 1500: \tavg bid: 0.736313, \tutility: 1.307457\n",
      "Epoch 1550: \tavg bid: 0.791760, \tutility: 1.886298\n",
      "Epoch 1600: \tavg bid: 0.814593, \tutility: 1.401841\n",
      "Epoch 1650: \tavg bid: 0.708320, \tutility: 1.293234\n",
      "Epoch 1700: \tavg bid: 0.645160, \tutility: 1.660366\n",
      "Epoch 1750: \tavg bid: 0.724883, \tutility: 1.788605\n",
      "Epoch 1800: \tavg bid: 0.719069, \tutility: 2.175558\n",
      "Epoch 1850: \tavg bid: 0.706226, \tutility: 1.871793\n",
      "Epoch 1900: \tavg bid: 0.706189, \tutility: 1.874887\n",
      "Epoch 1950: \tavg bid: 0.658866, \tutility: 1.427374\n",
      "Epoch 2000: \tavg bid: 0.733671, \tutility: 1.601358\n",
      "Epoch 2050: \tavg bid: 0.760611, \tutility: 1.652642\n",
      "Epoch 2100: \tavg bid: 0.768229, \tutility: 1.390620\n",
      "Epoch 2150: \tavg bid: 0.640110, \tutility: 1.558394\n",
      "Epoch 2200: \tavg bid: 0.693313, \tutility: 1.728587\n",
      "Epoch 2250: \tavg bid: 0.716858, \tutility: 1.569597\n",
      "Epoch 2300: \tavg bid: 0.629424, \tutility: 1.434942\n",
      "Epoch 2350: \tavg bid: 0.610446, \tutility: 1.427748\n",
      "Epoch 2400: \tavg bid: 0.687308, \tutility: 1.204892\n",
      "Epoch 2450: \tavg bid: 0.615497, \tutility: 0.953844\n",
      "Epoch 2500: \tavg bid: 0.663963, \tutility: 1.631690\n",
      "Epoch 2550: \tavg bid: 0.580747, \tutility: 1.945260\n",
      "Epoch 2600: \tavg bid: 0.616790, \tutility: 2.114529\n",
      "Epoch 2650: \tavg bid: 0.499503, \tutility: 1.815301\n",
      "Epoch 2700: \tavg bid: 0.547423, \tutility: 1.956428\n",
      "Epoch 2750: \tavg bid: 0.555118, \tutility: 1.781671\n",
      "Epoch 2800: \tavg bid: 0.577843, \tutility: 2.092159\n",
      "Epoch 2850: \tavg bid: 0.465291, \tutility: 1.954514\n",
      "Epoch 2900: \tavg bid: 0.638598, \tutility: 1.248217\n",
      "Epoch 2950: \tavg bid: 0.564479, \tutility: 1.566596\n",
      "Epoch 3000: \tavg bid: 0.624766, \tutility: 1.292675\n",
      "Epoch 3050: \tavg bid: 0.636397, \tutility: 1.622430\n",
      "Epoch 3100: \tavg bid: 0.671698, \tutility: 1.442108\n",
      "Epoch 3150: \tavg bid: 0.569283, \tutility: 1.931871\n",
      "Epoch 3200: \tavg bid: 0.569595, \tutility: 1.839597\n",
      "Epoch 3250: \tavg bid: 0.615401, \tutility: 1.616353\n",
      "Epoch 3300: \tavg bid: 0.643711, \tutility: 1.489246\n",
      "Epoch 3350: \tavg bid: 0.577927, \tutility: 2.120463\n",
      "Epoch 3400: \tavg bid: 0.550384, \tutility: 1.784492\n",
      "Epoch 3450: \tavg bid: 0.600467, \tutility: 1.857578\n",
      "Epoch 3500: \tavg bid: 0.452284, \tutility: 1.382502\n",
      "Epoch 3550: \tavg bid: 0.604907, \tutility: 1.594064\n",
      "Epoch 3600: \tavg bid: 0.571436, \tutility: 1.941969\n",
      "Epoch 3650: \tavg bid: 0.486391, \tutility: 2.204057\n",
      "Epoch 3700: \tavg bid: 0.499553, \tutility: 1.859378\n",
      "Epoch 3750: \tavg bid: 0.536892, \tutility: 1.814689\n",
      "Epoch 3800: \tavg bid: 0.487170, \tutility: 2.215684\n",
      "Epoch 3850: \tavg bid: 0.369630, \tutility: 2.581823\n",
      "Epoch 3900: \tavg bid: 0.380564, \tutility: 2.117611\n",
      "Epoch 3950: \tavg bid: 0.375374, \tutility: 2.649343\n",
      "Epoch 4000: \tavg bid: 0.325986, \tutility: 2.693501\n",
      "Epoch 4050: \tavg bid: 0.423067, \tutility: 2.714744\n",
      "Epoch 4100: \tavg bid: 0.386007, \tutility: 2.285025\n",
      "Epoch 4150: \tavg bid: 0.528418, \tutility: 1.908949\n",
      "Epoch 4200: \tavg bid: 0.458136, \tutility: 2.142485\n",
      "Epoch 4250: \tavg bid: 0.561378, \tutility: 2.000020\n",
      "Epoch 4300: \tavg bid: 0.490885, \tutility: 1.728539\n",
      "Epoch 4350: \tavg bid: 0.580222, \tutility: 1.715526\n",
      "Epoch 4400: \tavg bid: 0.448175, \tutility: 1.997513\n",
      "Epoch 4450: \tavg bid: 0.465882, \tutility: 1.944507\n",
      "Epoch 4500: \tavg bid: 0.554801, \tutility: 2.272158\n",
      "Epoch 4550: \tavg bid: 0.566207, \tutility: 1.578531\n",
      "Epoch 4600: \tavg bid: 0.516578, \tutility: 1.425380\n",
      "Epoch 4650: \tavg bid: 0.589766, \tutility: 1.526705\n",
      "Epoch 4700: \tavg bid: 0.601580, \tutility: 1.549623\n",
      "Epoch 4750: \tavg bid: 0.514107, \tutility: 1.935585\n",
      "Epoch 4800: \tavg bid: 0.492473, \tutility: 1.720714\n",
      "Epoch 4850: \tavg bid: 0.520854, \tutility: 2.440552\n",
      "Epoch 4900: \tavg bid: 0.535489, \tutility: 1.871043\n",
      "Epoch 4950: \tavg bid: 0.582593, \tutility: 1.547482\n",
      "Epoch 5000: \tavg bid: 0.544107, \tutility: 1.591070\n",
      "Epoch 5050: \tavg bid: 0.608597, \tutility: 1.283404\n",
      "Epoch 5100: \tavg bid: 0.544710, \tutility: 1.525079\n",
      "Epoch 5150: \tavg bid: 0.487820, \tutility: 1.807240\n",
      "Epoch 5200: \tavg bid: 0.535900, \tutility: 1.825465\n",
      "Epoch 5250: \tavg bid: 0.606691, \tutility: 1.606002\n",
      "Epoch 5300: \tavg bid: 0.533794, \tutility: 1.620253\n",
      "Epoch 5350: \tavg bid: 0.517159, \tutility: 2.272782\n",
      "Epoch 5400: \tavg bid: 0.502290, \tutility: 2.241272\n",
      "Epoch 5450: \tavg bid: 0.421216, \tutility: 2.269599\n",
      "Epoch 5500: \tavg bid: 0.473954, \tutility: 1.588840\n",
      "Epoch 5550: \tavg bid: 0.593901, \tutility: 1.722856\n",
      "Epoch 5600: \tavg bid: 0.464624, \tutility: 2.070583\n",
      "Epoch 5650: \tavg bid: 0.381475, \tutility: 2.252823\n",
      "Epoch 5700: \tavg bid: 0.451329, \tutility: 2.075665\n",
      "Epoch 5750: \tavg bid: 0.436629, \tutility: 1.803689\n",
      "Epoch 5800: \tavg bid: 0.463647, \tutility: 2.136896\n",
      "Epoch 5850: \tavg bid: 0.388713, \tutility: 1.642526\n",
      "Epoch 5900: \tavg bid: 0.549027, \tutility: 1.748506\n",
      "Epoch 5950: \tavg bid: 0.582519, \tutility: 1.534926\n",
      "Epoch 6000: \tavg bid: 0.475638, \tutility: 1.960059\n",
      "Epoch 6050: \tavg bid: 0.518700, \tutility: 2.317173\n",
      "Epoch 6100: \tavg bid: 0.477212, \tutility: 1.716205\n",
      "Epoch 6150: \tavg bid: 0.495489, \tutility: 2.336633\n",
      "Epoch 6200: \tavg bid: 0.352751, \tutility: 1.643704\n",
      "Epoch 6250: \tavg bid: 0.514512, \tutility: 1.770940\n",
      "Epoch 6300: \tavg bid: 0.523158, \tutility: 1.639687\n",
      "Epoch 6350: \tavg bid: 0.487378, \tutility: 2.144926\n",
      "Epoch 6400: \tavg bid: 0.555113, \tutility: 1.767512\n",
      "Epoch 6450: \tavg bid: 0.472241, \tutility: 1.693354\n",
      "Epoch 6500: \tavg bid: 0.483545, \tutility: 2.208234\n",
      "Epoch 6550: \tavg bid: 0.472610, \tutility: 2.070393\n",
      "Epoch 6600: \tavg bid: 0.454393, \tutility: 2.225919\n",
      "Epoch 6650: \tavg bid: 0.489357, \tutility: 1.809740\n",
      "Epoch 6700: \tavg bid: 0.515840, \tutility: 2.228096\n",
      "Epoch 6750: \tavg bid: 0.454870, \tutility: 2.018473\n",
      "Epoch 6800: \tavg bid: 0.393272, \tutility: 1.938152\n",
      "Epoch 6850: \tavg bid: 0.356389, \tutility: 2.451920\n",
      "Epoch 6900: \tavg bid: 0.397141, \tutility: 1.689294\n",
      "Epoch 6950: \tavg bid: 0.486553, \tutility: 2.262586\n",
      "Epoch 7000: \tavg bid: 0.536458, \tutility: 2.159628\n",
      "Epoch 7050: \tavg bid: 0.499772, \tutility: 1.859541\n",
      "Epoch 7100: \tavg bid: 0.602280, \tutility: 2.175183\n",
      "Epoch 7150: \tavg bid: 0.515459, \tutility: 1.899351\n",
      "Epoch 7200: \tavg bid: 0.511504, \tutility: 2.086587\n",
      "Epoch 7250: \tavg bid: 0.501477, \tutility: 2.287223\n",
      "Epoch 7300: \tavg bid: 0.512679, \tutility: 1.827682\n",
      "Epoch 7350: \tavg bid: 0.540473, \tutility: 1.895351\n",
      "Epoch 7400: \tavg bid: 0.540360, \tutility: 2.092397\n",
      "Epoch 7450: \tavg bid: 0.582771, \tutility: 1.674824\n",
      "Epoch 7500: \tavg bid: 0.598067, \tutility: 1.723533\n",
      "Epoch 7550: \tavg bid: 0.466128, \tutility: 1.660401\n",
      "Epoch 7600: \tavg bid: 0.502842, \tutility: 1.795941\n",
      "Epoch 7650: \tavg bid: 0.523147, \tutility: 1.891216\n",
      "Epoch 7700: \tavg bid: 0.501182, \tutility: 1.647908\n",
      "Epoch 7750: \tavg bid: 0.529867, \tutility: 1.812677\n",
      "Epoch 7800: \tavg bid: 0.551457, \tutility: 1.672396\n",
      "Epoch 7850: \tavg bid: 0.575997, \tutility: 2.038861\n",
      "Epoch 7900: \tavg bid: 0.513393, \tutility: 1.832335\n",
      "Epoch 7950: \tavg bid: 0.483175, \tutility: 1.705694\n",
      "Epoch 8000: \tavg bid: 0.473211, \tutility: 2.014966\n",
      "Epoch 8050: \tavg bid: 0.473075, \tutility: 2.172624\n",
      "Epoch 8100: \tavg bid: 0.507027, \tutility: 1.958830\n",
      "Epoch 8150: \tavg bid: 0.452181, \tutility: 2.176783\n",
      "Epoch 8200: \tavg bid: 0.456196, \tutility: 2.321350\n",
      "Epoch 8250: \tavg bid: 0.509667, \tutility: 2.221320\n",
      "Epoch 8300: \tavg bid: 0.481530, \tutility: 2.496918\n",
      "Epoch 8350: \tavg bid: 0.467269, \tutility: 1.658180\n",
      "Epoch 8400: \tavg bid: 0.560475, \tutility: 1.738441\n",
      "Epoch 8450: \tavg bid: 0.518062, \tutility: 1.983307\n",
      "Epoch 8500: \tavg bid: 0.433863, \tutility: 1.904264\n",
      "Epoch 8550: \tavg bid: 0.436766, \tutility: 1.369303\n",
      "Epoch 8600: \tavg bid: 0.579560, \tutility: 1.745241\n",
      "Epoch 8650: \tavg bid: 0.516015, \tutility: 1.682841\n",
      "Epoch 8700: \tavg bid: 0.447366, \tutility: 2.017700\n",
      "Epoch 8750: \tavg bid: 0.417924, \tutility: 2.397666\n",
      "Epoch 8800: \tavg bid: 0.329830, \tutility: 1.858044\n",
      "Epoch 8850: \tavg bid: 0.397492, \tutility: 2.288620\n",
      "Epoch 8900: \tavg bid: 0.390741, \tutility: 2.351312\n",
      "Epoch 8950: \tavg bid: 0.381846, \tutility: 2.544483\n",
      "Epoch 9000: \tavg bid: 0.478845, \tutility: 2.200996\n",
      "Epoch 9050: \tavg bid: 0.482928, \tutility: 1.948003\n",
      "Epoch 9100: \tavg bid: 0.465548, \tutility: 2.075721\n",
      "Epoch 9150: \tavg bid: 0.481964, \tutility: 2.179417\n",
      "Epoch 9200: \tavg bid: 0.373975, \tutility: 1.891734\n",
      "Epoch 9250: \tavg bid: 0.520471, \tutility: 1.546285\n",
      "Epoch 9300: \tavg bid: 0.461589, \tutility: 2.340811\n",
      "Epoch 9350: \tavg bid: 0.390524, \tutility: 2.388466\n",
      "Epoch 9400: \tavg bid: 0.573883, \tutility: 1.981784\n",
      "Epoch 9450: \tavg bid: 0.558393, \tutility: 2.080640\n",
      "Epoch 9500: \tavg bid: 0.492804, \tutility: 1.829321\n",
      "Epoch 9550: \tavg bid: 0.522493, \tutility: 1.875214\n",
      "Epoch 9600: \tavg bid: 0.549751, \tutility: 2.059690\n",
      "Epoch 9650: \tavg bid: 0.534453, \tutility: 1.972598\n",
      "Epoch 9700: \tavg bid: 0.471009, \tutility: 2.303116\n",
      "Epoch 9750: \tavg bid: 0.500382, \tutility: 2.112844\n",
      "Epoch 9800: \tavg bid: 0.509224, \tutility: 1.827585\n",
      "Epoch 9850: \tavg bid: 0.604875, \tutility: 2.007176\n",
      "Epoch 9900: \tavg bid: 0.510084, \tutility: 2.071877\n",
      "Epoch 9950: \tavg bid: 0.558582, \tutility: 1.450885\n",
      "Epoch 10000: \tavg bid: 0.520984, \tutility: 1.975717\n"
     ]
    }
   ],
   "source": [
    "torch.cuda.empty_cache()\n",
    "writer = SummaryWriter(logdir)\n",
    "log_hyperparams(writer)\n",
    "\n",
    "for e in range(epoch+1):    \n",
    "    \n",
    "    # lr decay?\n",
    "    if lr_decay and e % lr_decay_every == 0 and e > 0:\n",
    "        learning_rate = learning_rate * lr_decay_factor\n",
    "        for param_group in optimizer.param_groups:\n",
    "            param_group['lr'] = learning_rate\n",
    "        writer.add_scalar('hyperparams/learning_rate', learning_rate, e)\n",
    "        \n",
    "    # always: do optimizer step\n",
    "    utility = -optimizer.step()\n",
    "    writer.add_scalar('eval/utility', utility, e) \n",
    "    \n",
    "    # plot + eval\n",
    "    if e % plot_epoch == 0:\n",
    "        # plot current function output\n",
    "        bidder = strat_to_bidder(model, batch_size)\n",
    "        bidder.draw_valuations_()\n",
    "        v = bidder.valuations\n",
    "        b = bidder.get_action()\n",
    "        share = (b/v).mean()\n",
    "        writer.add_scalar('eval/utility', utility, e)\n",
    "        writer.add_scalar('eval/share', share, e)       \n",
    "            \n",
    "        print(\"Epoch {}: \\tavg bid: {:2f}, \\tutility: {:2f}\".format(e, share, utility))                \n",
    "        \n",
    "        # subsample points and plot\n",
    "        v = v.detach().cpu().numpy()[:plot_points]\n",
    "        b= b.detach().cpu().numpy()[:plot_points]\n",
    "        optimal = optimal_bid(v)        \n",
    "        fig = plt.figure()\n",
    "        plt.plot(v,b, 'o', v, optimal, 'r-')        \n",
    "        writer.add_figure('eval/bid_function', fig, e)        \n",
    "        plt.show()\n",
    "        \n",
    "        # first step: write model\n",
    "        if e==0:\n",
    "            writer.add_graph(model, bidder.valuations)        \n",
    "    \n",
    "   \n",
    "        \n",
    "torch.cuda.empty_cache()\n",
    "writer.close()"
   ]
  }
 ],
 "metadata": {
  "kernelspec": {
   "display_name": "Python 3",
   "language": "python",
   "name": "python3"
  },
  "language_info": {
   "codemirror_mode": {
    "name": "ipython",
    "version": 3
   },
   "file_extension": ".py",
   "mimetype": "text/x-python",
   "name": "python",
   "nbconvert_exporter": "python",
   "pygments_lexer": "ipython3",
   "version": "3.7.3"
  }
 },
 "nbformat": 4,
 "nbformat_minor": 2
}
