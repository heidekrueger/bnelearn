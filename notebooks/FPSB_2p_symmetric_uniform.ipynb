{
 "cells": [
  {
   "cell_type": "markdown",
   "metadata": {},
   "source": [
    "# 2 Player FPSB Auction with symmetric unfirorm valuation distributions"
   ]
  },
  {
   "cell_type": "markdown",
   "metadata": {},
   "source": [
    "## Imports"
   ]
  },
  {
   "cell_type": "code",
   "execution_count": null,
   "metadata": {},
   "outputs": [],
   "source": [
    "import os\n",
    "import sys\n",
    "root_path = os.path.abspath(os.path.join('..'))\n",
    "if root_path not in sys.path:\n",
    "    sys.path.append(root_path)"
   ]
  },
  {
   "cell_type": "code",
   "execution_count": 2,
   "metadata": {},
   "outputs": [],
   "source": [
    "import torch\n",
    "import torch.nn as nn\n",
    "import torch.nn.utils as ut\n",
    "from torch.optim.optimizer import Optimizer, required"
   ]
  },
  {
   "cell_type": "code",
   "execution_count": 3,
   "metadata": {},
   "outputs": [],
   "source": [
    "from bnelearn.strategy import NeuralNetStrategy, TruthfulStrategy\n",
    "from bnelearn.bidder import Bidder\n",
    "from bnelearn.mechanism import FirstPriceSealedBidAuction, VickreyAuction\n",
    "from bnelearn.optimizer import ES\n",
    "from bnelearn.environment import Environment"
   ]
  },
  {
   "cell_type": "code",
   "execution_count": 4,
   "metadata": {},
   "outputs": [],
   "source": [
    "from tensorboardX import SummaryWriter\n",
    "import numpy as np\n",
    "import matplotlib.pyplot as plt"
   ]
  },
  {
   "cell_type": "code",
   "execution_count": 5,
   "metadata": {},
   "outputs": [
    {
     "data": {
      "text/plain": [
       "True"
      ]
     },
     "execution_count": 5,
     "metadata": {},
     "output_type": "execute_result"
    }
   ],
   "source": [
    "torch.cuda.is_available()"
   ]
  },
  {
   "cell_type": "markdown",
   "metadata": {},
   "source": [
    "## Settings"
   ]
  },
  {
   "cell_type": "code",
   "execution_count": 6,
   "metadata": {},
   "outputs": [],
   "source": [
    "## Experiment setup\n",
    "n_players = 2\n",
    "n_items = 1\n",
    "# valuation distribution\n",
    "u_lo =0\n",
    "u_hi =10\n",
    "\n",
    "## Environment settings\n",
    "#training batch size\n",
    "batch_size = 2**10\n",
    "input_length = 1\n",
    "\n",
    "# model architecture\n",
    "size_hidden_layer = 10\n",
    "\n",
    "# optimization params\n",
    "epoch = 20000\n",
    "learning_rate = 2e-2\n",
    "lr_decay = True\n",
    "lr_decay_every = 2000\n",
    "lr_decay_factor = 0.75\n",
    "\n",
    "sigma = .1 #ES noise parameter\n",
    "n_perturbations = 64\n",
    "\n",
    "# plot and log training options\n",
    "plot_epoch = 50\n",
    "plot_points = min(150, batch_size)\n",
    "sample_points = torch.from_numpy(np.linspace(u_lo, u_hi, u_hi+1)).float().view(-1, n_items).cuda()\n",
    "\n",
    "# tensorboard writer settings"
   ]
  },
  {
   "cell_type": "markdown",
   "metadata": {},
   "source": [
    "## Setting up the Environment"
   ]
  },
  {
   "cell_type": "code",
   "execution_count": 7,
   "metadata": {},
   "outputs": [],
   "source": [
    "# for evaluation\n",
    "def optimal_bid(valuation):\n",
    "    return valuation / 2"
   ]
  },
  {
   "cell_type": "code",
   "execution_count": 8,
   "metadata": {},
   "outputs": [],
   "source": [
    "# Wrapper transforming a strategy to bidder, used by the optimizer\n",
    "def strat_to_bidder(strategy, batch_size):\n",
    "    return Bidder.uniform(u_lo,u_hi, strategy, batch_size = batch_size, n_players=2)"
   ]
  },
  {
   "cell_type": "code",
   "execution_count": 9,
   "metadata": {},
   "outputs": [],
   "source": [
    "model = NeuralNetStrategy(input_length, size_hidden_layer = size_hidden_layer, requires_grad=False).cuda()"
   ]
  },
  {
   "cell_type": "code",
   "execution_count": 10,
   "metadata": {},
   "outputs": [],
   "source": [
    "mechanism = FirstPriceSealedBidAuction(cuda = True)\n",
    "env = Environment(mechanism,\n",
    "                  environment_agents = [], #dynamically built\n",
    "                  max_env_size = 1, #\n",
    "                  batch_size = batch_size,\n",
    "                  n_players =2,\n",
    "                  strategy_to_bidder_closure = strat_to_bidder\n",
    "                 )\n",
    "optimizer = ES(model=model, environment = env,\n",
    "               lr = learning_rate, sigma=sigma, n_perturbations=n_perturbations)"
   ]
  },
  {
   "cell_type": "code",
   "execution_count": 11,
   "metadata": {},
   "outputs": [],
   "source": [
    "def log_hyperparams(writer):\n",
    "    writer.add_scalar('hyperparams/batch_size', batch_size)\n",
    "    writer.add_scalar('hyperparams/size_hidden_layer', size_hidden_layer)\n",
    "    writer.add_scalar('hyperparams/learning_rate', learning_rate)\n",
    "    writer.add_scalar('hyperparams/sigma', sigma)\n",
    "    writer.add_scalar('hyperparams/n_perturbations', n_perturbations)\n",
    "    \n",
    "    "
   ]
  },
  {
   "cell_type": "markdown",
   "metadata": {},
   "source": [
    "## Training"
   ]
  },
  {
   "cell_type": "code",
   "execution_count": null,
   "metadata": {},
   "outputs": [
    {
     "name": "stderr",
     "output_type": "stream",
     "text": [
      "C:\\Users\\stefan\\Anaconda3\\envs\\bnelearn\\lib\\site-packages\\torch\\nn\\functional.py:995: UserWarning: nn.functional.tanh is deprecated. Use torch.tanh instead.\n",
      "  warnings.warn(\"nn.functional.tanh is deprecated. Use torch.tanh instead.\")\n"
     ]
    },
    {
     "name": "stdout",
     "output_type": "stream",
     "text": [
      "Epoch 0: \tavg bid: 0.333420, \tutility: 4.193485\n",
      "Epoch 50: \tavg bid: 1.180060, \tutility: 1.916827\n",
      "Epoch 100: \tavg bid: 1.465558, \tutility: 0.951772\n",
      "Epoch 150: \tavg bid: 1.899915, \tutility: 0.551881\n",
      "Epoch 200: \tavg bid: 1.459402, \tutility: 0.221743\n",
      "Epoch 250: \tavg bid: 1.911456, \tutility: 0.111375\n",
      "Epoch 300: \tavg bid: 2.349579, \tutility: 0.124698\n",
      "Epoch 350: \tavg bid: 1.921931, \tutility: 0.113362\n",
      "Epoch 400: \tavg bid: 2.278556, \tutility: 0.022061\n",
      "Epoch 450: \tavg bid: 1.738564, \tutility: 0.077999\n",
      "Epoch 500: \tavg bid: 1.616777, \tutility: 0.229298\n",
      "Epoch 550: \tavg bid: 1.608020, \tutility: 0.256441\n",
      "Epoch 600: \tavg bid: 1.482962, \tutility: 0.149170\n",
      "Epoch 650: \tavg bid: 1.561659, \tutility: 0.175611\n",
      "Epoch 700: \tavg bid: 1.778017, \tutility: 0.313526\n",
      "Epoch 750: \tavg bid: 1.443308, \tutility: 0.337184\n",
      "Epoch 800: \tavg bid: 1.305993, \tutility: 0.313497\n",
      "Epoch 850: \tavg bid: 1.303891, \tutility: 0.315209\n",
      "Epoch 900: \tavg bid: 1.275763, \tutility: 0.461457\n",
      "Epoch 950: \tavg bid: 1.224778, \tutility: 0.653687\n",
      "Epoch 1000: \tavg bid: 1.179244, \tutility: 0.601364\n",
      "Epoch 1050: \tavg bid: 1.452341, \tutility: 0.669271\n",
      "Epoch 1100: \tavg bid: 1.193793, \tutility: 0.806708\n",
      "Epoch 1150: \tavg bid: 1.172098, \tutility: 0.791696\n",
      "Epoch 1200: \tavg bid: 1.122626, \tutility: 0.844569\n",
      "Epoch 1250: \tavg bid: 1.094538, \tutility: 0.993578\n",
      "Epoch 1300: \tavg bid: 1.332698, \tutility: 0.853493\n",
      "Epoch 1350: \tavg bid: 0.958419, \tutility: 1.034372\n",
      "Epoch 1400: \tavg bid: 0.940250, \tutility: 1.153297\n",
      "Epoch 1450: \tavg bid: 0.912369, \tutility: 1.140340\n",
      "Epoch 1500: \tavg bid: 0.906941, \tutility: 1.065618\n",
      "Epoch 1550: \tavg bid: 0.887102, \tutility: 1.092769\n",
      "Epoch 1600: \tavg bid: 0.873271, \tutility: 1.183651\n",
      "Epoch 1650: \tavg bid: 0.860705, \tutility: 1.225753\n",
      "Epoch 1700: \tavg bid: 0.843271, \tutility: 1.164069\n",
      "Epoch 1750: \tavg bid: 0.805144, \tutility: 1.289485\n",
      "Epoch 1800: \tavg bid: 0.768042, \tutility: 1.343686\n",
      "Epoch 1850: \tavg bid: 0.752638, \tutility: 1.430966\n",
      "Epoch 1900: \tavg bid: 0.735572, \tutility: 1.477023\n",
      "Epoch 1950: \tavg bid: 0.754973, \tutility: 1.445290\n",
      "Epoch 2000: \tavg bid: 0.757599, \tutility: 1.453070\n",
      "Epoch 2050: \tavg bid: 0.743386, \tutility: 1.477475\n",
      "Epoch 2100: \tavg bid: 0.758213, \tutility: 1.284446\n",
      "Epoch 2150: \tavg bid: 0.744284, \tutility: 1.445294\n",
      "Epoch 2200: \tavg bid: 0.748835, \tutility: 1.500749\n",
      "Epoch 2250: \tavg bid: 0.762353, \tutility: 1.352497\n",
      "Epoch 2300: \tavg bid: 0.748208, \tutility: 1.313524\n",
      "Epoch 2350: \tavg bid: 0.738949, \tutility: 1.393164\n",
      "Epoch 2400: \tavg bid: 0.732669, \tutility: 1.475679\n",
      "Epoch 2450: \tavg bid: 0.730098, \tutility: 1.590305\n",
      "Epoch 2500: \tavg bid: 0.728366, \tutility: 1.453459\n",
      "Epoch 2550: \tavg bid: 0.733722, \tutility: 1.355936\n",
      "Epoch 2600: \tavg bid: 0.699609, \tutility: 1.479883\n",
      "Epoch 2650: \tavg bid: 0.671218, \tutility: 1.481095\n",
      "Epoch 2700: \tavg bid: 0.658354, \tutility: 1.662636\n",
      "Epoch 2750: \tavg bid: 0.638780, \tutility: 1.663423\n",
      "Epoch 2800: \tavg bid: 0.621718, \tutility: 1.724414\n",
      "Epoch 2850: \tavg bid: 0.635636, \tutility: 1.670770\n",
      "Epoch 2900: \tavg bid: 0.609495, \tutility: 1.678411\n",
      "Epoch 2950: \tavg bid: 0.604504, \tutility: 1.830207\n",
      "Epoch 3000: \tavg bid: 0.608583, \tutility: 1.776868\n",
      "Epoch 3050: \tavg bid: 0.570440, \tutility: 1.872451\n",
      "Epoch 3100: \tavg bid: 0.562550, \tutility: 1.907305\n",
      "Epoch 3150: \tavg bid: 0.568104, \tutility: 1.887458\n",
      "Epoch 3200: \tavg bid: 0.572285, \tutility: 1.802192\n",
      "Epoch 3250: \tavg bid: 0.561122, \tutility: 1.945172\n",
      "Epoch 3300: \tavg bid: 0.532988, \tutility: 1.956739\n",
      "Epoch 3350: \tavg bid: 0.518550, \tutility: 1.967094\n",
      "Epoch 3400: \tavg bid: 0.519228, \tutility: 2.059509\n",
      "Epoch 3450: \tavg bid: 0.545058, \tutility: 1.870532\n",
      "Epoch 3500: \tavg bid: 0.453811, \tutility: 2.167743\n",
      "Epoch 3550: \tavg bid: 0.469564, \tutility: 2.124172\n",
      "Epoch 3600: \tavg bid: 0.491467, \tutility: 2.035844\n",
      "Epoch 3650: \tavg bid: 0.504448, \tutility: 1.958758\n",
      "Epoch 3700: \tavg bid: 0.497238, \tutility: 2.105222\n",
      "Epoch 3750: \tavg bid: 0.497786, \tutility: 2.007016\n",
      "Epoch 3800: \tavg bid: 0.508933, \tutility: 1.961491\n",
      "Epoch 3850: \tavg bid: 0.476803, \tutility: 2.012691\n",
      "Epoch 3900: \tavg bid: 0.430728, \tutility: 2.236217\n",
      "Epoch 3950: \tavg bid: 0.423366, \tutility: 2.255746\n",
      "Epoch 4000: \tavg bid: 0.429932, \tutility: 2.265216\n",
      "Epoch 4050: \tavg bid: 0.433632, \tutility: 2.275645\n",
      "Epoch 4100: \tavg bid: 0.473502, \tutility: 2.046303\n",
      "Epoch 4150: \tavg bid: 0.431932, \tutility: 2.248929\n",
      "Epoch 4200: \tavg bid: 0.456118, \tutility: 2.131985\n",
      "Epoch 4250: \tavg bid: 0.471644, \tutility: 2.050705\n",
      "Epoch 4300: \tavg bid: 0.454475, \tutility: 2.115895\n",
      "Epoch 4350: \tavg bid: 0.472912, \tutility: 2.146715\n",
      "Epoch 4400: \tavg bid: 0.493092, \tutility: 1.831179\n",
      "Epoch 4450: \tavg bid: 0.491010, \tutility: 1.983205\n",
      "Epoch 4500: \tavg bid: 0.503271, \tutility: 2.041474\n",
      "Epoch 4550: \tavg bid: 0.462021, \tutility: 2.051144\n",
      "Epoch 4600: \tavg bid: 0.473596, \tutility: 2.064034\n",
      "Epoch 4650: \tavg bid: 0.473588, \tutility: 2.077030\n",
      "Epoch 4700: \tavg bid: 0.481428, \tutility: 2.130268\n",
      "Epoch 4750: \tavg bid: 0.479552, \tutility: 2.170255\n",
      "Epoch 4800: \tavg bid: 0.506418, \tutility: 2.019894\n",
      "Epoch 4850: \tavg bid: 0.547377, \tutility: 1.783001\n",
      "Epoch 4900: \tavg bid: 0.549471, \tutility: 1.712668\n",
      "Epoch 4950: \tavg bid: 0.558967, \tutility: 1.799980\n",
      "Epoch 5000: \tavg bid: 0.571465, \tutility: 1.730189\n",
      "Epoch 5050: \tavg bid: 0.550086, \tutility: 1.850199\n",
      "Epoch 5100: \tavg bid: 0.540965, \tutility: 1.817245\n",
      "Epoch 5150: \tavg bid: 0.504574, \tutility: 1.962592\n",
      "Epoch 5200: \tavg bid: 0.482710, \tutility: 2.031388\n",
      "Epoch 5250: \tavg bid: 0.468423, \tutility: 2.091746\n",
      "Epoch 5300: \tavg bid: 0.406139, \tutility: 2.394975\n",
      "Epoch 5350: \tavg bid: 0.448124, \tutility: 2.125217\n",
      "Epoch 5400: \tavg bid: 0.444070, \tutility: 2.214531\n",
      "Epoch 5450: \tavg bid: 0.462955, \tutility: 2.148936\n",
      "Epoch 5500: \tavg bid: 0.472869, \tutility: 2.058852\n",
      "Epoch 5550: \tavg bid: 0.458806, \tutility: 2.111475\n",
      "Epoch 5600: \tavg bid: 0.465542, \tutility: 2.133112\n",
      "Epoch 5650: \tavg bid: 0.477362, \tutility: 2.146250\n",
      "Epoch 5700: \tavg bid: 0.478222, \tutility: 2.092986\n",
      "Epoch 5750: \tavg bid: 0.455572, \tutility: 2.097894\n",
      "Epoch 5800: \tavg bid: 0.433361, \tutility: 2.234883\n",
      "Epoch 5850: \tavg bid: 0.451802, \tutility: 2.211240\n",
      "Epoch 5900: \tavg bid: 0.470440, \tutility: 2.176082\n",
      "Epoch 5950: \tavg bid: 0.474464, \tutility: 2.107297\n",
      "Epoch 6000: \tavg bid: 0.483450, \tutility: 2.220294\n",
      "Epoch 6050: \tavg bid: 0.498904, \tutility: 2.042251\n",
      "Epoch 6100: \tavg bid: 0.498923, \tutility: 1.983053\n",
      "Epoch 6150: \tavg bid: 0.502489, \tutility: 2.071294\n",
      "Epoch 6200: \tavg bid: 0.501639, \tutility: 1.992499\n",
      "Epoch 6250: \tavg bid: 0.471636, \tutility: 2.212541\n",
      "Epoch 6300: \tavg bid: 0.440452, \tutility: 2.298944\n",
      "Epoch 6350: \tavg bid: 0.464840, \tutility: 2.152879\n",
      "Epoch 6400: \tavg bid: 0.497533, \tutility: 2.050304\n",
      "Epoch 6450: \tavg bid: 0.503800, \tutility: 1.950411\n",
      "Epoch 6500: \tavg bid: 0.479731, \tutility: 2.119072\n",
      "Epoch 6550: \tavg bid: 0.478967, \tutility: 2.120396\n",
      "Epoch 6600: \tavg bid: 0.434583, \tutility: 2.219570\n",
      "Epoch 6650: \tavg bid: 0.432198, \tutility: 2.280898\n",
      "Epoch 6700: \tavg bid: 0.419933, \tutility: 2.362901\n",
      "Epoch 6750: \tavg bid: 0.414569, \tutility: 2.428048\n",
      "Epoch 6800: \tavg bid: 0.410030, \tutility: 2.395510\n",
      "Epoch 6850: \tavg bid: 0.397758, \tutility: 2.507733\n",
      "Epoch 6900: \tavg bid: 0.432037, \tutility: 2.341987\n",
      "Epoch 6950: \tavg bid: 0.452317, \tutility: 2.205565\n",
      "Epoch 7000: \tavg bid: 0.479912, \tutility: 2.026385\n",
      "Epoch 7050: \tavg bid: 0.485318, \tutility: 2.099313\n",
      "Epoch 7100: \tavg bid: 0.465830, \tutility: 2.162332\n",
      "Epoch 7150: \tavg bid: 0.472007, \tutility: 2.144303\n",
      "Epoch 7200: \tavg bid: 0.460599, \tutility: 2.125635\n",
      "Epoch 7250: \tavg bid: 0.471571, \tutility: 2.134292\n",
      "Epoch 7300: \tavg bid: 0.455108, \tutility: 2.175267\n",
      "Epoch 7350: \tavg bid: 0.438836, \tutility: 2.141012\n",
      "Epoch 7400: \tavg bid: 0.429379, \tutility: 2.216727\n"
     ]
    }
   ],
   "source": [
    "torch.cuda.empty_cache()\n",
    "writer = SummaryWriter()\n",
    "log_hyperparams(writer)\n",
    "\n",
    "for e in range(epoch+1):    \n",
    "    \n",
    "    # lr decay?\n",
    "    if lr_decay and e % lr_decay_every == 0 and e > 0:\n",
    "        learning_rate = learning_rate * lr_decay_factor\n",
    "        for param_group in optimizer.param_groups:\n",
    "            param_group['lr'] = learning_rate\n",
    "        writer.add_scalar('hyperparams/learning_rate', learning_rate, e)\n",
    "        \n",
    "    # always: do optimizer step\n",
    "    utility = -optimizer.step()\n",
    "    writer.add_scalar('eval/utility', utility, e) \n",
    "    \n",
    "    # plot + eval\n",
    "    if e % plot_epoch == 0:\n",
    "        # plot current function output\n",
    "        bidder = strat_to_bidder(model, batch_size)\n",
    "        bidder.draw_valuations_()\n",
    "        v = bidder.valuations\n",
    "        b = bidder.get_action()\n",
    "        share = (b/v).mean()\n",
    "        writer.add_scalar('eval/utility', utility, e)\n",
    "        writer.add_scalar('eval/share', share, e)       \n",
    "            \n",
    "        print(\"Epoch {}: \\tavg bid: {:2f}, \\tutility: {:2f}\".format(e, share, utility))                \n",
    "        \n",
    "        # subsample points and plot\n",
    "        v = v.detach().cpu().numpy()[:plot_points]\n",
    "        b= b.detach().cpu().numpy()[:plot_points]\n",
    "        optimal = optimal_bid(v)        \n",
    "        fig = plt.figure()\n",
    "        plt.plot(v,b, 'o', v, optimal, 'r-')        \n",
    "        writer.add_figure('eval/bid_function', fig, e)        \n",
    "        plt.show()\n",
    "        \n",
    "        # first step: write model\n",
    "        if e==0:\n",
    "            writer.add_graph(model, bidder.valuations)        \n",
    "    \n",
    "   \n",
    "        \n",
    "torch.cuda.empty_cache()\n",
    "writer.close()"
   ]
  },
  {
   "cell_type": "code",
   "execution_count": null,
   "metadata": {},
   "outputs": [],
   "source": []
  }
 ],
 "metadata": {
  "kernelspec": {
   "display_name": "Python 3",
   "language": "python",
   "name": "python3"
  },
  "language_info": {
   "codemirror_mode": {
    "name": "ipython",
    "version": 3
   },
   "file_extension": ".py",
   "mimetype": "text/x-python",
   "name": "python",
   "nbconvert_exporter": "python",
   "pygments_lexer": "ipython3",
   "version": "3.7.0"
  }
 },
 "nbformat": 4,
 "nbformat_minor": 2
}
